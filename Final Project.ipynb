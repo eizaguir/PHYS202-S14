{
 "metadata": {
  "name": "",
  "signature": "sha256:7893a32327164d2532a430a73d877cd0513f6a0e75a998e5239b6952f5e3e340"
 },
 "nbformat": 3,
 "nbformat_minor": 0,
 "worksheets": [
  {
   "cells": [
    {
     "cell_type": "heading",
     "level": 1,
     "metadata": {},
     "source": [
      "Final Project - Schelling Model"
     ]
    },
    {
     "cell_type": "code",
     "collapsed": false,
     "input": [
      "from ipythonblocks import BlockGrid\n",
      "from ipythonblocks import colors\n",
      "from IPython.display import clear_output\n",
      "import random\n",
      "\n",
      "%pylab inline\n",
      "import numpy as np\n",
      "import random as rand\n",
      "\n",
      "xsize = 8\n",
      "ysize = 8\n",
      "grid = BlockGrid(xsize, ysize, fill=(200, 200, 200))\n",
      "grid "
     ],
     "language": "python",
     "metadata": {},
     "outputs": [
      {
       "output_type": "stream",
       "stream": "stdout",
       "text": [
        "Populating the interactive namespace from numpy and matplotlib\n"
       ]
      },
      {
       "output_type": "stream",
       "stream": "stderr",
       "text": [
        "WARNING: pylab import has clobbered these variables: ['rand', 'size', 'random', 'colors', 'grid']\n",
        "`%matplotlib` prevents importing * from pylab and numpy\n"
       ]
      },
      {
       "html": [
        "<style type=\"text/css\">table.blockgrid {border: none;} .blockgrid tr {border: none;} .blockgrid td {padding: 0px;} #blocks11d72381-c168-4acd-958d-37a37fa86156 td {border: 1px solid white;}</style><table id=\"blocks11d72381-c168-4acd-958d-37a37fa86156\" class=\"blockgrid\"><tbody><tr><td title=\"Index: [0, 0]&#10;Color: (200, 200, 200)\" style=\"width: 20px; height: 20px;background-color: rgb(200, 200, 200);\"></td><td title=\"Index: [0, 1]&#10;Color: (200, 200, 200)\" style=\"width: 20px; height: 20px;background-color: rgb(200, 200, 200);\"></td><td title=\"Index: [0, 2]&#10;Color: (200, 200, 200)\" style=\"width: 20px; height: 20px;background-color: rgb(200, 200, 200);\"></td><td title=\"Index: [0, 3]&#10;Color: (200, 200, 200)\" style=\"width: 20px; height: 20px;background-color: rgb(200, 200, 200);\"></td><td title=\"Index: [0, 4]&#10;Color: (200, 200, 200)\" style=\"width: 20px; height: 20px;background-color: rgb(200, 200, 200);\"></td><td title=\"Index: [0, 5]&#10;Color: (200, 200, 200)\" style=\"width: 20px; height: 20px;background-color: rgb(200, 200, 200);\"></td><td title=\"Index: [0, 6]&#10;Color: (200, 200, 200)\" style=\"width: 20px; height: 20px;background-color: rgb(200, 200, 200);\"></td><td title=\"Index: [0, 7]&#10;Color: (200, 200, 200)\" style=\"width: 20px; height: 20px;background-color: rgb(200, 200, 200);\"></td></tr><tr><td title=\"Index: [1, 0]&#10;Color: (200, 200, 200)\" style=\"width: 20px; height: 20px;background-color: rgb(200, 200, 200);\"></td><td title=\"Index: [1, 1]&#10;Color: (200, 200, 200)\" style=\"width: 20px; height: 20px;background-color: rgb(200, 200, 200);\"></td><td title=\"Index: [1, 2]&#10;Color: (200, 200, 200)\" style=\"width: 20px; height: 20px;background-color: rgb(200, 200, 200);\"></td><td title=\"Index: [1, 3]&#10;Color: (200, 200, 200)\" style=\"width: 20px; height: 20px;background-color: rgb(200, 200, 200);\"></td><td title=\"Index: [1, 4]&#10;Color: (200, 200, 200)\" style=\"width: 20px; height: 20px;background-color: rgb(200, 200, 200);\"></td><td title=\"Index: [1, 5]&#10;Color: (200, 200, 200)\" style=\"width: 20px; height: 20px;background-color: rgb(200, 200, 200);\"></td><td title=\"Index: [1, 6]&#10;Color: (200, 200, 200)\" style=\"width: 20px; height: 20px;background-color: rgb(200, 200, 200);\"></td><td title=\"Index: [1, 7]&#10;Color: (200, 200, 200)\" style=\"width: 20px; height: 20px;background-color: rgb(200, 200, 200);\"></td></tr><tr><td title=\"Index: [2, 0]&#10;Color: (200, 200, 200)\" style=\"width: 20px; height: 20px;background-color: rgb(200, 200, 200);\"></td><td title=\"Index: [2, 1]&#10;Color: (200, 200, 200)\" style=\"width: 20px; height: 20px;background-color: rgb(200, 200, 200);\"></td><td title=\"Index: [2, 2]&#10;Color: (200, 200, 200)\" style=\"width: 20px; height: 20px;background-color: rgb(200, 200, 200);\"></td><td title=\"Index: [2, 3]&#10;Color: (200, 200, 200)\" style=\"width: 20px; height: 20px;background-color: rgb(200, 200, 200);\"></td><td title=\"Index: [2, 4]&#10;Color: (200, 200, 200)\" style=\"width: 20px; height: 20px;background-color: rgb(200, 200, 200);\"></td><td title=\"Index: [2, 5]&#10;Color: (200, 200, 200)\" style=\"width: 20px; height: 20px;background-color: rgb(200, 200, 200);\"></td><td title=\"Index: [2, 6]&#10;Color: (200, 200, 200)\" style=\"width: 20px; height: 20px;background-color: rgb(200, 200, 200);\"></td><td title=\"Index: [2, 7]&#10;Color: (200, 200, 200)\" style=\"width: 20px; height: 20px;background-color: rgb(200, 200, 200);\"></td></tr><tr><td title=\"Index: [3, 0]&#10;Color: (200, 200, 200)\" style=\"width: 20px; height: 20px;background-color: rgb(200, 200, 200);\"></td><td title=\"Index: [3, 1]&#10;Color: (200, 200, 200)\" style=\"width: 20px; height: 20px;background-color: rgb(200, 200, 200);\"></td><td title=\"Index: [3, 2]&#10;Color: (200, 200, 200)\" style=\"width: 20px; height: 20px;background-color: rgb(200, 200, 200);\"></td><td title=\"Index: [3, 3]&#10;Color: (200, 200, 200)\" style=\"width: 20px; height: 20px;background-color: rgb(200, 200, 200);\"></td><td title=\"Index: [3, 4]&#10;Color: (200, 200, 200)\" style=\"width: 20px; height: 20px;background-color: rgb(200, 200, 200);\"></td><td title=\"Index: [3, 5]&#10;Color: (200, 200, 200)\" style=\"width: 20px; height: 20px;background-color: rgb(200, 200, 200);\"></td><td title=\"Index: [3, 6]&#10;Color: (200, 200, 200)\" style=\"width: 20px; height: 20px;background-color: rgb(200, 200, 200);\"></td><td title=\"Index: [3, 7]&#10;Color: (200, 200, 200)\" style=\"width: 20px; height: 20px;background-color: rgb(200, 200, 200);\"></td></tr><tr><td title=\"Index: [4, 0]&#10;Color: (200, 200, 200)\" style=\"width: 20px; height: 20px;background-color: rgb(200, 200, 200);\"></td><td title=\"Index: [4, 1]&#10;Color: (200, 200, 200)\" style=\"width: 20px; height: 20px;background-color: rgb(200, 200, 200);\"></td><td title=\"Index: [4, 2]&#10;Color: (200, 200, 200)\" style=\"width: 20px; height: 20px;background-color: rgb(200, 200, 200);\"></td><td title=\"Index: [4, 3]&#10;Color: (200, 200, 200)\" style=\"width: 20px; height: 20px;background-color: rgb(200, 200, 200);\"></td><td title=\"Index: [4, 4]&#10;Color: (200, 200, 200)\" style=\"width: 20px; height: 20px;background-color: rgb(200, 200, 200);\"></td><td title=\"Index: [4, 5]&#10;Color: (200, 200, 200)\" style=\"width: 20px; height: 20px;background-color: rgb(200, 200, 200);\"></td><td title=\"Index: [4, 6]&#10;Color: (200, 200, 200)\" style=\"width: 20px; height: 20px;background-color: rgb(200, 200, 200);\"></td><td title=\"Index: [4, 7]&#10;Color: (200, 200, 200)\" style=\"width: 20px; height: 20px;background-color: rgb(200, 200, 200);\"></td></tr><tr><td title=\"Index: [5, 0]&#10;Color: (200, 200, 200)\" style=\"width: 20px; height: 20px;background-color: rgb(200, 200, 200);\"></td><td title=\"Index: [5, 1]&#10;Color: (200, 200, 200)\" style=\"width: 20px; height: 20px;background-color: rgb(200, 200, 200);\"></td><td title=\"Index: [5, 2]&#10;Color: (200, 200, 200)\" style=\"width: 20px; height: 20px;background-color: rgb(200, 200, 200);\"></td><td title=\"Index: [5, 3]&#10;Color: (200, 200, 200)\" style=\"width: 20px; height: 20px;background-color: rgb(200, 200, 200);\"></td><td title=\"Index: [5, 4]&#10;Color: (200, 200, 200)\" style=\"width: 20px; height: 20px;background-color: rgb(200, 200, 200);\"></td><td title=\"Index: [5, 5]&#10;Color: (200, 200, 200)\" style=\"width: 20px; height: 20px;background-color: rgb(200, 200, 200);\"></td><td title=\"Index: [5, 6]&#10;Color: (200, 200, 200)\" style=\"width: 20px; height: 20px;background-color: rgb(200, 200, 200);\"></td><td title=\"Index: [5, 7]&#10;Color: (200, 200, 200)\" style=\"width: 20px; height: 20px;background-color: rgb(200, 200, 200);\"></td></tr><tr><td title=\"Index: [6, 0]&#10;Color: (200, 200, 200)\" style=\"width: 20px; height: 20px;background-color: rgb(200, 200, 200);\"></td><td title=\"Index: [6, 1]&#10;Color: (200, 200, 200)\" style=\"width: 20px; height: 20px;background-color: rgb(200, 200, 200);\"></td><td title=\"Index: [6, 2]&#10;Color: (200, 200, 200)\" style=\"width: 20px; height: 20px;background-color: rgb(200, 200, 200);\"></td><td title=\"Index: [6, 3]&#10;Color: (200, 200, 200)\" style=\"width: 20px; height: 20px;background-color: rgb(200, 200, 200);\"></td><td title=\"Index: [6, 4]&#10;Color: (200, 200, 200)\" style=\"width: 20px; height: 20px;background-color: rgb(200, 200, 200);\"></td><td title=\"Index: [6, 5]&#10;Color: (200, 200, 200)\" style=\"width: 20px; height: 20px;background-color: rgb(200, 200, 200);\"></td><td title=\"Index: [6, 6]&#10;Color: (200, 200, 200)\" style=\"width: 20px; height: 20px;background-color: rgb(200, 200, 200);\"></td><td title=\"Index: [6, 7]&#10;Color: (200, 200, 200)\" style=\"width: 20px; height: 20px;background-color: rgb(200, 200, 200);\"></td></tr><tr><td title=\"Index: [7, 0]&#10;Color: (200, 200, 200)\" style=\"width: 20px; height: 20px;background-color: rgb(200, 200, 200);\"></td><td title=\"Index: [7, 1]&#10;Color: (200, 200, 200)\" style=\"width: 20px; height: 20px;background-color: rgb(200, 200, 200);\"></td><td title=\"Index: [7, 2]&#10;Color: (200, 200, 200)\" style=\"width: 20px; height: 20px;background-color: rgb(200, 200, 200);\"></td><td title=\"Index: [7, 3]&#10;Color: (200, 200, 200)\" style=\"width: 20px; height: 20px;background-color: rgb(200, 200, 200);\"></td><td title=\"Index: [7, 4]&#10;Color: (200, 200, 200)\" style=\"width: 20px; height: 20px;background-color: rgb(200, 200, 200);\"></td><td title=\"Index: [7, 5]&#10;Color: (200, 200, 200)\" style=\"width: 20px; height: 20px;background-color: rgb(200, 200, 200);\"></td><td title=\"Index: [7, 6]&#10;Color: (200, 200, 200)\" style=\"width: 20px; height: 20px;background-color: rgb(200, 200, 200);\"></td><td title=\"Index: [7, 7]&#10;Color: (200, 200, 200)\" style=\"width: 20px; height: 20px;background-color: rgb(200, 200, 200);\"></td></tr></tbody></table>"
       ],
       "metadata": {},
       "output_type": "pyout",
       "prompt_number": 93,
       "text": [
        "<ipythonblocks.ipythonblocks.BlockGrid at 0xa691e10>"
       ]
      }
     ],
     "prompt_number": 93
    },
    {
     "cell_type": "code",
     "collapsed": false,
     "input": [
      "BLUE = (50,150,255)\n",
      "RED = (255,0,0)\n",
      "grid.show()"
     ],
     "language": "python",
     "metadata": {},
     "outputs": [
      {
       "html": [
        "<style type=\"text/css\">table.blockgrid {border: none;} .blockgrid tr {border: none;} .blockgrid td {padding: 0px;} #blocks6a68fe2f-1cf2-4d54-aa95-d268b26081d8 td {border: 1px solid white;}</style><table id=\"blocks6a68fe2f-1cf2-4d54-aa95-d268b26081d8\" class=\"blockgrid\"><tbody><tr><td title=\"Index: [0, 0]&#10;Color: (200, 200, 200)\" style=\"width: 20px; height: 20px;background-color: rgb(200, 200, 200);\"></td><td title=\"Index: [0, 1]&#10;Color: (200, 200, 200)\" style=\"width: 20px; height: 20px;background-color: rgb(200, 200, 200);\"></td><td title=\"Index: [0, 2]&#10;Color: (200, 200, 200)\" style=\"width: 20px; height: 20px;background-color: rgb(200, 200, 200);\"></td><td title=\"Index: [0, 3]&#10;Color: (200, 200, 200)\" style=\"width: 20px; height: 20px;background-color: rgb(200, 200, 200);\"></td><td title=\"Index: [0, 4]&#10;Color: (200, 200, 200)\" style=\"width: 20px; height: 20px;background-color: rgb(200, 200, 200);\"></td><td title=\"Index: [0, 5]&#10;Color: (200, 200, 200)\" style=\"width: 20px; height: 20px;background-color: rgb(200, 200, 200);\"></td><td title=\"Index: [0, 6]&#10;Color: (200, 200, 200)\" style=\"width: 20px; height: 20px;background-color: rgb(200, 200, 200);\"></td><td title=\"Index: [0, 7]&#10;Color: (200, 200, 200)\" style=\"width: 20px; height: 20px;background-color: rgb(200, 200, 200);\"></td></tr><tr><td title=\"Index: [1, 0]&#10;Color: (200, 200, 200)\" style=\"width: 20px; height: 20px;background-color: rgb(200, 200, 200);\"></td><td title=\"Index: [1, 1]&#10;Color: (200, 200, 200)\" style=\"width: 20px; height: 20px;background-color: rgb(200, 200, 200);\"></td><td title=\"Index: [1, 2]&#10;Color: (200, 200, 200)\" style=\"width: 20px; height: 20px;background-color: rgb(200, 200, 200);\"></td><td title=\"Index: [1, 3]&#10;Color: (200, 200, 200)\" style=\"width: 20px; height: 20px;background-color: rgb(200, 200, 200);\"></td><td title=\"Index: [1, 4]&#10;Color: (200, 200, 200)\" style=\"width: 20px; height: 20px;background-color: rgb(200, 200, 200);\"></td><td title=\"Index: [1, 5]&#10;Color: (200, 200, 200)\" style=\"width: 20px; height: 20px;background-color: rgb(200, 200, 200);\"></td><td title=\"Index: [1, 6]&#10;Color: (200, 200, 200)\" style=\"width: 20px; height: 20px;background-color: rgb(200, 200, 200);\"></td><td title=\"Index: [1, 7]&#10;Color: (200, 200, 200)\" style=\"width: 20px; height: 20px;background-color: rgb(200, 200, 200);\"></td></tr><tr><td title=\"Index: [2, 0]&#10;Color: (200, 200, 200)\" style=\"width: 20px; height: 20px;background-color: rgb(200, 200, 200);\"></td><td title=\"Index: [2, 1]&#10;Color: (200, 200, 200)\" style=\"width: 20px; height: 20px;background-color: rgb(200, 200, 200);\"></td><td title=\"Index: [2, 2]&#10;Color: (200, 200, 200)\" style=\"width: 20px; height: 20px;background-color: rgb(200, 200, 200);\"></td><td title=\"Index: [2, 3]&#10;Color: (200, 200, 200)\" style=\"width: 20px; height: 20px;background-color: rgb(200, 200, 200);\"></td><td title=\"Index: [2, 4]&#10;Color: (200, 200, 200)\" style=\"width: 20px; height: 20px;background-color: rgb(200, 200, 200);\"></td><td title=\"Index: [2, 5]&#10;Color: (200, 200, 200)\" style=\"width: 20px; height: 20px;background-color: rgb(200, 200, 200);\"></td><td title=\"Index: [2, 6]&#10;Color: (200, 200, 200)\" style=\"width: 20px; height: 20px;background-color: rgb(200, 200, 200);\"></td><td title=\"Index: [2, 7]&#10;Color: (200, 200, 200)\" style=\"width: 20px; height: 20px;background-color: rgb(200, 200, 200);\"></td></tr><tr><td title=\"Index: [3, 0]&#10;Color: (200, 200, 200)\" style=\"width: 20px; height: 20px;background-color: rgb(200, 200, 200);\"></td><td title=\"Index: [3, 1]&#10;Color: (200, 200, 200)\" style=\"width: 20px; height: 20px;background-color: rgb(200, 200, 200);\"></td><td title=\"Index: [3, 2]&#10;Color: (200, 200, 200)\" style=\"width: 20px; height: 20px;background-color: rgb(200, 200, 200);\"></td><td title=\"Index: [3, 3]&#10;Color: (200, 200, 200)\" style=\"width: 20px; height: 20px;background-color: rgb(200, 200, 200);\"></td><td title=\"Index: [3, 4]&#10;Color: (200, 200, 200)\" style=\"width: 20px; height: 20px;background-color: rgb(200, 200, 200);\"></td><td title=\"Index: [3, 5]&#10;Color: (200, 200, 200)\" style=\"width: 20px; height: 20px;background-color: rgb(200, 200, 200);\"></td><td title=\"Index: [3, 6]&#10;Color: (200, 200, 200)\" style=\"width: 20px; height: 20px;background-color: rgb(200, 200, 200);\"></td><td title=\"Index: [3, 7]&#10;Color: (200, 200, 200)\" style=\"width: 20px; height: 20px;background-color: rgb(200, 200, 200);\"></td></tr><tr><td title=\"Index: [4, 0]&#10;Color: (200, 200, 200)\" style=\"width: 20px; height: 20px;background-color: rgb(200, 200, 200);\"></td><td title=\"Index: [4, 1]&#10;Color: (200, 200, 200)\" style=\"width: 20px; height: 20px;background-color: rgb(200, 200, 200);\"></td><td title=\"Index: [4, 2]&#10;Color: (200, 200, 200)\" style=\"width: 20px; height: 20px;background-color: rgb(200, 200, 200);\"></td><td title=\"Index: [4, 3]&#10;Color: (200, 200, 200)\" style=\"width: 20px; height: 20px;background-color: rgb(200, 200, 200);\"></td><td title=\"Index: [4, 4]&#10;Color: (200, 200, 200)\" style=\"width: 20px; height: 20px;background-color: rgb(200, 200, 200);\"></td><td title=\"Index: [4, 5]&#10;Color: (200, 200, 200)\" style=\"width: 20px; height: 20px;background-color: rgb(200, 200, 200);\"></td><td title=\"Index: [4, 6]&#10;Color: (200, 200, 200)\" style=\"width: 20px; height: 20px;background-color: rgb(200, 200, 200);\"></td><td title=\"Index: [4, 7]&#10;Color: (200, 200, 200)\" style=\"width: 20px; height: 20px;background-color: rgb(200, 200, 200);\"></td></tr><tr><td title=\"Index: [5, 0]&#10;Color: (200, 200, 200)\" style=\"width: 20px; height: 20px;background-color: rgb(200, 200, 200);\"></td><td title=\"Index: [5, 1]&#10;Color: (200, 200, 200)\" style=\"width: 20px; height: 20px;background-color: rgb(200, 200, 200);\"></td><td title=\"Index: [5, 2]&#10;Color: (200, 200, 200)\" style=\"width: 20px; height: 20px;background-color: rgb(200, 200, 200);\"></td><td title=\"Index: [5, 3]&#10;Color: (200, 200, 200)\" style=\"width: 20px; height: 20px;background-color: rgb(200, 200, 200);\"></td><td title=\"Index: [5, 4]&#10;Color: (200, 200, 200)\" style=\"width: 20px; height: 20px;background-color: rgb(200, 200, 200);\"></td><td title=\"Index: [5, 5]&#10;Color: (200, 200, 200)\" style=\"width: 20px; height: 20px;background-color: rgb(200, 200, 200);\"></td><td title=\"Index: [5, 6]&#10;Color: (200, 200, 200)\" style=\"width: 20px; height: 20px;background-color: rgb(200, 200, 200);\"></td><td title=\"Index: [5, 7]&#10;Color: (200, 200, 200)\" style=\"width: 20px; height: 20px;background-color: rgb(200, 200, 200);\"></td></tr><tr><td title=\"Index: [6, 0]&#10;Color: (200, 200, 200)\" style=\"width: 20px; height: 20px;background-color: rgb(200, 200, 200);\"></td><td title=\"Index: [6, 1]&#10;Color: (200, 200, 200)\" style=\"width: 20px; height: 20px;background-color: rgb(200, 200, 200);\"></td><td title=\"Index: [6, 2]&#10;Color: (200, 200, 200)\" style=\"width: 20px; height: 20px;background-color: rgb(200, 200, 200);\"></td><td title=\"Index: [6, 3]&#10;Color: (200, 200, 200)\" style=\"width: 20px; height: 20px;background-color: rgb(200, 200, 200);\"></td><td title=\"Index: [6, 4]&#10;Color: (200, 200, 200)\" style=\"width: 20px; height: 20px;background-color: rgb(200, 200, 200);\"></td><td title=\"Index: [6, 5]&#10;Color: (200, 200, 200)\" style=\"width: 20px; height: 20px;background-color: rgb(200, 200, 200);\"></td><td title=\"Index: [6, 6]&#10;Color: (200, 200, 200)\" style=\"width: 20px; height: 20px;background-color: rgb(200, 200, 200);\"></td><td title=\"Index: [6, 7]&#10;Color: (200, 200, 200)\" style=\"width: 20px; height: 20px;background-color: rgb(200, 200, 200);\"></td></tr><tr><td title=\"Index: [7, 0]&#10;Color: (200, 200, 200)\" style=\"width: 20px; height: 20px;background-color: rgb(200, 200, 200);\"></td><td title=\"Index: [7, 1]&#10;Color: (200, 200, 200)\" style=\"width: 20px; height: 20px;background-color: rgb(200, 200, 200);\"></td><td title=\"Index: [7, 2]&#10;Color: (200, 200, 200)\" style=\"width: 20px; height: 20px;background-color: rgb(200, 200, 200);\"></td><td title=\"Index: [7, 3]&#10;Color: (200, 200, 200)\" style=\"width: 20px; height: 20px;background-color: rgb(200, 200, 200);\"></td><td title=\"Index: [7, 4]&#10;Color: (200, 200, 200)\" style=\"width: 20px; height: 20px;background-color: rgb(200, 200, 200);\"></td><td title=\"Index: [7, 5]&#10;Color: (200, 200, 200)\" style=\"width: 20px; height: 20px;background-color: rgb(200, 200, 200);\"></td><td title=\"Index: [7, 6]&#10;Color: (200, 200, 200)\" style=\"width: 20px; height: 20px;background-color: rgb(200, 200, 200);\"></td><td title=\"Index: [7, 7]&#10;Color: (200, 200, 200)\" style=\"width: 20px; height: 20px;background-color: rgb(200, 200, 200);\"></td></tr></tbody></table>"
       ],
       "metadata": {},
       "output_type": "display_data",
       "text": [
        "<IPython.core.display.HTML at 0xa740240>"
       ]
      }
     ],
     "prompt_number": 94
    },
    {
     "cell_type": "code",
     "collapsed": false,
     "input": [
      "x,y = grid.shape\n",
      "size = x*y\n",
      "arr = np.arange(1, size+1).reshape(xsize, ysize)\n",
      "print arr"
     ],
     "language": "python",
     "metadata": {},
     "outputs": [
      {
       "output_type": "stream",
       "stream": "stdout",
       "text": [
        "[[ 1  2  3  4  5  6  7  8]\n",
        " [ 9 10 11 12 13 14 15 16]\n",
        " [17 18 19 20 21 22 23 24]\n",
        " [25 26 27 28 29 30 31 32]\n",
        " [33 34 35 36 37 38 39 40]\n",
        " [41 42 43 44 45 46 47 48]\n",
        " [49 50 51 52 53 54 55 56]\n",
        " [57 58 59 60 61 62 63 64]]\n"
       ]
      }
     ],
     "prompt_number": 95
    },
    {
     "cell_type": "code",
     "collapsed": false,
     "input": [
      "print where(arr==64)\n",
      "\n",
      "x, y = where(arr==64)\n",
      "a = int(x[0])\n",
      "b = int(y[0])\n",
      "print a,b\n",
      "grid[a,b] = BLUE\n",
      "grid.show()"
     ],
     "language": "python",
     "metadata": {},
     "outputs": [
      {
       "output_type": "stream",
       "stream": "stdout",
       "text": [
        "(array([7], dtype=int64), array([7], dtype=int64))\n",
        "7 7\n"
       ]
      },
      {
       "html": [
        "<style type=\"text/css\">table.blockgrid {border: none;} .blockgrid tr {border: none;} .blockgrid td {padding: 0px;} #blocks66464b7f-f0be-4a19-92c3-7f7324b360c9 td {border: 1px solid white;}</style><table id=\"blocks66464b7f-f0be-4a19-92c3-7f7324b360c9\" class=\"blockgrid\"><tbody><tr><td title=\"Index: [0, 0]&#10;Color: (200, 200, 200)\" style=\"width: 20px; height: 20px;background-color: rgb(200, 200, 200);\"></td><td title=\"Index: [0, 1]&#10;Color: (200, 200, 200)\" style=\"width: 20px; height: 20px;background-color: rgb(200, 200, 200);\"></td><td title=\"Index: [0, 2]&#10;Color: (200, 200, 200)\" style=\"width: 20px; height: 20px;background-color: rgb(200, 200, 200);\"></td><td title=\"Index: [0, 3]&#10;Color: (200, 200, 200)\" style=\"width: 20px; height: 20px;background-color: rgb(200, 200, 200);\"></td><td title=\"Index: [0, 4]&#10;Color: (200, 200, 200)\" style=\"width: 20px; height: 20px;background-color: rgb(200, 200, 200);\"></td><td title=\"Index: [0, 5]&#10;Color: (200, 200, 200)\" style=\"width: 20px; height: 20px;background-color: rgb(200, 200, 200);\"></td><td title=\"Index: [0, 6]&#10;Color: (200, 200, 200)\" style=\"width: 20px; height: 20px;background-color: rgb(200, 200, 200);\"></td><td title=\"Index: [0, 7]&#10;Color: (200, 200, 200)\" style=\"width: 20px; height: 20px;background-color: rgb(200, 200, 200);\"></td></tr><tr><td title=\"Index: [1, 0]&#10;Color: (200, 200, 200)\" style=\"width: 20px; height: 20px;background-color: rgb(200, 200, 200);\"></td><td title=\"Index: [1, 1]&#10;Color: (200, 200, 200)\" style=\"width: 20px; height: 20px;background-color: rgb(200, 200, 200);\"></td><td title=\"Index: [1, 2]&#10;Color: (200, 200, 200)\" style=\"width: 20px; height: 20px;background-color: rgb(200, 200, 200);\"></td><td title=\"Index: [1, 3]&#10;Color: (200, 200, 200)\" style=\"width: 20px; height: 20px;background-color: rgb(200, 200, 200);\"></td><td title=\"Index: [1, 4]&#10;Color: (200, 200, 200)\" style=\"width: 20px; height: 20px;background-color: rgb(200, 200, 200);\"></td><td title=\"Index: [1, 5]&#10;Color: (200, 200, 200)\" style=\"width: 20px; height: 20px;background-color: rgb(200, 200, 200);\"></td><td title=\"Index: [1, 6]&#10;Color: (200, 200, 200)\" style=\"width: 20px; height: 20px;background-color: rgb(200, 200, 200);\"></td><td title=\"Index: [1, 7]&#10;Color: (200, 200, 200)\" style=\"width: 20px; height: 20px;background-color: rgb(200, 200, 200);\"></td></tr><tr><td title=\"Index: [2, 0]&#10;Color: (200, 200, 200)\" style=\"width: 20px; height: 20px;background-color: rgb(200, 200, 200);\"></td><td title=\"Index: [2, 1]&#10;Color: (200, 200, 200)\" style=\"width: 20px; height: 20px;background-color: rgb(200, 200, 200);\"></td><td title=\"Index: [2, 2]&#10;Color: (200, 200, 200)\" style=\"width: 20px; height: 20px;background-color: rgb(200, 200, 200);\"></td><td title=\"Index: [2, 3]&#10;Color: (200, 200, 200)\" style=\"width: 20px; height: 20px;background-color: rgb(200, 200, 200);\"></td><td title=\"Index: [2, 4]&#10;Color: (200, 200, 200)\" style=\"width: 20px; height: 20px;background-color: rgb(200, 200, 200);\"></td><td title=\"Index: [2, 5]&#10;Color: (200, 200, 200)\" style=\"width: 20px; height: 20px;background-color: rgb(200, 200, 200);\"></td><td title=\"Index: [2, 6]&#10;Color: (200, 200, 200)\" style=\"width: 20px; height: 20px;background-color: rgb(200, 200, 200);\"></td><td title=\"Index: [2, 7]&#10;Color: (200, 200, 200)\" style=\"width: 20px; height: 20px;background-color: rgb(200, 200, 200);\"></td></tr><tr><td title=\"Index: [3, 0]&#10;Color: (200, 200, 200)\" style=\"width: 20px; height: 20px;background-color: rgb(200, 200, 200);\"></td><td title=\"Index: [3, 1]&#10;Color: (200, 200, 200)\" style=\"width: 20px; height: 20px;background-color: rgb(200, 200, 200);\"></td><td title=\"Index: [3, 2]&#10;Color: (200, 200, 200)\" style=\"width: 20px; height: 20px;background-color: rgb(200, 200, 200);\"></td><td title=\"Index: [3, 3]&#10;Color: (200, 200, 200)\" style=\"width: 20px; height: 20px;background-color: rgb(200, 200, 200);\"></td><td title=\"Index: [3, 4]&#10;Color: (200, 200, 200)\" style=\"width: 20px; height: 20px;background-color: rgb(200, 200, 200);\"></td><td title=\"Index: [3, 5]&#10;Color: (200, 200, 200)\" style=\"width: 20px; height: 20px;background-color: rgb(200, 200, 200);\"></td><td title=\"Index: [3, 6]&#10;Color: (200, 200, 200)\" style=\"width: 20px; height: 20px;background-color: rgb(200, 200, 200);\"></td><td title=\"Index: [3, 7]&#10;Color: (200, 200, 200)\" style=\"width: 20px; height: 20px;background-color: rgb(200, 200, 200);\"></td></tr><tr><td title=\"Index: [4, 0]&#10;Color: (200, 200, 200)\" style=\"width: 20px; height: 20px;background-color: rgb(200, 200, 200);\"></td><td title=\"Index: [4, 1]&#10;Color: (200, 200, 200)\" style=\"width: 20px; height: 20px;background-color: rgb(200, 200, 200);\"></td><td title=\"Index: [4, 2]&#10;Color: (200, 200, 200)\" style=\"width: 20px; height: 20px;background-color: rgb(200, 200, 200);\"></td><td title=\"Index: [4, 3]&#10;Color: (200, 200, 200)\" style=\"width: 20px; height: 20px;background-color: rgb(200, 200, 200);\"></td><td title=\"Index: [4, 4]&#10;Color: (200, 200, 200)\" style=\"width: 20px; height: 20px;background-color: rgb(200, 200, 200);\"></td><td title=\"Index: [4, 5]&#10;Color: (200, 200, 200)\" style=\"width: 20px; height: 20px;background-color: rgb(200, 200, 200);\"></td><td title=\"Index: [4, 6]&#10;Color: (200, 200, 200)\" style=\"width: 20px; height: 20px;background-color: rgb(200, 200, 200);\"></td><td title=\"Index: [4, 7]&#10;Color: (200, 200, 200)\" style=\"width: 20px; height: 20px;background-color: rgb(200, 200, 200);\"></td></tr><tr><td title=\"Index: [5, 0]&#10;Color: (200, 200, 200)\" style=\"width: 20px; height: 20px;background-color: rgb(200, 200, 200);\"></td><td title=\"Index: [5, 1]&#10;Color: (200, 200, 200)\" style=\"width: 20px; height: 20px;background-color: rgb(200, 200, 200);\"></td><td title=\"Index: [5, 2]&#10;Color: (200, 200, 200)\" style=\"width: 20px; height: 20px;background-color: rgb(200, 200, 200);\"></td><td title=\"Index: [5, 3]&#10;Color: (200, 200, 200)\" style=\"width: 20px; height: 20px;background-color: rgb(200, 200, 200);\"></td><td title=\"Index: [5, 4]&#10;Color: (200, 200, 200)\" style=\"width: 20px; height: 20px;background-color: rgb(200, 200, 200);\"></td><td title=\"Index: [5, 5]&#10;Color: (200, 200, 200)\" style=\"width: 20px; height: 20px;background-color: rgb(200, 200, 200);\"></td><td title=\"Index: [5, 6]&#10;Color: (200, 200, 200)\" style=\"width: 20px; height: 20px;background-color: rgb(200, 200, 200);\"></td><td title=\"Index: [5, 7]&#10;Color: (200, 200, 200)\" style=\"width: 20px; height: 20px;background-color: rgb(200, 200, 200);\"></td></tr><tr><td title=\"Index: [6, 0]&#10;Color: (200, 200, 200)\" style=\"width: 20px; height: 20px;background-color: rgb(200, 200, 200);\"></td><td title=\"Index: [6, 1]&#10;Color: (200, 200, 200)\" style=\"width: 20px; height: 20px;background-color: rgb(200, 200, 200);\"></td><td title=\"Index: [6, 2]&#10;Color: (200, 200, 200)\" style=\"width: 20px; height: 20px;background-color: rgb(200, 200, 200);\"></td><td title=\"Index: [6, 3]&#10;Color: (200, 200, 200)\" style=\"width: 20px; height: 20px;background-color: rgb(200, 200, 200);\"></td><td title=\"Index: [6, 4]&#10;Color: (200, 200, 200)\" style=\"width: 20px; height: 20px;background-color: rgb(200, 200, 200);\"></td><td title=\"Index: [6, 5]&#10;Color: (200, 200, 200)\" style=\"width: 20px; height: 20px;background-color: rgb(200, 200, 200);\"></td><td title=\"Index: [6, 6]&#10;Color: (200, 200, 200)\" style=\"width: 20px; height: 20px;background-color: rgb(200, 200, 200);\"></td><td title=\"Index: [6, 7]&#10;Color: (200, 200, 200)\" style=\"width: 20px; height: 20px;background-color: rgb(200, 200, 200);\"></td></tr><tr><td title=\"Index: [7, 0]&#10;Color: (200, 200, 200)\" style=\"width: 20px; height: 20px;background-color: rgb(200, 200, 200);\"></td><td title=\"Index: [7, 1]&#10;Color: (200, 200, 200)\" style=\"width: 20px; height: 20px;background-color: rgb(200, 200, 200);\"></td><td title=\"Index: [7, 2]&#10;Color: (200, 200, 200)\" style=\"width: 20px; height: 20px;background-color: rgb(200, 200, 200);\"></td><td title=\"Index: [7, 3]&#10;Color: (200, 200, 200)\" style=\"width: 20px; height: 20px;background-color: rgb(200, 200, 200);\"></td><td title=\"Index: [7, 4]&#10;Color: (200, 200, 200)\" style=\"width: 20px; height: 20px;background-color: rgb(200, 200, 200);\"></td><td title=\"Index: [7, 5]&#10;Color: (200, 200, 200)\" style=\"width: 20px; height: 20px;background-color: rgb(200, 200, 200);\"></td><td title=\"Index: [7, 6]&#10;Color: (200, 200, 200)\" style=\"width: 20px; height: 20px;background-color: rgb(200, 200, 200);\"></td><td title=\"Index: [7, 7]&#10;Color: (50, 150, 255)\" style=\"width: 20px; height: 20px;background-color: rgb(50, 150, 255);\"></td></tr></tbody></table>"
       ],
       "metadata": {},
       "output_type": "display_data",
       "text": [
        "<IPython.core.display.HTML at 0xa69bf28>"
       ]
      }
     ],
     "prompt_number": 96
    },
    {
     "cell_type": "code",
     "collapsed": false,
     "input": [
      "def InsertIntoArray(array,taken,AssignAmt):\n",
      "    total = 0\n",
      "    while total < AssignAmt:\n",
      "        j = random.randint(1,size,emptyspace)\n",
      "        if j not in taken:\n",
      "            arr[i] = j\n",
      "            total +=1\n",
      "    "
     ],
     "language": "python",
     "metadata": {},
     "outputs": [],
     "prompt_number": 97
    },
    {
     "cell_type": "code",
     "collapsed": false,
     "input": [
      "def one_color(target_grid, color):\n",
      "    for row_number in range(target_grid.height):\n",
      "        for column_number in range(target_grid.width):\n",
      "            grid[row_number, column_number] = color"
     ],
     "language": "python",
     "metadata": {},
     "outputs": [],
     "prompt_number": 98
    },
    {
     "cell_type": "code",
     "collapsed": false,
     "input": [
      "def UpdateGridColors(bluearr,redarr):\n",
      "    one_color(grid,(200,200,200))\n",
      "    for i in bluearr:\n",
      "        print where(arr==1)\n",
      "        x, y = where(arr==i)\n",
      "        a = int(x[0])\n",
      "        b = int(y[0])\n",
      "        grid[a,b] = BLUE\n",
      "            \n",
      "    for i in redarr:\n",
      "        x, y = where(arr==i)\n",
      "        a = int(x[0])\n",
      "        b = int(y[0])\n",
      "        grid[a,b] = RED\n",
      "    grid.show()"
     ],
     "language": "python",
     "metadata": {},
     "outputs": [],
     "prompt_number": 114
    },
    {
     "cell_type": "code",
     "collapsed": false,
     "input": [
      "BlueArray = np.array([2,3,4,5])\n",
      "RedArray = np.array([14,13,7,26])\n",
      "\n",
      "UpdateGridColors(BlueArray,RedArray)"
     ],
     "language": "python",
     "metadata": {},
     "outputs": [
      {
       "output_type": "stream",
       "stream": "stdout",
       "text": [
        "(array([0], dtype=int64), array([0], dtype=int64))\n",
        "(array([0], dtype=int64), array([0], dtype=int64))\n",
        "(array([0], dtype=int64), array([0], dtype=int64))\n",
        "(array([0], dtype=int64), array([0], dtype=int64))\n"
       ]
      },
      {
       "html": [
        "<style type=\"text/css\">table.blockgrid {border: none;} .blockgrid tr {border: none;} .blockgrid td {padding: 0px;} #blocksff92658f-de9a-44fe-9583-7e2275eca685 td {border: 1px solid white;}</style><table id=\"blocksff92658f-de9a-44fe-9583-7e2275eca685\" class=\"blockgrid\"><tbody><tr><td title=\"Index: [0, 0]&#10;Color: (200, 200, 200)\" style=\"width: 20px; height: 20px;background-color: rgb(200, 200, 200);\"></td><td title=\"Index: [0, 1]&#10;Color: (50, 150, 255)\" style=\"width: 20px; height: 20px;background-color: rgb(50, 150, 255);\"></td><td title=\"Index: [0, 2]&#10;Color: (50, 150, 255)\" style=\"width: 20px; height: 20px;background-color: rgb(50, 150, 255);\"></td><td title=\"Index: [0, 3]&#10;Color: (50, 150, 255)\" style=\"width: 20px; height: 20px;background-color: rgb(50, 150, 255);\"></td><td title=\"Index: [0, 4]&#10;Color: (50, 150, 255)\" style=\"width: 20px; height: 20px;background-color: rgb(50, 150, 255);\"></td><td title=\"Index: [0, 5]&#10;Color: (200, 200, 200)\" style=\"width: 20px; height: 20px;background-color: rgb(200, 200, 200);\"></td><td title=\"Index: [0, 6]&#10;Color: (255, 0, 0)\" style=\"width: 20px; height: 20px;background-color: rgb(255, 0, 0);\"></td><td title=\"Index: [0, 7]&#10;Color: (200, 200, 200)\" style=\"width: 20px; height: 20px;background-color: rgb(200, 200, 200);\"></td></tr><tr><td title=\"Index: [1, 0]&#10;Color: (200, 200, 200)\" style=\"width: 20px; height: 20px;background-color: rgb(200, 200, 200);\"></td><td title=\"Index: [1, 1]&#10;Color: (200, 200, 200)\" style=\"width: 20px; height: 20px;background-color: rgb(200, 200, 200);\"></td><td title=\"Index: [1, 2]&#10;Color: (200, 200, 200)\" style=\"width: 20px; height: 20px;background-color: rgb(200, 200, 200);\"></td><td title=\"Index: [1, 3]&#10;Color: (200, 200, 200)\" style=\"width: 20px; height: 20px;background-color: rgb(200, 200, 200);\"></td><td title=\"Index: [1, 4]&#10;Color: (255, 0, 0)\" style=\"width: 20px; height: 20px;background-color: rgb(255, 0, 0);\"></td><td title=\"Index: [1, 5]&#10;Color: (255, 0, 0)\" style=\"width: 20px; height: 20px;background-color: rgb(255, 0, 0);\"></td><td title=\"Index: [1, 6]&#10;Color: (200, 200, 200)\" style=\"width: 20px; height: 20px;background-color: rgb(200, 200, 200);\"></td><td title=\"Index: [1, 7]&#10;Color: (200, 200, 200)\" style=\"width: 20px; height: 20px;background-color: rgb(200, 200, 200);\"></td></tr><tr><td title=\"Index: [2, 0]&#10;Color: (200, 200, 200)\" style=\"width: 20px; height: 20px;background-color: rgb(200, 200, 200);\"></td><td title=\"Index: [2, 1]&#10;Color: (200, 200, 200)\" style=\"width: 20px; height: 20px;background-color: rgb(200, 200, 200);\"></td><td title=\"Index: [2, 2]&#10;Color: (200, 200, 200)\" style=\"width: 20px; height: 20px;background-color: rgb(200, 200, 200);\"></td><td title=\"Index: [2, 3]&#10;Color: (200, 200, 200)\" style=\"width: 20px; height: 20px;background-color: rgb(200, 200, 200);\"></td><td title=\"Index: [2, 4]&#10;Color: (200, 200, 200)\" style=\"width: 20px; height: 20px;background-color: rgb(200, 200, 200);\"></td><td title=\"Index: [2, 5]&#10;Color: (200, 200, 200)\" style=\"width: 20px; height: 20px;background-color: rgb(200, 200, 200);\"></td><td title=\"Index: [2, 6]&#10;Color: (200, 200, 200)\" style=\"width: 20px; height: 20px;background-color: rgb(200, 200, 200);\"></td><td title=\"Index: [2, 7]&#10;Color: (200, 200, 200)\" style=\"width: 20px; height: 20px;background-color: rgb(200, 200, 200);\"></td></tr><tr><td title=\"Index: [3, 0]&#10;Color: (200, 200, 200)\" style=\"width: 20px; height: 20px;background-color: rgb(200, 200, 200);\"></td><td title=\"Index: [3, 1]&#10;Color: (255, 0, 0)\" style=\"width: 20px; height: 20px;background-color: rgb(255, 0, 0);\"></td><td title=\"Index: [3, 2]&#10;Color: (200, 200, 200)\" style=\"width: 20px; height: 20px;background-color: rgb(200, 200, 200);\"></td><td title=\"Index: [3, 3]&#10;Color: (200, 200, 200)\" style=\"width: 20px; height: 20px;background-color: rgb(200, 200, 200);\"></td><td title=\"Index: [3, 4]&#10;Color: (200, 200, 200)\" style=\"width: 20px; height: 20px;background-color: rgb(200, 200, 200);\"></td><td title=\"Index: [3, 5]&#10;Color: (200, 200, 200)\" style=\"width: 20px; height: 20px;background-color: rgb(200, 200, 200);\"></td><td title=\"Index: [3, 6]&#10;Color: (200, 200, 200)\" style=\"width: 20px; height: 20px;background-color: rgb(200, 200, 200);\"></td><td title=\"Index: [3, 7]&#10;Color: (200, 200, 200)\" style=\"width: 20px; height: 20px;background-color: rgb(200, 200, 200);\"></td></tr><tr><td title=\"Index: [4, 0]&#10;Color: (200, 200, 200)\" style=\"width: 20px; height: 20px;background-color: rgb(200, 200, 200);\"></td><td title=\"Index: [4, 1]&#10;Color: (200, 200, 200)\" style=\"width: 20px; height: 20px;background-color: rgb(200, 200, 200);\"></td><td title=\"Index: [4, 2]&#10;Color: (200, 200, 200)\" style=\"width: 20px; height: 20px;background-color: rgb(200, 200, 200);\"></td><td title=\"Index: [4, 3]&#10;Color: (200, 200, 200)\" style=\"width: 20px; height: 20px;background-color: rgb(200, 200, 200);\"></td><td title=\"Index: [4, 4]&#10;Color: (200, 200, 200)\" style=\"width: 20px; height: 20px;background-color: rgb(200, 200, 200);\"></td><td title=\"Index: [4, 5]&#10;Color: (200, 200, 200)\" style=\"width: 20px; height: 20px;background-color: rgb(200, 200, 200);\"></td><td title=\"Index: [4, 6]&#10;Color: (200, 200, 200)\" style=\"width: 20px; height: 20px;background-color: rgb(200, 200, 200);\"></td><td title=\"Index: [4, 7]&#10;Color: (200, 200, 200)\" style=\"width: 20px; height: 20px;background-color: rgb(200, 200, 200);\"></td></tr><tr><td title=\"Index: [5, 0]&#10;Color: (200, 200, 200)\" style=\"width: 20px; height: 20px;background-color: rgb(200, 200, 200);\"></td><td title=\"Index: [5, 1]&#10;Color: (200, 200, 200)\" style=\"width: 20px; height: 20px;background-color: rgb(200, 200, 200);\"></td><td title=\"Index: [5, 2]&#10;Color: (200, 200, 200)\" style=\"width: 20px; height: 20px;background-color: rgb(200, 200, 200);\"></td><td title=\"Index: [5, 3]&#10;Color: (200, 200, 200)\" style=\"width: 20px; height: 20px;background-color: rgb(200, 200, 200);\"></td><td title=\"Index: [5, 4]&#10;Color: (200, 200, 200)\" style=\"width: 20px; height: 20px;background-color: rgb(200, 200, 200);\"></td><td title=\"Index: [5, 5]&#10;Color: (200, 200, 200)\" style=\"width: 20px; height: 20px;background-color: rgb(200, 200, 200);\"></td><td title=\"Index: [5, 6]&#10;Color: (200, 200, 200)\" style=\"width: 20px; height: 20px;background-color: rgb(200, 200, 200);\"></td><td title=\"Index: [5, 7]&#10;Color: (200, 200, 200)\" style=\"width: 20px; height: 20px;background-color: rgb(200, 200, 200);\"></td></tr><tr><td title=\"Index: [6, 0]&#10;Color: (200, 200, 200)\" style=\"width: 20px; height: 20px;background-color: rgb(200, 200, 200);\"></td><td title=\"Index: [6, 1]&#10;Color: (200, 200, 200)\" style=\"width: 20px; height: 20px;background-color: rgb(200, 200, 200);\"></td><td title=\"Index: [6, 2]&#10;Color: (200, 200, 200)\" style=\"width: 20px; height: 20px;background-color: rgb(200, 200, 200);\"></td><td title=\"Index: [6, 3]&#10;Color: (200, 200, 200)\" style=\"width: 20px; height: 20px;background-color: rgb(200, 200, 200);\"></td><td title=\"Index: [6, 4]&#10;Color: (200, 200, 200)\" style=\"width: 20px; height: 20px;background-color: rgb(200, 200, 200);\"></td><td title=\"Index: [6, 5]&#10;Color: (200, 200, 200)\" style=\"width: 20px; height: 20px;background-color: rgb(200, 200, 200);\"></td><td title=\"Index: [6, 6]&#10;Color: (200, 200, 200)\" style=\"width: 20px; height: 20px;background-color: rgb(200, 200, 200);\"></td><td title=\"Index: [6, 7]&#10;Color: (200, 200, 200)\" style=\"width: 20px; height: 20px;background-color: rgb(200, 200, 200);\"></td></tr><tr><td title=\"Index: [7, 0]&#10;Color: (200, 200, 200)\" style=\"width: 20px; height: 20px;background-color: rgb(200, 200, 200);\"></td><td title=\"Index: [7, 1]&#10;Color: (200, 200, 200)\" style=\"width: 20px; height: 20px;background-color: rgb(200, 200, 200);\"></td><td title=\"Index: [7, 2]&#10;Color: (200, 200, 200)\" style=\"width: 20px; height: 20px;background-color: rgb(200, 200, 200);\"></td><td title=\"Index: [7, 3]&#10;Color: (200, 200, 200)\" style=\"width: 20px; height: 20px;background-color: rgb(200, 200, 200);\"></td><td title=\"Index: [7, 4]&#10;Color: (200, 200, 200)\" style=\"width: 20px; height: 20px;background-color: rgb(200, 200, 200);\"></td><td title=\"Index: [7, 5]&#10;Color: (200, 200, 200)\" style=\"width: 20px; height: 20px;background-color: rgb(200, 200, 200);\"></td><td title=\"Index: [7, 6]&#10;Color: (200, 200, 200)\" style=\"width: 20px; height: 20px;background-color: rgb(200, 200, 200);\"></td><td title=\"Index: [7, 7]&#10;Color: (200, 200, 200)\" style=\"width: 20px; height: 20px;background-color: rgb(200, 200, 200);\"></td></tr></tbody></table>"
       ],
       "metadata": {},
       "output_type": "display_data",
       "text": [
        "<IPython.core.display.HTML at 0xa69b860>"
       ]
      }
     ],
     "prompt_number": 115
    },
    {
     "cell_type": "code",
     "collapsed": false,
     "input": [
      "import random\n",
      "\n",
      "random.sample(xrange(1,50), 6)"
     ],
     "language": "python",
     "metadata": {},
     "outputs": [
      {
       "metadata": {},
       "output_type": "pyout",
       "prompt_number": 116,
       "text": [
        "[2, 26, 5, 42, 46, 7]"
       ]
      }
     ],
     "prompt_number": 116
    },
    {
     "cell_type": "code",
     "collapsed": false,
     "input": [
      "def CreateTwoColorArrays(Blues,Reds):\n",
      "    total = Blues+Reds\n",
      "    random_arr = np.array([random.sample(xrange(1,size),total)])\n",
      "    BlueArray = np.zeros(Blues)\n",
      "    RedArray = np.zeros(Reds)\n",
      "    j=0\n",
      "    for i in range(len(random_arr)):\n",
      "        if len(BlueArray) < Blues:\n",
      "            BlueArray[i] = int(random_arr[i])\n",
      "            print \"Length of BlueArray: %s\"%len(BlueArray)\n",
      "        else:\n",
      "            RedArray[j] = int(random_arr[i])\n",
      "            j+=1\n",
      "            \n",
      "    return BlueArray,RedArray"
     ],
     "language": "python",
     "metadata": {},
     "outputs": [],
     "prompt_number": 152
    },
    {
     "cell_type": "code",
     "collapsed": false,
     "input": [
      "def PopulateSquares():\n",
      "    #Prompt User\n",
      "    Blues = input(\"Please enter in the amount of Blues you want. (Max %s) \"%size)\n",
      "    if Blues>size:\n",
      "        return \"That is too many Blues, please try again.\"\n",
      "    Reds = input(\"Please enter in the amount of Reds you want. (Max %s) \"%(size-Blues))\n",
      "    if Reds>(size-Blues): \n",
      "        return \"That is too many Reds, please try again.\"\n",
      "    \n",
      "    print \"Blues: %s. Reds: %s\"%(Blues, Reds)\n",
      "    \n",
      "    BlueArr, RedArr = CreateTwoColorArrays(Blues,Reds)\n",
      "    print \"BlueArr = %s, \\nRedArr = %s\"%(BlueArr,RedArr)\n",
      "    UpdateGridColors(BlueArr,RedArr)\n",
      "    \n",
      "    \"\"\"Populate Empty Squares\n",
      "    emptyspace = size - Blues - Reds\n",
      "    EmptySquares = set()\n",
      "    while len(EmptySquares) < emptyspace:\n",
      "   i = random.randint(1,size,emptyspace)\n",
      "        EmptySquares.add(i)\n",
      "    print EmptySquares\n",
      "    print \"Size of Empty Squares %s\"%len(emptysquares)\"\"\""
     ],
     "language": "python",
     "metadata": {},
     "outputs": [],
     "prompt_number": 153
    },
    {
     "cell_type": "code",
     "collapsed": false,
     "input": [
      "print PopulateSquares()\n",
      "    \n",
      "    "
     ],
     "language": "python",
     "metadata": {},
     "outputs": [
      {
       "name": "stdout",
       "output_type": "stream",
       "stream": "stdout",
       "text": [
        "Please enter in the amount of Blues you want. (Max 64) 10\n"
       ]
      },
      {
       "name": "stdout",
       "output_type": "stream",
       "stream": "stdout",
       "text": [
        "Please enter in the amount of Reds you want. (Max 54) 10\n"
       ]
      },
      {
       "output_type": "stream",
       "stream": "stdout",
       "text": [
        "Blues: 10. Reds: 10\n"
       ]
      },
      {
       "ename": "TypeError",
       "evalue": "only length-1 arrays can be converted to Python scalars",
       "output_type": "pyerr",
       "traceback": [
        "\u001b[1;31m---------------------------------------------------------------------------\u001b[0m\n\u001b[1;31mTypeError\u001b[0m                                 Traceback (most recent call last)",
        "\u001b[1;32m<ipython-input-154-e02e90c10dad>\u001b[0m in \u001b[0;36m<module>\u001b[1;34m()\u001b[0m\n\u001b[1;32m----> 1\u001b[1;33m \u001b[1;32mprint\u001b[0m \u001b[0mPopulateSquares\u001b[0m\u001b[1;33m(\u001b[0m\u001b[1;33m)\u001b[0m\u001b[1;33m\u001b[0m\u001b[0m\n\u001b[0m\u001b[0;32m      2\u001b[0m \u001b[1;33m\u001b[0m\u001b[0m\n\u001b[0;32m      3\u001b[0m \u001b[1;33m\u001b[0m\u001b[0m\n",
        "\u001b[1;32m<ipython-input-153-0119f84593e7>\u001b[0m in \u001b[0;36mPopulateSquares\u001b[1;34m()\u001b[0m\n\u001b[0;32m     10\u001b[0m     \u001b[1;32mprint\u001b[0m \u001b[1;34m\"Blues: %s. Reds: %s\"\u001b[0m\u001b[1;33m%\u001b[0m\u001b[1;33m(\u001b[0m\u001b[0mBlues\u001b[0m\u001b[1;33m,\u001b[0m \u001b[0mReds\u001b[0m\u001b[1;33m)\u001b[0m\u001b[1;33m\u001b[0m\u001b[0m\n\u001b[0;32m     11\u001b[0m \u001b[1;33m\u001b[0m\u001b[0m\n\u001b[1;32m---> 12\u001b[1;33m     \u001b[0mBlueArr\u001b[0m\u001b[1;33m,\u001b[0m \u001b[0mRedArr\u001b[0m \u001b[1;33m=\u001b[0m \u001b[0mCreateTwoColorArrays\u001b[0m\u001b[1;33m(\u001b[0m\u001b[0mBlues\u001b[0m\u001b[1;33m,\u001b[0m\u001b[0mReds\u001b[0m\u001b[1;33m)\u001b[0m\u001b[1;33m\u001b[0m\u001b[0m\n\u001b[0m\u001b[0;32m     13\u001b[0m     \u001b[1;32mprint\u001b[0m \u001b[1;34m\"BlueArr = %s, \\nRedArr = %s\"\u001b[0m\u001b[1;33m%\u001b[0m\u001b[1;33m(\u001b[0m\u001b[0mBlueArr\u001b[0m\u001b[1;33m,\u001b[0m\u001b[0mRedArr\u001b[0m\u001b[1;33m)\u001b[0m\u001b[1;33m\u001b[0m\u001b[0m\n\u001b[0;32m     14\u001b[0m     \u001b[0mUpdateGridColors\u001b[0m\u001b[1;33m(\u001b[0m\u001b[0mBlueArr\u001b[0m\u001b[1;33m,\u001b[0m\u001b[0mRedArr\u001b[0m\u001b[1;33m)\u001b[0m\u001b[1;33m\u001b[0m\u001b[0m\n",
        "\u001b[1;32m<ipython-input-152-6797be8d9465>\u001b[0m in \u001b[0;36mCreateTwoColorArrays\u001b[1;34m(Blues, Reds)\u001b[0m\n\u001b[0;32m     10\u001b[0m             \u001b[1;32mprint\u001b[0m \u001b[1;34m\"Length of BlueArray: %s\"\u001b[0m\u001b[1;33m%\u001b[0m\u001b[0mlen\u001b[0m\u001b[1;33m(\u001b[0m\u001b[0mBlueArray\u001b[0m\u001b[1;33m)\u001b[0m\u001b[1;33m\u001b[0m\u001b[0m\n\u001b[0;32m     11\u001b[0m         \u001b[1;32melse\u001b[0m\u001b[1;33m:\u001b[0m\u001b[1;33m\u001b[0m\u001b[0m\n\u001b[1;32m---> 12\u001b[1;33m             \u001b[0mRedArray\u001b[0m\u001b[1;33m[\u001b[0m\u001b[0mj\u001b[0m\u001b[1;33m]\u001b[0m \u001b[1;33m=\u001b[0m \u001b[0mint\u001b[0m\u001b[1;33m(\u001b[0m\u001b[0mrandom_arr\u001b[0m\u001b[1;33m[\u001b[0m\u001b[0mi\u001b[0m\u001b[1;33m]\u001b[0m\u001b[1;33m)\u001b[0m\u001b[1;33m\u001b[0m\u001b[0m\n\u001b[0m\u001b[0;32m     13\u001b[0m             \u001b[0mj\u001b[0m\u001b[1;33m+=\u001b[0m\u001b[1;36m1\u001b[0m\u001b[1;33m\u001b[0m\u001b[0m\n\u001b[0;32m     14\u001b[0m \u001b[1;33m\u001b[0m\u001b[0m\n",
        "\u001b[1;31mTypeError\u001b[0m: only length-1 arrays can be converted to Python scalars"
       ]
      }
     ],
     "prompt_number": 154
    },
    {
     "cell_type": "code",
     "collapsed": false,
     "input": [],
     "language": "python",
     "metadata": {},
     "outputs": []
    }
   ],
   "metadata": {}
  }
 ]
}