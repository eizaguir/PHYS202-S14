{
 "metadata": {
  "name": "",
  "signature": "sha256:28906f5e37dcfeb1534eb33a8009604ae965cf68c2e5b2bf378cd61d77f20a25"
 },
 "nbformat": 3,
 "nbformat_minor": 0,
 "worksheets": [
  {
   "cells": [
    {
     "cell_type": "heading",
     "level": 1,
     "metadata": {},
     "source": [
      "Final Project - Schelling Model"
     ]
    },
    {
     "cell_type": "code",
     "collapsed": false,
     "input": [
      "from ipythonblocks import BlockGrid\n",
      "%pylab inline\n",
      "import numpy as np\n",
      "import random\n",
      "BLUE = (0,0,255)\n",
      "RED = (255,0,0)\n",
      "\n",
      "\n",
      "xsize = 8\n",
      "ysize = 8\n",
      "grid = BlockGrid(xsize, ysize, fill=(123, 234, 123))\n",
      "grid.show()\n",
      "\n",
      "x,y = grid.shape\n",
      "size = x*y\n",
      "arr = np.arange(1, size+1).reshape(xsize, ysize)"
     ],
     "language": "python",
     "metadata": {},
     "outputs": [
      {
       "output_type": "stream",
       "stream": "stdout",
       "text": [
        "Populating the interactive namespace from numpy and matplotlib\n"
       ]
      },
      {
       "output_type": "stream",
       "stream": "stderr",
       "text": [
        "WARNING: pylab import has clobbered these variables: ['size', 'random', 'grid']\n",
        "`%matplotlib` prevents importing * from pylab and numpy\n"
       ]
      },
      {
       "html": [
        "<style type=\"text/css\">table.blockgrid {border: none;} .blockgrid tr {border: none;} .blockgrid td {padding: 0px;} #blocks31a6e9da-9ae0-452f-97a5-8a91b0d313a7 td {border: 1px solid white;}</style><table id=\"blocks31a6e9da-9ae0-452f-97a5-8a91b0d313a7\" class=\"blockgrid\"><tbody><tr><td title=\"Index: [0, 0]&#10;Color: (123, 234, 123)\" style=\"width: 20px; height: 20px;background-color: rgb(123, 234, 123);\"></td><td title=\"Index: [0, 1]&#10;Color: (123, 234, 123)\" style=\"width: 20px; height: 20px;background-color: rgb(123, 234, 123);\"></td><td title=\"Index: [0, 2]&#10;Color: (123, 234, 123)\" style=\"width: 20px; height: 20px;background-color: rgb(123, 234, 123);\"></td><td title=\"Index: [0, 3]&#10;Color: (123, 234, 123)\" style=\"width: 20px; height: 20px;background-color: rgb(123, 234, 123);\"></td><td title=\"Index: [0, 4]&#10;Color: (123, 234, 123)\" style=\"width: 20px; height: 20px;background-color: rgb(123, 234, 123);\"></td><td title=\"Index: [0, 5]&#10;Color: (123, 234, 123)\" style=\"width: 20px; height: 20px;background-color: rgb(123, 234, 123);\"></td><td title=\"Index: [0, 6]&#10;Color: (123, 234, 123)\" style=\"width: 20px; height: 20px;background-color: rgb(123, 234, 123);\"></td><td title=\"Index: [0, 7]&#10;Color: (123, 234, 123)\" style=\"width: 20px; height: 20px;background-color: rgb(123, 234, 123);\"></td></tr><tr><td title=\"Index: [1, 0]&#10;Color: (123, 234, 123)\" style=\"width: 20px; height: 20px;background-color: rgb(123, 234, 123);\"></td><td title=\"Index: [1, 1]&#10;Color: (123, 234, 123)\" style=\"width: 20px; height: 20px;background-color: rgb(123, 234, 123);\"></td><td title=\"Index: [1, 2]&#10;Color: (123, 234, 123)\" style=\"width: 20px; height: 20px;background-color: rgb(123, 234, 123);\"></td><td title=\"Index: [1, 3]&#10;Color: (123, 234, 123)\" style=\"width: 20px; height: 20px;background-color: rgb(123, 234, 123);\"></td><td title=\"Index: [1, 4]&#10;Color: (123, 234, 123)\" style=\"width: 20px; height: 20px;background-color: rgb(123, 234, 123);\"></td><td title=\"Index: [1, 5]&#10;Color: (123, 234, 123)\" style=\"width: 20px; height: 20px;background-color: rgb(123, 234, 123);\"></td><td title=\"Index: [1, 6]&#10;Color: (123, 234, 123)\" style=\"width: 20px; height: 20px;background-color: rgb(123, 234, 123);\"></td><td title=\"Index: [1, 7]&#10;Color: (123, 234, 123)\" style=\"width: 20px; height: 20px;background-color: rgb(123, 234, 123);\"></td></tr><tr><td title=\"Index: [2, 0]&#10;Color: (123, 234, 123)\" style=\"width: 20px; height: 20px;background-color: rgb(123, 234, 123);\"></td><td title=\"Index: [2, 1]&#10;Color: (123, 234, 123)\" style=\"width: 20px; height: 20px;background-color: rgb(123, 234, 123);\"></td><td title=\"Index: [2, 2]&#10;Color: (123, 234, 123)\" style=\"width: 20px; height: 20px;background-color: rgb(123, 234, 123);\"></td><td title=\"Index: [2, 3]&#10;Color: (123, 234, 123)\" style=\"width: 20px; height: 20px;background-color: rgb(123, 234, 123);\"></td><td title=\"Index: [2, 4]&#10;Color: (123, 234, 123)\" style=\"width: 20px; height: 20px;background-color: rgb(123, 234, 123);\"></td><td title=\"Index: [2, 5]&#10;Color: (123, 234, 123)\" style=\"width: 20px; height: 20px;background-color: rgb(123, 234, 123);\"></td><td title=\"Index: [2, 6]&#10;Color: (123, 234, 123)\" style=\"width: 20px; height: 20px;background-color: rgb(123, 234, 123);\"></td><td title=\"Index: [2, 7]&#10;Color: (123, 234, 123)\" style=\"width: 20px; height: 20px;background-color: rgb(123, 234, 123);\"></td></tr><tr><td title=\"Index: [3, 0]&#10;Color: (123, 234, 123)\" style=\"width: 20px; height: 20px;background-color: rgb(123, 234, 123);\"></td><td title=\"Index: [3, 1]&#10;Color: (123, 234, 123)\" style=\"width: 20px; height: 20px;background-color: rgb(123, 234, 123);\"></td><td title=\"Index: [3, 2]&#10;Color: (123, 234, 123)\" style=\"width: 20px; height: 20px;background-color: rgb(123, 234, 123);\"></td><td title=\"Index: [3, 3]&#10;Color: (123, 234, 123)\" style=\"width: 20px; height: 20px;background-color: rgb(123, 234, 123);\"></td><td title=\"Index: [3, 4]&#10;Color: (123, 234, 123)\" style=\"width: 20px; height: 20px;background-color: rgb(123, 234, 123);\"></td><td title=\"Index: [3, 5]&#10;Color: (123, 234, 123)\" style=\"width: 20px; height: 20px;background-color: rgb(123, 234, 123);\"></td><td title=\"Index: [3, 6]&#10;Color: (123, 234, 123)\" style=\"width: 20px; height: 20px;background-color: rgb(123, 234, 123);\"></td><td title=\"Index: [3, 7]&#10;Color: (123, 234, 123)\" style=\"width: 20px; height: 20px;background-color: rgb(123, 234, 123);\"></td></tr><tr><td title=\"Index: [4, 0]&#10;Color: (123, 234, 123)\" style=\"width: 20px; height: 20px;background-color: rgb(123, 234, 123);\"></td><td title=\"Index: [4, 1]&#10;Color: (123, 234, 123)\" style=\"width: 20px; height: 20px;background-color: rgb(123, 234, 123);\"></td><td title=\"Index: [4, 2]&#10;Color: (123, 234, 123)\" style=\"width: 20px; height: 20px;background-color: rgb(123, 234, 123);\"></td><td title=\"Index: [4, 3]&#10;Color: (123, 234, 123)\" style=\"width: 20px; height: 20px;background-color: rgb(123, 234, 123);\"></td><td title=\"Index: [4, 4]&#10;Color: (123, 234, 123)\" style=\"width: 20px; height: 20px;background-color: rgb(123, 234, 123);\"></td><td title=\"Index: [4, 5]&#10;Color: (123, 234, 123)\" style=\"width: 20px; height: 20px;background-color: rgb(123, 234, 123);\"></td><td title=\"Index: [4, 6]&#10;Color: (123, 234, 123)\" style=\"width: 20px; height: 20px;background-color: rgb(123, 234, 123);\"></td><td title=\"Index: [4, 7]&#10;Color: (123, 234, 123)\" style=\"width: 20px; height: 20px;background-color: rgb(123, 234, 123);\"></td></tr><tr><td title=\"Index: [5, 0]&#10;Color: (123, 234, 123)\" style=\"width: 20px; height: 20px;background-color: rgb(123, 234, 123);\"></td><td title=\"Index: [5, 1]&#10;Color: (123, 234, 123)\" style=\"width: 20px; height: 20px;background-color: rgb(123, 234, 123);\"></td><td title=\"Index: [5, 2]&#10;Color: (123, 234, 123)\" style=\"width: 20px; height: 20px;background-color: rgb(123, 234, 123);\"></td><td title=\"Index: [5, 3]&#10;Color: (123, 234, 123)\" style=\"width: 20px; height: 20px;background-color: rgb(123, 234, 123);\"></td><td title=\"Index: [5, 4]&#10;Color: (123, 234, 123)\" style=\"width: 20px; height: 20px;background-color: rgb(123, 234, 123);\"></td><td title=\"Index: [5, 5]&#10;Color: (123, 234, 123)\" style=\"width: 20px; height: 20px;background-color: rgb(123, 234, 123);\"></td><td title=\"Index: [5, 6]&#10;Color: (123, 234, 123)\" style=\"width: 20px; height: 20px;background-color: rgb(123, 234, 123);\"></td><td title=\"Index: [5, 7]&#10;Color: (123, 234, 123)\" style=\"width: 20px; height: 20px;background-color: rgb(123, 234, 123);\"></td></tr><tr><td title=\"Index: [6, 0]&#10;Color: (123, 234, 123)\" style=\"width: 20px; height: 20px;background-color: rgb(123, 234, 123);\"></td><td title=\"Index: [6, 1]&#10;Color: (123, 234, 123)\" style=\"width: 20px; height: 20px;background-color: rgb(123, 234, 123);\"></td><td title=\"Index: [6, 2]&#10;Color: (123, 234, 123)\" style=\"width: 20px; height: 20px;background-color: rgb(123, 234, 123);\"></td><td title=\"Index: [6, 3]&#10;Color: (123, 234, 123)\" style=\"width: 20px; height: 20px;background-color: rgb(123, 234, 123);\"></td><td title=\"Index: [6, 4]&#10;Color: (123, 234, 123)\" style=\"width: 20px; height: 20px;background-color: rgb(123, 234, 123);\"></td><td title=\"Index: [6, 5]&#10;Color: (123, 234, 123)\" style=\"width: 20px; height: 20px;background-color: rgb(123, 234, 123);\"></td><td title=\"Index: [6, 6]&#10;Color: (123, 234, 123)\" style=\"width: 20px; height: 20px;background-color: rgb(123, 234, 123);\"></td><td title=\"Index: [6, 7]&#10;Color: (123, 234, 123)\" style=\"width: 20px; height: 20px;background-color: rgb(123, 234, 123);\"></td></tr><tr><td title=\"Index: [7, 0]&#10;Color: (123, 234, 123)\" style=\"width: 20px; height: 20px;background-color: rgb(123, 234, 123);\"></td><td title=\"Index: [7, 1]&#10;Color: (123, 234, 123)\" style=\"width: 20px; height: 20px;background-color: rgb(123, 234, 123);\"></td><td title=\"Index: [7, 2]&#10;Color: (123, 234, 123)\" style=\"width: 20px; height: 20px;background-color: rgb(123, 234, 123);\"></td><td title=\"Index: [7, 3]&#10;Color: (123, 234, 123)\" style=\"width: 20px; height: 20px;background-color: rgb(123, 234, 123);\"></td><td title=\"Index: [7, 4]&#10;Color: (123, 234, 123)\" style=\"width: 20px; height: 20px;background-color: rgb(123, 234, 123);\"></td><td title=\"Index: [7, 5]&#10;Color: (123, 234, 123)\" style=\"width: 20px; height: 20px;background-color: rgb(123, 234, 123);\"></td><td title=\"Index: [7, 6]&#10;Color: (123, 234, 123)\" style=\"width: 20px; height: 20px;background-color: rgb(123, 234, 123);\"></td><td title=\"Index: [7, 7]&#10;Color: (123, 234, 123)\" style=\"width: 20px; height: 20px;background-color: rgb(123, 234, 123);\"></td></tr></tbody></table>"
       ],
       "metadata": {},
       "output_type": "display_data",
       "text": [
        "<IPython.core.display.HTML at 0x4873f28>"
       ]
      }
     ],
     "prompt_number": 137
    },
    {
     "cell_type": "code",
     "collapsed": false,
     "input": [
      "def one_color(target_grid, color):\n",
      "    for row_number in range(target_grid.height):\n",
      "        for column_number in range(target_grid.width):\n",
      "            grid[row_number, column_number] = color"
     ],
     "language": "python",
     "metadata": {},
     "outputs": [],
     "prompt_number": 138
    },
    {
     "cell_type": "code",
     "collapsed": false,
     "input": [
      "def UpdateGridColors(bluearr,redarr):\n",
      "    one_color(grid,(200,200,200))\n",
      "    for i in bluearr:\n",
      "        x, y = where(arr==i)\n",
      "        a = int(x[0])\n",
      "        b = int(y[0])\n",
      "        grid[a,b] = BLUE\n",
      "            \n",
      "    for i in redarr:\n",
      "        x, y = where(arr==i)\n",
      "        a = int(x[0])\n",
      "        b = int(y[0])\n",
      "        grid[a,b] = RED\n",
      "    grid.show()"
     ],
     "language": "python",
     "metadata": {},
     "outputs": [],
     "prompt_number": 139
    },
    {
     "cell_type": "code",
     "collapsed": false,
     "input": [
      "def CreateTwoColorArrays(Blues,Reds):\n",
      "    total = Blues+Reds\n",
      "    random_arr = np.array(random.sample(xrange(1,size+1),total))\n",
      "    print \"My random numbers are: %s\"%random_arr\n",
      "    BlueList = []\n",
      "    RedList = []\n",
      "    \n",
      "    Blue = True\n",
      "    for i in range(len(random_arr)):\n",
      "        if len(BlueList) < Blues:\n",
      "            BlueList.append(random_arr[i])\n",
      "\n",
      "        else:\n",
      "            RedList.append(random_arr[i])\n",
      "            \n",
      "    BlueArray = np.asarray(BlueList)\n",
      "    RedArray = np.asarray(RedList)\n",
      "            \n",
      "    return BlueArray,RedArray"
     ],
     "language": "python",
     "metadata": {},
     "outputs": [],
     "prompt_number": 140
    },
    {
     "cell_type": "code",
     "collapsed": false,
     "input": [
      "def PopulateSquares():\n",
      "    #Prompt User\n",
      "    Blues = input(\"Please enter in the amount of Blues you want. (Max %s) \"%size)\n",
      "    if Blues>size:\n",
      "        return \"That is too many Blues, please try again.\"\n",
      "    Reds = input(\"Please enter in the amount of Reds you want. (Max %s) \"%(size-Blues))\n",
      "    if Reds>(size-Blues): \n",
      "        return \"That is too many Reds, please try again.\"\n",
      "    \n",
      "    print \"Blues: %s. Reds: %s\"%(Blues, Reds)\n",
      "    \n",
      "    BlueArr, RedArr = CreateTwoColorArrays(Blues,Reds)\n",
      "    UpdateGridColors(BlueArr,RedArr)\n",
      "    EmptyArr = getEmptySquares(BlueArr,RedArr)\n",
      "    print \"Empty array = %s\"%EmptyArr"
     ],
     "language": "python",
     "metadata": {},
     "outputs": [],
     "prompt_number": 141
    },
    {
     "cell_type": "code",
     "collapsed": false,
     "input": [
      "def getEmptySquares(blueArr,redArr):\n",
      "    allcolorArr = numpy.concatenate([blueArr,redArr])\n",
      "    emptyArr = np.array(range(1,size+1))\n",
      "    for i in emptyArr:\n",
      "        if i in allcolorArr:\n",
      "            x = where(emptyArr==i)\n",
      "            emptyArr = numpy.delete(emptyArr,x)\n",
      "    \n",
      "    \n",
      "    return emptyArr"
     ],
     "language": "python",
     "metadata": {},
     "outputs": [],
     "prompt_number": 142
    },
    {
     "cell_type": "code",
     "collapsed": false,
     "input": [
      "def determineHappiness(square,tolerance):\n",
      "    x,y = findPosition(square)\n",
      "    xsize,ysize = grid.width,grid.height\n",
      "    xsize-=1\n",
      "    ysize-=1\n",
      "    totalRed = 0\n",
      "    totalBlue = 0\n",
      "    totalCounted = 0\n",
      "\n",
      "    if x > 0:\n",
      "        if grid[x-1,y].red ==255:\n",
      "            totalRed+=1\n",
      "            totalCounted +=1\n",
      "    if y > 0:\n",
      "        if grid[x,y-1].red ==255:\n",
      "            totalRed+=1\n",
      "            totalCounted +=1\n",
      "    if y < ysize:\n",
      "        if grid[x,y+1].red==255:\n",
      "            totalRed+=1\n",
      "            totalCounted +=1\n",
      "    if x < xsize:\n",
      "        if grid[x+1,y].red==255:\n",
      "            totalRed+=1\n",
      "            totalCounted +=1\n",
      "    if x < xsize and y < ysize:\n",
      "        if grid[x+1,y+1].red==255:\n",
      "            totalRed+=1\n",
      "            totalCounted +=1\n",
      "    if x < xsize and y > 0:\n",
      "        if grid[x+1,y-1].red==255:\n",
      "            totalRed+=1\n",
      "            totalCounted +=1\n",
      "    if x > 0 and y < ysize:\n",
      "        if grid[x-1,y+1].red==255:\n",
      "            totalRed+=1\n",
      "            totalCounted +=1\n",
      "    if x > 0 and y > 0:\n",
      "        if grid[x-1,y-1].red==255:\n",
      "            totalRed+=1\n",
      "            totalCounted +=1\n",
      "    \n",
      "    if x > 0:\n",
      "        if grid[x-1,y].blue==255:\n",
      "            totalBlue+=1\n",
      "            totalCounted +=1\n",
      "    if y > 0:\n",
      "        if grid[x,y-1].blue==255:\n",
      "            totalBlue+=1\n",
      "            totalCounted +=1\n",
      "    if y < ysize:\n",
      "        if grid[x,y+1].blue==255:\n",
      "            totalBlue+=1\n",
      "            totalCounted +=1\n",
      "    if x < xsize:\n",
      "        if grid[x+1,y].blue==255:\n",
      "            totalBlue+=1\n",
      "            totalCounted +=1\n",
      "    if x < xsize and y < ysize:\n",
      "        if grid[x+1,y+1].blue==255:\n",
      "            totalBlue+=1\n",
      "            totalCounted +=1\n",
      "    if x < xsize and y > 0:\n",
      "        if grid[x+1,y-1].blue==255:\n",
      "            totalBlue+=1\n",
      "            totalCounted +=1\n",
      "    if x > 0 and y < ysize:\n",
      "        if grid[x-1,y+1].blue==255:\n",
      "            totalBlue+=1\n",
      "            totalCounted +=1\n",
      "    if x > 0 and y > 0:\n",
      "        if grid[x-1,y-1].blue==255:\n",
      "            totalBlue+=1\n",
      "            totalCounted +=1\n",
      "    \n",
      "    totalSurrounding = 0\n",
      "    \n",
      "    if x==0 and y==0:\n",
      "        totalSurrounding=3\n",
      "    elif x==xsize and y==ysize:\n",
      "        totalSurrounding=3\n",
      "    elif x==0 and y==ysize:\n",
      "        totalSurrounding=3\n",
      "    elif y==0 and x==xsize:\n",
      "        totalSurrounding=3\n",
      "        \n",
      "    elif x==0 or y==0 or y==ysize or x==xsize:\n",
      "        totalSurrounding=5\n",
      "    else:\n",
      "        totalSurrounding=8\n",
      "    \n",
      "    print \"Total Surrounding: %s\"%totalSurrounding\n",
      "    print \"Total Blue: %s\"%totalBlue\n",
      "    print \"Total Red: %s\"%totalRed\n",
      "    rating = True\n",
      "    \n",
      "    if grid[x,y].red == 255:\n",
      "        if totalBlue!=0:\n",
      "            ratio = float(totalRed)/(totalBlue+totalRed)\n",
      "            print \"Ratio is %s\"%ratio\n",
      "            if ratio < tolerance:\n",
      "                rating=False\n",
      "            \n",
      "    if grid[x,y].blue == 255:\n",
      "        if totalRed!=0:\n",
      "            ratio = float(totalBlue)/(totalRed+totalBlue)\n",
      "            print \"Ratio is %s\"%ratio\n",
      "            if ratio < tolerance:\n",
      "                rating=False\n",
      "        \n",
      "    \n",
      "    return rating\n",
      "    "
     ],
     "language": "python",
     "metadata": {},
     "outputs": [],
     "prompt_number": 239
    },
    {
     "cell_type": "code",
     "collapsed": false,
     "input": [
      "def findPosition(square):\n",
      "    x,y = where(arr==square)\n",
      "    x = int(x)\n",
      "    y = int(y)\n",
      "    return x,y"
     ],
     "language": "python",
     "metadata": {},
     "outputs": [],
     "prompt_number": 240
    },
    {
     "cell_type": "code",
     "collapsed": false,
     "input": [
      "print PopulateSquares()"
     ],
     "language": "python",
     "metadata": {},
     "outputs": [
      {
       "name": "stdout",
       "output_type": "stream",
       "stream": "stdout",
       "text": [
        "Please enter in the amount of Blues you want. (Max 64) 32\n"
       ]
      },
      {
       "name": "stdout",
       "output_type": "stream",
       "stream": "stdout",
       "text": [
        "Please enter in the amount of Reds you want. (Max 32) 22\n"
       ]
      },
      {
       "output_type": "stream",
       "stream": "stdout",
       "text": [
        "Blues: 32. Reds: 22\n",
        "My random numbers are: [61 57 36 50 12 24 28 47 42  9  8 13 26 22 19  2  3 17 20 60 16 51 64 44 54\n",
        " 49 14 46 27 53 40 59 10 29 45 25 58 62 43 21 41 30 55 37 15  7 52 18 38 34\n",
        "  1 48  4 33]\n"
       ]
      },
      {
       "html": [
        "<style type=\"text/css\">table.blockgrid {border: none;} .blockgrid tr {border: none;} .blockgrid td {padding: 0px;} #blocks60558525-d7f0-4437-aadb-c991cb6ec84a td {border: 1px solid white;}</style><table id=\"blocks60558525-d7f0-4437-aadb-c991cb6ec84a\" class=\"blockgrid\"><tbody><tr><td title=\"Index: [0, 0]&#10;Color: (255, 0, 0)\" style=\"width: 20px; height: 20px;background-color: rgb(255, 0, 0);\"></td><td title=\"Index: [0, 1]&#10;Color: (0, 0, 255)\" style=\"width: 20px; height: 20px;background-color: rgb(0, 0, 255);\"></td><td title=\"Index: [0, 2]&#10;Color: (0, 0, 255)\" style=\"width: 20px; height: 20px;background-color: rgb(0, 0, 255);\"></td><td title=\"Index: [0, 3]&#10;Color: (255, 0, 0)\" style=\"width: 20px; height: 20px;background-color: rgb(255, 0, 0);\"></td><td title=\"Index: [0, 4]&#10;Color: (200, 200, 200)\" style=\"width: 20px; height: 20px;background-color: rgb(200, 200, 200);\"></td><td title=\"Index: [0, 5]&#10;Color: (200, 200, 200)\" style=\"width: 20px; height: 20px;background-color: rgb(200, 200, 200);\"></td><td title=\"Index: [0, 6]&#10;Color: (255, 0, 0)\" style=\"width: 20px; height: 20px;background-color: rgb(255, 0, 0);\"></td><td title=\"Index: [0, 7]&#10;Color: (0, 0, 255)\" style=\"width: 20px; height: 20px;background-color: rgb(0, 0, 255);\"></td></tr><tr><td title=\"Index: [1, 0]&#10;Color: (0, 0, 255)\" style=\"width: 20px; height: 20px;background-color: rgb(0, 0, 255);\"></td><td title=\"Index: [1, 1]&#10;Color: (255, 0, 0)\" style=\"width: 20px; height: 20px;background-color: rgb(255, 0, 0);\"></td><td title=\"Index: [1, 2]&#10;Color: (200, 200, 200)\" style=\"width: 20px; height: 20px;background-color: rgb(200, 200, 200);\"></td><td title=\"Index: [1, 3]&#10;Color: (0, 0, 255)\" style=\"width: 20px; height: 20px;background-color: rgb(0, 0, 255);\"></td><td title=\"Index: [1, 4]&#10;Color: (0, 0, 255)\" style=\"width: 20px; height: 20px;background-color: rgb(0, 0, 255);\"></td><td title=\"Index: [1, 5]&#10;Color: (0, 0, 255)\" style=\"width: 20px; height: 20px;background-color: rgb(0, 0, 255);\"></td><td title=\"Index: [1, 6]&#10;Color: (255, 0, 0)\" style=\"width: 20px; height: 20px;background-color: rgb(255, 0, 0);\"></td><td title=\"Index: [1, 7]&#10;Color: (0, 0, 255)\" style=\"width: 20px; height: 20px;background-color: rgb(0, 0, 255);\"></td></tr><tr><td title=\"Index: [2, 0]&#10;Color: (0, 0, 255)\" style=\"width: 20px; height: 20px;background-color: rgb(0, 0, 255);\"></td><td title=\"Index: [2, 1]&#10;Color: (255, 0, 0)\" style=\"width: 20px; height: 20px;background-color: rgb(255, 0, 0);\"></td><td title=\"Index: [2, 2]&#10;Color: (0, 0, 255)\" style=\"width: 20px; height: 20px;background-color: rgb(0, 0, 255);\"></td><td title=\"Index: [2, 3]&#10;Color: (0, 0, 255)\" style=\"width: 20px; height: 20px;background-color: rgb(0, 0, 255);\"></td><td title=\"Index: [2, 4]&#10;Color: (255, 0, 0)\" style=\"width: 20px; height: 20px;background-color: rgb(255, 0, 0);\"></td><td title=\"Index: [2, 5]&#10;Color: (0, 0, 255)\" style=\"width: 20px; height: 20px;background-color: rgb(0, 0, 255);\"></td><td title=\"Index: [2, 6]&#10;Color: (200, 200, 200)\" style=\"width: 20px; height: 20px;background-color: rgb(200, 200, 200);\"></td><td title=\"Index: [2, 7]&#10;Color: (0, 0, 255)\" style=\"width: 20px; height: 20px;background-color: rgb(0, 0, 255);\"></td></tr><tr><td title=\"Index: [3, 0]&#10;Color: (255, 0, 0)\" style=\"width: 20px; height: 20px;background-color: rgb(255, 0, 0);\"></td><td title=\"Index: [3, 1]&#10;Color: (0, 0, 255)\" style=\"width: 20px; height: 20px;background-color: rgb(0, 0, 255);\"></td><td title=\"Index: [3, 2]&#10;Color: (0, 0, 255)\" style=\"width: 20px; height: 20px;background-color: rgb(0, 0, 255);\"></td><td title=\"Index: [3, 3]&#10;Color: (0, 0, 255)\" style=\"width: 20px; height: 20px;background-color: rgb(0, 0, 255);\"></td><td title=\"Index: [3, 4]&#10;Color: (255, 0, 0)\" style=\"width: 20px; height: 20px;background-color: rgb(255, 0, 0);\"></td><td title=\"Index: [3, 5]&#10;Color: (255, 0, 0)\" style=\"width: 20px; height: 20px;background-color: rgb(255, 0, 0);\"></td><td title=\"Index: [3, 6]&#10;Color: (200, 200, 200)\" style=\"width: 20px; height: 20px;background-color: rgb(200, 200, 200);\"></td><td title=\"Index: [3, 7]&#10;Color: (200, 200, 200)\" style=\"width: 20px; height: 20px;background-color: rgb(200, 200, 200);\"></td></tr><tr><td title=\"Index: [4, 0]&#10;Color: (255, 0, 0)\" style=\"width: 20px; height: 20px;background-color: rgb(255, 0, 0);\"></td><td title=\"Index: [4, 1]&#10;Color: (255, 0, 0)\" style=\"width: 20px; height: 20px;background-color: rgb(255, 0, 0);\"></td><td title=\"Index: [4, 2]&#10;Color: (200, 200, 200)\" style=\"width: 20px; height: 20px;background-color: rgb(200, 200, 200);\"></td><td title=\"Index: [4, 3]&#10;Color: (0, 0, 255)\" style=\"width: 20px; height: 20px;background-color: rgb(0, 0, 255);\"></td><td title=\"Index: [4, 4]&#10;Color: (255, 0, 0)\" style=\"width: 20px; height: 20px;background-color: rgb(255, 0, 0);\"></td><td title=\"Index: [4, 5]&#10;Color: (255, 0, 0)\" style=\"width: 20px; height: 20px;background-color: rgb(255, 0, 0);\"></td><td title=\"Index: [4, 6]&#10;Color: (200, 200, 200)\" style=\"width: 20px; height: 20px;background-color: rgb(200, 200, 200);\"></td><td title=\"Index: [4, 7]&#10;Color: (0, 0, 255)\" style=\"width: 20px; height: 20px;background-color: rgb(0, 0, 255);\"></td></tr><tr><td title=\"Index: [5, 0]&#10;Color: (255, 0, 0)\" style=\"width: 20px; height: 20px;background-color: rgb(255, 0, 0);\"></td><td title=\"Index: [5, 1]&#10;Color: (0, 0, 255)\" style=\"width: 20px; height: 20px;background-color: rgb(0, 0, 255);\"></td><td title=\"Index: [5, 2]&#10;Color: (255, 0, 0)\" style=\"width: 20px; height: 20px;background-color: rgb(255, 0, 0);\"></td><td title=\"Index: [5, 3]&#10;Color: (0, 0, 255)\" style=\"width: 20px; height: 20px;background-color: rgb(0, 0, 255);\"></td><td title=\"Index: [5, 4]&#10;Color: (255, 0, 0)\" style=\"width: 20px; height: 20px;background-color: rgb(255, 0, 0);\"></td><td title=\"Index: [5, 5]&#10;Color: (0, 0, 255)\" style=\"width: 20px; height: 20px;background-color: rgb(0, 0, 255);\"></td><td title=\"Index: [5, 6]&#10;Color: (0, 0, 255)\" style=\"width: 20px; height: 20px;background-color: rgb(0, 0, 255);\"></td><td title=\"Index: [5, 7]&#10;Color: (255, 0, 0)\" style=\"width: 20px; height: 20px;background-color: rgb(255, 0, 0);\"></td></tr><tr><td title=\"Index: [6, 0]&#10;Color: (0, 0, 255)\" style=\"width: 20px; height: 20px;background-color: rgb(0, 0, 255);\"></td><td title=\"Index: [6, 1]&#10;Color: (0, 0, 255)\" style=\"width: 20px; height: 20px;background-color: rgb(0, 0, 255);\"></td><td title=\"Index: [6, 2]&#10;Color: (0, 0, 255)\" style=\"width: 20px; height: 20px;background-color: rgb(0, 0, 255);\"></td><td title=\"Index: [6, 3]&#10;Color: (255, 0, 0)\" style=\"width: 20px; height: 20px;background-color: rgb(255, 0, 0);\"></td><td title=\"Index: [6, 4]&#10;Color: (0, 0, 255)\" style=\"width: 20px; height: 20px;background-color: rgb(0, 0, 255);\"></td><td title=\"Index: [6, 5]&#10;Color: (0, 0, 255)\" style=\"width: 20px; height: 20px;background-color: rgb(0, 0, 255);\"></td><td title=\"Index: [6, 6]&#10;Color: (255, 0, 0)\" style=\"width: 20px; height: 20px;background-color: rgb(255, 0, 0);\"></td><td title=\"Index: [6, 7]&#10;Color: (200, 200, 200)\" style=\"width: 20px; height: 20px;background-color: rgb(200, 200, 200);\"></td></tr><tr><td title=\"Index: [7, 0]&#10;Color: (0, 0, 255)\" style=\"width: 20px; height: 20px;background-color: rgb(0, 0, 255);\"></td><td title=\"Index: [7, 1]&#10;Color: (255, 0, 0)\" style=\"width: 20px; height: 20px;background-color: rgb(255, 0, 0);\"></td><td title=\"Index: [7, 2]&#10;Color: (0, 0, 255)\" style=\"width: 20px; height: 20px;background-color: rgb(0, 0, 255);\"></td><td title=\"Index: [7, 3]&#10;Color: (0, 0, 255)\" style=\"width: 20px; height: 20px;background-color: rgb(0, 0, 255);\"></td><td title=\"Index: [7, 4]&#10;Color: (0, 0, 255)\" style=\"width: 20px; height: 20px;background-color: rgb(0, 0, 255);\"></td><td title=\"Index: [7, 5]&#10;Color: (255, 0, 0)\" style=\"width: 20px; height: 20px;background-color: rgb(255, 0, 0);\"></td><td title=\"Index: [7, 6]&#10;Color: (200, 200, 200)\" style=\"width: 20px; height: 20px;background-color: rgb(200, 200, 200);\"></td><td title=\"Index: [7, 7]&#10;Color: (0, 0, 255)\" style=\"width: 20px; height: 20px;background-color: rgb(0, 0, 255);\"></td></tr></tbody></table>"
       ],
       "metadata": {},
       "output_type": "display_data",
       "text": [
        "<IPython.core.display.HTML at 0x4217cc0>"
       ]
      },
      {
       "output_type": "stream",
       "stream": "stdout",
       "text": [
        "Empty array = [ 5  6 11 23 31 32 35 39 56 63]\n",
        "None\n"
       ]
      }
     ],
     "prompt_number": 244
    },
    {
     "cell_type": "code",
     "collapsed": false,
     "input": [
      "print determineHappiness(1,.5)"
     ],
     "language": "python",
     "metadata": {},
     "outputs": [
      {
       "output_type": "stream",
       "stream": "stdout",
       "text": [
        "Total Surrounding: 3\n",
        "Total Blue: 2\n",
        "Total Red: 1\n",
        "Ratio is 0.333333333333\n",
        "False\n"
       ]
      }
     ],
     "prompt_number": 245
    },
    {
     "cell_type": "code",
     "collapsed": false,
     "input": [
      "x,y = findPosition(3)\n",
      "print x,y\n",
      "\n",
      "print grid[x,y].red== 255\n",
      "print grid[x,y]\n",
      "grid[x,y]\n",
      "xsize,ysize = grid.width,grid.height\n",
      "print xsize\n",
      "print ysize"
     ],
     "language": "python",
     "metadata": {},
     "outputs": [
      {
       "output_type": "stream",
       "stream": "stdout",
       "text": [
        "0 2\n",
        "False\n",
        "Block [0, 2]\r\n",
        "Color: (0, 0, 255)\n",
        "8\n",
        "8\n"
       ]
      }
     ],
     "prompt_number": 159
    },
    {
     "cell_type": "code",
     "collapsed": false,
     "input": [],
     "language": "python",
     "metadata": {},
     "outputs": []
    }
   ],
   "metadata": {}
  }
 ]
}