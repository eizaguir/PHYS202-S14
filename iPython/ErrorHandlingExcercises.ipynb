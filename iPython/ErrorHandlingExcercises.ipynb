{
 "metadata": {
  "name": "",
  "signature": "sha256:19ebc45646872a7eb381998920fb804aec64b41d0b78790436242b0078ed372d"
 },
 "nbformat": 3,
 "nbformat_minor": 0,
 "worksheets": [
  {
   "cells": [
    {
     "cell_type": "heading",
     "level": 1,
     "metadata": {},
     "source": [
      "Error Handling Excercises"
     ]
    },
    {
     "cell_type": "markdown",
     "metadata": {},
     "source": [
      "1. Find a partner. Choose a driver and a navigator. The driver should copy their Battleship code to a cell in the driver's ErrorHandlingExercises notebook. The driver should explain to the navigator the basics of how their program works. Work together to add some error handling to the program. Include a markdown cell identifying the driver and navigator. When you are done, switch roles and let the navigator be the driver and vice versa. At the end you should both have a Battleship program that includes some error handling."
     ]
    },
    {
     "cell_type": "markdown",
     "metadata": {},
     "source": [
      "Driver: Ed Izaguirre\n",
      "Navigator: Joseph Izaguirre"
     ]
    },
    {
     "cell_type": "code",
     "collapsed": false,
     "input": [
      "import numpy as np\n"
     ],
     "language": "python",
     "metadata": {},
     "outputs": [],
     "prompt_number": 1
    },
    {
     "cell_type": "code",
     "collapsed": false,
     "input": [
      "from random import randint\n",
      "from ipythonblocks import BlockGrid\n",
      "grid = BlockGrid(8, 8, fill=(173, 216, 230))\n",
      "\n",
      "print \"Let's play Battleship! Please enter a number from 1 through block height/width.\"\n",
      "\n",
      "def random_row(grid):\n",
      "    return randint(0, grid.width - 1)\n",
      "\n",
      "def random_col(grid):\n",
      "    return randint(0, grid.height - 1)\n",
      "\n",
      "ship_row1 = random_row(grid)+1\n",
      "ship_col1 = random_col(grid)+1\n",
      "\n",
      "number = randint(0,1)\n",
      "if (number==0):\n",
      "    if(ship_row1<3):\n",
      "        ship_row2 = ship_row1+1\n",
      "        ship_row3 = ship_row1+2\n",
      "    else:\n",
      "        ship_row2 = ship_row1-1\n",
      "        ship_row3 = ship_row1-2\n",
      "    \n",
      "else:\n",
      "    if(ship_col1<3):\n",
      "        ship_col2 = ship_col1+1\n",
      "        ship_col3 = ship_col1+2\n",
      "    else:\n",
      "        ship_col2 = ship_col1-1\n",
      "        ship_col3 = ship_col1-2\n",
      "\n",
      "grid.show()\n",
      "\n",
      "\n",
      "hit_count=0\n",
      "for turn in range(10):\n",
      "    try:\n",
      "        guess_row = int(raw_input(\"Guess Row:\"))\n",
      "        guess_col = int(raw_input(\"Guess Col:\"))\n",
      "    except ValueError as err:\n",
      "        print err\n",
      "        print \"You entered a letter. Please enter a number.\"\n",
      "        turn-=1\n",
      "        continue\n",
      "    if (guess_row < 1 or guess_row > grid.width) or (guess_col < 1 or guess_col > grid.height):\n",
      "            print \"Oops, that's not even in the ocean.\"\n",
      "            continue\n",
      "    elif(grid[guess_row-1,guess_col-1] == (0,0,0)):\n",
      "            print \"You guessed that one already.\"\n",
      "   \n",
      "    if number==0:\n",
      "        if guess_row == ship_row1 and guess_col == ship_col1:\n",
      "            print \"You got a hit!\"\n",
      "            hit_count+=1\n",
      "            grid[guess_row-1,guess_col-1] = (236,25,25)\n",
      "            grid.show()\n",
      "        elif guess_row == ship_row2 and guess_col == ship_col1:\n",
      "            print \"You got a hit!\"\n",
      "            hit_count+=1\n",
      "            grid[guess_row-1,guess_col-1] = (236,25,25)\n",
      "            grid.show()\n",
      "        elif guess_row == ship_row3 and guess_col == ship_col1:\n",
      "            print \"You got a hit!\"\n",
      "            hit_count+=1\n",
      "            grid[guess_row-1,guess_col-1] = (236,25,25)\n",
      "            grid.show()\n",
      "        else:\n",
      "            print \"You missed my battleship!\"\n",
      "            grid[guess_row-1,guess_col-1] = (10,50,200)\n",
      "            grid.show()\n",
      "    else:\n",
      "        if guess_row == ship_row1 and guess_col == ship_col1:\n",
      "            print \"You got a hit!\"\n",
      "            hit_count+=1\n",
      "            grid[guess_row-1,guess_col-1] = (236,25,25)\n",
      "            grid.show()\n",
      "        elif guess_row == ship_row1 and guess_col == ship_col2:\n",
      "            print \"You got a hit!\"\n",
      "            hit_count+=1\n",
      "            grid[guess_row-1,guess_col-1] = (236,25,25)\n",
      "            grid.show()\n",
      "        elif guess_row == ship_row1 and guess_col == ship_col3:\n",
      "            print \"You got a hit!\"\n",
      "            hit_count+=1\n",
      "            grid[guess_row-1,guess_col-1] = (236,25,25)\n",
      "            grid.show()\n",
      "        else:\n",
      "            print \"You missed my battleship!\"\n",
      "            grid[guess_row-1,guess_col-1] = (10,50,200)\n",
      "            grid.show()\n",
      "    if hit_count==3:\n",
      "        print \"Congrats! You sunk my battleship!\"\n",
      "        break\n",
      "    if turn == 9:\n",
      "        print \"You lost!\"\n",
      "        if (number==0):\n",
      "            grid[ship_row1-1,ship_col1-1] = (30,30,90)\n",
      "            grid[ship_row2-1,ship_col1-1] = (30,30,90)\n",
      "            grid[ship_row3-1,ship_col1-1] = (30,30,90)\n",
      "        else:\n",
      "            grid[ship_row1-1,ship_col1-1] = (30,30,90)\n",
      "            grid[ship_row1-1,ship_col2-1] = (30,30,90)\n",
      "            grid[ship_row1-1,ship_col3-1] = (30,30,90)\n",
      "        grid.show()\n",
      "        break"
     ],
     "language": "python",
     "metadata": {},
     "outputs": []
    },
    {
     "cell_type": "markdown",
     "metadata": {},
     "source": [
      "2 Here is a function which takes a filename, opens the file, reads the result, closes the file, and returns the contents. It should look something like this:"
     ]
    },
    {
     "cell_type": "code",
     "collapsed": false,
     "input": [
      "def read_all_from_file(filename,safe=False):\n",
      "    try:\n",
      "        f = open(filename)\n",
      "    except IOError:\n",
      "            if safe==False:\n",
      "                print \"Can't recognize that file. Returning none.\"\n",
      "                return None\n",
      "            else:\n",
      "                print \"Can't recognize that file. Returning empty string.\"\n",
      "                return \" \"\n",
      "    contents = f.read()\n",
      "    f.close()\n",
      "    return contents\n",
      "\n"
     ],
     "language": "python",
     "metadata": {},
     "outputs": [],
     "prompt_number": 22
    },
    {
     "cell_type": "markdown",
     "metadata": {},
     "source": [
      "Use runtime error handling concepts to improve this function, so that it does the following:\n",
      "raises an informative custom error if the file doesn't exist\n",
      "uses try, except, else, and/or finally to safely return the file's contents & close the file if necessary.\n",
      "add a keyword safe which defaults to False. If the function is called with safe=True, then return an empty string if the file doesn't exist."
     ]
    },
    {
     "cell_type": "code",
     "collapsed": false,
     "input": [
      "read_all_from_file('tmp.txt')"
     ],
     "language": "python",
     "metadata": {},
     "outputs": [
      {
       "metadata": {},
       "output_type": "pyout",
       "prompt_number": 20,
       "text": [
        "'this is the contents of the file'"
       ]
      }
     ],
     "prompt_number": 20
    },
    {
     "cell_type": "code",
     "collapsed": false,
     "input": [
      "read_all_from_file('file.which.does.not.exist')"
     ],
     "language": "python",
     "metadata": {},
     "outputs": [
      {
       "output_type": "stream",
       "stream": "stdout",
       "text": [
        "Can't recognize that file. Returning none.\n"
       ]
      }
     ],
     "prompt_number": 23
    },
    {
     "cell_type": "code",
     "collapsed": false,
     "input": [
      "read_all_from_file('file.which.does.not.exist', safe=True)"
     ],
     "language": "python",
     "metadata": {},
     "outputs": [
      {
       "output_type": "stream",
       "stream": "stdout",
       "text": [
        "Can't recognize that file. Returning empty string.\n"
       ]
      },
      {
       "metadata": {},
       "output_type": "pyout",
       "prompt_number": 24,
       "text": [
        "' '"
       ]
      }
     ],
     "prompt_number": 24
    }
   ],
   "metadata": {}
  }
 ]
}