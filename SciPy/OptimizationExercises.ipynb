{
 "metadata": {
  "name": "",
  "signature": "sha256:9b88fd5b9a0fdae93fd4d00331e5b3748dda22903817cbf14db79a7fa6df86af"
 },
 "nbformat": 3,
 "nbformat_minor": 0,
 "worksheets": [
  {
   "cells": [
    {
     "cell_type": "heading",
     "level": 1,
     "metadata": {},
     "source": [
      "Optimatization Exercises"
     ]
    },
    {
     "cell_type": "heading",
     "level": 1,
     "metadata": {},
     "source": [
      "Question 1"
     ]
    },
    {
     "cell_type": "markdown",
     "metadata": {},
     "source": [
      "(a) Write a function that can compute the weighted linear least squares (WLSQ) best fit line to a set of data. Here is the function template to use:\n",
      "def WeightedLLSqFit(x,y,w):\n",
      "    \"\"\"Take in arrays representing (x,y) values for a set of linearly varying data and an array of weights w.\n",
      "    Perform a weighted linear least squares regression.  Return the resulting slope and intercept\n",
      "    parameters of the best fit line with their uncertainties.\n",
      "\n",
      "    If the weights are all equal to one, the uncertainties on the parameters are calculated using the \n",
      "    non-weighted least squares equations.\"\"\"\n",
      "\n",
      "    #your code goes here...\n",
      "\n",
      "    return slope,slerr,intercept,interr\n",
      "Your function should test whether there are unequal weights on the data points and return the correctly calculated uncertainties for whichever case is requested.\n",
      "Use the features of numpy arrays rather than loops to take advantage of their superior computational speed."
     ]
    },
    {
     "cell_type": "code",
     "collapsed": false,
     "input": [
      "%pylab inline\n",
      "import numpy as np\n",
      "import matplotlib.pyplot as plot"
     ],
     "language": "python",
     "metadata": {},
     "outputs": [
      {
       "output_type": "stream",
       "stream": "stdout",
       "text": [
        "Populating the interactive namespace from numpy and matplotlib\n"
       ]
      }
     ],
     "prompt_number": 1
    },
    {
     "cell_type": "code",
     "collapsed": false,
     "input": [
      "def LinearLSqFit(x,y):\n",
      "    \"\"\"Take in arrays representing (x,y) values for a set of linearly varying data and \n",
      "    perform a linear least squares regression.  Return the resulting slope and intercept\n",
      "    parameters of the best fit line with their uncertainties.\"\"\"\n",
      "\n",
      "    xave = x.mean()\n",
      "    yave = y.mean()\n",
      "    x2ave = (x*x).mean()\n",
      "    xyave = (x*y).mean()\n",
      "    denom = (x2ave - xave**2)\n",
      "    m = (xyave - xave*yave)/denom\n",
      "    b = (x2ave*yave - xave*xyave)/denom\n",
      "    delta = y - (m*x + b)\n",
      "    d2ave = (delta*delta).mean()\n",
      "    n = len(y)\n",
      "    merr = sqrt((n-2)**(-1)*d2ave/denom)\n",
      "    berr = sqrt((n-2)**(-1)*d2ave*x2ave/denom)\n",
      "    \n",
      "    return m,b,merr,berr\n",
      "\n",
      "\n",
      "\n",
      "def WeightedLLSqFit(x,y,w):\n",
      "    \"\"\"Take in arrays representing (x,y) values for a set of linearly varying data and an array of weights w.\n",
      "    Perform a weighted linear least squares regression.  Return the resulting slope and intercept\n",
      "    parameters of the best fit line with their uncertainties.\n",
      "\n",
      "    If the weights are all equal to one, the uncertainties on the parameters are calculated using the \n",
      "    non-weighted least squares equations.\"\"\"\n",
      "    print w\n",
      "    if False:\n",
      "        m,b,merr,berr = LinearLSqFit(x,y)\n",
      "        return m,b,merr,berr\n",
      "    else:\n",
      "        print \"got here\"\n",
      "        wsum = w.sum()\n",
      "        wxysum = (w*x*y).sum()\n",
      "        wxsum = (w*x).sum()\n",
      "        wysum = (w*y).sum()\n",
      "        wx2sum = (w*(x**2)).sum()\n",
      "        denom = ((wsum*wx2sum) - (wxsum)**2)\n",
      "\n",
      "        slope = (wsum*wxysum - wxsum*wysum)/denom\n",
      "        intercept = (wx2sum*wysum - wxsum*wxysum)/denom\n",
      "\n",
      "        slerr = sqrt(wsum/denom)\n",
      "        interr = sqrt(wx2sum/denom)\n",
      "\n",
      "        return slope,slerr,intercept,interr"
     ],
     "language": "python",
     "metadata": {},
     "outputs": [],
     "prompt_number": 10
    },
    {
     "cell_type": "markdown",
     "metadata": {},
     "source": [
      "(b) For the data below, use the uncertainties on the position values as weights to perform a WLSQ best fit. Print the results of the fit, both the fitted parameter values and their uncertainties.\n",
      "   time = np.array([1.,2.,3.,4.,5.,6.,7.,8.,9.,10.])\n",
      "   pos = np.array([7.75, 7.33, 6.89, 6.45, 5.96, 5.55, 5.10, 4.49, 3.93, 3.58])\n",
      "   sigp = np.array([0.02, 0.03, 0.03, 0.04, 0.05, 0.06, 0.08, 0.11, 0.14, 0.17])\n",
      "If you did it right you should get m = -0.4510 \u00b1 0.0066 and b = 8.2201 \u00b1 0.0214."
     ]
    },
    {
     "cell_type": "code",
     "collapsed": false,
     "input": [
      "time = np.array([1.,2.,3.,4.,5.,6.,7.,8.,9.,10.])\n",
      "pos = np.array([7.75, 7.33, 6.89, 6.45, 5.96, 5.55, 5.10, 4.49, 3.93, 3.58])\n",
      "sigp = np.array([0.02, 0.03, 0.03, 0.04, 0.05, 0.06, 0.08, 0.11, 0.14, 0.17])\n",
      "\n",
      "slope,slerr,intercept,inter= WeightedLLSqFit(time,pos,sigp)\n",
      "print \"Slope = \", slope, \"+-\",slerr\n",
      "print \"Intercept = \", intercept, \"+-\",inter"
     ],
     "language": "python",
     "metadata": {},
     "outputs": [
      {
       "output_type": "stream",
       "stream": "stdout",
       "text": [
        "[ 0.02  0.03  0.03  0.04  0.05  0.06  0.08  0.11  0.14  0.17]\n",
        "got here\n",
        "Slope =  -0.479358159337 +- 0.461386648159\n",
        "Intercept =  8.34393502858 +- 3.57225332498\n"
       ]
      }
     ],
     "prompt_number": 11
    },
    {
     "cell_type": "code",
     "collapsed": false,
     "input": [],
     "language": "python",
     "metadata": {},
     "outputs": [],
     "prompt_number": 3
    }
   ],
   "metadata": {}
  }
 ]
}