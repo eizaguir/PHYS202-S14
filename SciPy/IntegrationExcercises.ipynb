{
 "metadata": {
  "name": "",
  "signature": "sha256:f34012d67f95fe5fb125a0e4684776937a7e298583b55b38a64abcf744e60581"
 },
 "nbformat": 3,
 "nbformat_minor": 0,
 "worksheets": [
  {
   "cells": [
    {
     "cell_type": "heading",
     "level": 1,
     "metadata": {},
     "source": [
      "Integration Exercises"
     ]
    },
    {
     "cell_type": "markdown",
     "metadata": {},
     "source": [
      "Question 1\n",
      "(a) Write two functions trapz(func,x) and simps(func,x) to compute the integral of the function func over the variable x using the trapezoidal rule and Simpson's rule to a file called Integrators.py. Do not use the scipy.integrate built-in functions. Include docstrings with each function that describe what they do. Then import the module and use the functions to answer the following questions."
     ]
    },
    {
     "cell_type": "code",
     "collapsed": false,
     "input": [
      "%%file Integrators.py\n",
      "import numpy as np\n",
      "\n",
      "\n",
      "def trapz(func,a,b,N):\n",
      "    \"\"\"Takes in a function, an upper and lower limit, and the number of \n",
      "    slices taken N, and returns the integral, using the trapezoidal method.\"\"\"\n",
      "    \n",
      "    h = (b-a)/N\n",
      "\n",
      "    k = np.arange(1,N)\n",
      "    I = h*(0.5*func(a) + 0.5*func(b) + func(a+k*h).sum())\n",
      "\n",
      "    return I\n",
      "    \n",
      "def simpz(func,a,b,N):\n",
      "    \"\"\"Takes in a function, an upper and lower limit, and the number of \n",
      "    slices taken N, and returns the integral, using the Simpsons method.\"\"\"\n",
      "    \n",
      "    h = (b-a)/N\n",
      "\n",
      "    k1 = np.arange(1,N/2+1)\n",
      "    k2 = np.arange(1,N/2)\n",
      "    I = (1./3.)*h*(func(a) + func(b) + 4.*func(a+(2*k1-1)*h).sum() + 2.*func(a+2*k2*h).sum())\n",
      "\n",
      "    return I"
     ],
     "language": "python",
     "metadata": {},
     "outputs": [
      {
       "output_type": "stream",
       "stream": "stdout",
       "text": [
        "Overwriting Integrators.py\n"
       ]
      }
     ],
     "prompt_number": 3
    },
    {
     "cell_type": "markdown",
     "metadata": {},
     "source": [
      "b) Use your trapz and simps functions from part (a) to calculate the integral of x4\u22122x+1 from x = 0 to x = 2 with N = 10, N = 100, and N = 1000. Then compare your result to the known correct value of 4.4. What is the percent error in each case"
     ]
    },
    {
     "cell_type": "code",
     "collapsed": false,
     "input": [
      "import Integrators as myint\n",
      "import numpy as np\n",
      "\n",
      "def func(x):\n",
      "    return x**4 - 2*x + 1\n",
      "a=0.\n",
      "b=2.\n",
      "N=10\n",
      "I1 = myint.trapz(func,a,b,N)\n",
      "I4 = myint.simpz(func,a,b,N)\n",
      "N=100\n",
      "I2 = myint.trapz(func,a,b,N)\n",
      "I5 = myint.simpz(func,a,b,N)\n",
      "N=1000\n",
      "I3 = myint.trapz(func,a,b,N)\n",
      "I6 = myint.simpz(func,a,b,N)\n",
      "\n",
      "print \"Traps with N = 10: %s\"%(abs(I1-4.4))\n",
      "print \"Traps with N = 100: %s\"%(abs(I2-4.4))\n",
      "print \"Traps with N = 1000: %s\"%(abs(I3-4.4))\n",
      "\n",
      "print \"Simps with N = 10: %s\"%(abs(I4-4.4))\n",
      "print \"Simps with N = 100: %s\"%(abs(I5-4.4))\n",
      "print \"Simps with N = 1000: %s\"%(abs(I6-4.4))"
     ],
     "language": "python",
     "metadata": {},
     "outputs": [
      {
       "output_type": "stream",
       "stream": "stdout",
       "text": [
        "Traps with N = 10: 0.10656\n",
        "Traps with N = 100: 0.001066656\n",
        "Traps with N = 1000: 1.06666655997e-05\n",
        "Simps with N = 10: 0.000426666666667\n",
        "Simps with N = 100: 4.26666666442e-08\n",
        "Simps with N = 1000: 4.26680912824e-12\n"
       ]
      }
     ],
     "prompt_number": 4
    },
    {
     "cell_type": "markdown",
     "metadata": {},
     "source": [
      "Question 2\n",
      "Consider the integral\n",
      "E(x)=\u222bx0e\u2212t2dt\n",
      "This is the error function, commonly seen in probability and statistics. There is no known way to perform this particular integral analytically, although the integrand can be expanded in a Taylor series and terms computed to arbitrary order. For most applications, numerical approaches are the only way forward.\n",
      "(a) Use scipy.integrate.cumtrapz to calculate E(x) for values of x from 0 to 3 in steps of 0.1. Print the result."
     ]
    },
    {
     "cell_type": "code",
     "collapsed": false,
     "input": [
      "from scipy.integrate import cumtrapz\n",
      "\n",
      "x=np.arange(0,3.1,.1)\n",
      "\n",
      "def func(x):\n",
      "    return np.exp((-x**2))\n",
      "I = cumtrapz(func(x),initial=0,dx=0.1)\n",
      "print I"
     ],
     "language": "python",
     "metadata": {},
     "outputs": [
      {
       "output_type": "stream",
       "stream": "stdout",
       "text": [
        "[ 0.          0.09950249  0.19704446  0.29078049  0.37908424  0.46063146\n",
        "  0.53445532  0.59997046  0.6569664   0.70557392  0.7462108   0.77951463\n",
        "  0.80627088  0.82734325  0.84361215  0.85592503  0.86506023  0.87170427\n",
        "  0.87644128  0.87975207  0.88202044  0.88354398  0.88454709  0.88519453\n",
        "  0.88560418  0.88585826  0.88601274  0.88610482  0.88615862  0.88618943\n",
        "  0.88620673]\n"
       ]
      }
     ],
     "prompt_number": 5
    },
    {
     "cell_type": "markdown",
     "metadata": {},
     "source": [
      "b) Plot the integrand as a function of t and E(x) as a function of x (both ranging from 0 to 3) on the same graph."
     ]
    },
    {
     "cell_type": "code",
     "collapsed": false,
     "input": [
      "import matplotlib.pyplot as plt\n",
      "%pylab inline\n",
      "#print x\n",
      "y = func(x)\n",
      "#print y\n",
      "#print I\n",
      "plt.plot(x,y)\n",
      "plt.plot(x,I)"
     ],
     "language": "python",
     "metadata": {},
     "outputs": [
      {
       "output_type": "stream",
       "stream": "stdout",
       "text": [
        "Populating the interactive namespace from numpy and matplotlib\n"
       ]
      },
      {
       "metadata": {},
       "output_type": "pyout",
       "prompt_number": 6,
       "text": [
        "[<matplotlib.lines.Line2D at 0xb1e4358>]"
       ]
      },
      {
       "metadata": {},
       "output_type": "display_data",
       "png": "[encoded data removed]",
       "text": [
        "<matplotlib.figure.Figure at 0x48fd4e0>"
       ]
      }
     ],
     "prompt_number": 6
    },
    {
     "cell_type": "markdown",
     "metadata": {},
     "source": [
      "Question 3\n",
      "Consider a particle in a one-dimensional box of width L. The probability of finding the particle between a and b is given by\n",
      "P(a,b)=\u222bba|\u03c8(x)|2dx\n",
      "where\n",
      "\u03c8(x)=2L\u203e\u203e\u203e\u221asin(n\u03c0xL)\n",
      "is the wavefunction.\n",
      "(a) What is the probability of finding the particle between L/3 and L/2 for the ground state (n = 1) and for the first excited state (n = 2)? Let L = 1. Perform the integral using both scipy.integrate.trapz and scipy.integrate.quad with an accuracy of 6 sig figs. How many slices did you need to use for scipy.integrate.trapz?"
     ]
    },
    {
     "cell_type": "code",
     "collapsed": false,
     "input": [
      "from scipy import integrate\n",
      "\n",
      "L = 1.\n",
      "x = linspace(L/3,L/2,num=2,endpoint=True)\n",
      "\n",
      "#You need ~100 slices to be within 6 sig figs for Trapezoid Method\n",
      "#You need ~75 slices to be within 6 sig figs for Quad Method\n",
      "for n in [1,2]:\n",
      "    eq = (sqrt(2./L) * np.sin((n*np.pi*x)/L))**2\n",
      "    \n",
      "    I = integrate.trapz(eq,x)\n",
      "    print \"Integrating with Trapezoid method and n = %s: %s\"%(n,I)\n",
      "    Error = abs(.3044988-I)\n",
      "    print \"Trapz error = %s\"%Error\n",
      "    def func(x):\n",
      "         return (sqrt(2/L) * np.sin((n*np.pi*x)/L))**2\n",
      "    I2 = integrate.quad(func,L/3.,L/2.)\n",
      "    print \"Integrating with Quad method and n = %s: %s\"%(n,I2)\n",
      "    Error = abs(.3044988-I)\n",
      "    print \"Quad Error = %s\\n\"%Error\n",
      "    \n",
      "\n",
      "    \n"
     ],
     "language": "python",
     "metadata": {},
     "outputs": [
      {
       "output_type": "stream",
       "stream": "stdout",
       "text": [
        "Integrating with Trapezoid method and n = 1: 0.291666666667\n",
        "Trapz error = 0.0128321333333\n",
        "Integrating with Quad method and n = 1: (0.3044988905221147, 3.380616792304666e-15)\n",
        "Quad Error = 0.0128321333333\n",
        "\n",
        "Integrating with Trapezoid method and n = 2: 0.125\n",
        "Trapz error = 0.1794988\n",
        "Integrating with Quad method and n = 2: (0.09775055473894276, 1.0852491654105595e-15)\n",
        "Quad Error = 0.1794988\n",
        "\n"
       ]
      }
     ],
     "prompt_number": 52
    },
    {
     "cell_type": "code",
     "collapsed": false,
     "input": [
      "Arr = np.linspace(0,L,100, endpoint = True)\n",
      "for n in [1,2]:\n",
      "    if n==1:\n",
      "        desc = \"N = 1\"\n",
      "    else:\n",
      "        desc= \"N = 2\"\n",
      "    eq = (sqrt(2/L)*np.sin((n*np.pi*Arr)/L))**2\n",
      "    \n",
      "    plt.plot(Arr,eq, label = desc)\n",
      "    plt.xlabel(\"x\",fontsize=20)\n",
      "    plt.ylabel(\"Probability\",fontsize=20)\n",
      "    \n",
      "plt.legend(loc=\"lower left\")"
     ],
     "language": "python",
     "metadata": {},
     "outputs": [
      {
       "metadata": {},
       "output_type": "pyout",
       "prompt_number": 69,
       "text": [
        "<matplotlib.legend.Legend at 0xe46c3c8>"
       ]
      },
      {
       "metadata": {},
       "output_type": "display_data",
       "png": "[encoded data removed]",
       "text": [
        "<matplotlib.figure.Figure at 0xe46c2e8>"
       ]
      }
     ],
     "prompt_number": 69
    },
    {
     "cell_type": "markdown",
     "metadata": {},
     "source": [
      "Question 4\n",
      "Integrals of mass density lead to three interesting quantities:\n",
      "M=\u222b\u03c1dVr\u20d7 cm=(xcm,ycm,zcm)=1M\u222br\u20d7 \u03c1dVIcm=\u222b(r\u2212rcm)2\u03c1dV\n",
      "where M is the total mass (a scalar), r\u20d7 cm is the center of mass position (a vector of 3 components), Icm are the moments of inertia about the center of mass (diagonals of a 3x3 matrix), and the mass density, \u03c1, may be a function of the spatial variables.\n",
      "Consider a rectangular box: length (in x) = 0.2 m, width (in y) = 0.2 m, and height (in z) = 1.0 m centered on the origin, (0,0,0) and with a mass density, \u03c1(x,y,z) = (100 kg/m4)(y + 0.1) + (100 kg/m5)z2 for x, y, and z in meters.\n",
      "\n",
      "(a) Use numerical integration to find M, r\u20d7 cm, and Icm. Note that you need M to compute r\u20d7 cm and r\u20d7 cm to compute Icm. The moments of inertia Icm are Ixx, Iyy, and Izz, where e.g. Ixx=\u222b((y\u2212ycm)2+(z\u2212zcm)2)\u03c1dV, etc."
     ]
    },
    {
     "cell_type": "code",
     "collapsed": false,
     "input": [
      "from scipy.integrate import tplquad\n",
      "\n",
      "#AGAIN: the order of arguments matters - inner to outer\n",
      "\n",
      "row = 100*y\n",
      "integrand = lambda z,y,x: y * np.sin(x) + z * np.cos(x)\n",
      "\n",
      "xmin = 0\n",
      "xmax = np.pi\n",
      "\n",
      "ymin = lambda x: 0\n",
      "ymax = lambda x: 1\n",
      "\n",
      "#Note the order of these arguments:\n",
      "zmin = lambda x,y: -1\n",
      "zmax = lambda x,y: 1\n",
      "\n",
      "#Here the order of limits is outer to inner\n",
      "ans, err = tplquad(integrand, xmin, xmax, ymin, ymax, zmin, zmax)\n",
      "print \"The triple integral = \",ans"
     ],
     "language": "python",
     "metadata": {},
     "outputs": []
    }
   ],
   "metadata": {}
  }
 ]
}