{
 "metadata": {
  "name": "",
  "signature": "sha256:2d881759b52f91e4eb1ffc660982fdb41053c1658c5ec60a84f238499f3d17aa"
 },
 "nbformat": 3,
 "nbformat_minor": 0,
 "worksheets": [
  {
   "cells": [
    {
     "cell_type": "heading",
     "level": 1,
     "metadata": {},
     "source": [
      "Interpolation Excercises"
     ]
    },
    {
     "cell_type": "markdown",
     "metadata": {},
     "source": [
      "\n",
      "1. It is common to test functions where you know the answer they should give. Let's test the dipolePotential() function that we previously saved in Electrostatics.py to see that the function is zero along the bisector between the charges.\n",
      "First, set up a grid and evaluate the function."
     ]
    },
    {
     "cell_type": "code",
     "collapsed": false,
     "input": [
      "from Electrostatics import *\n",
      "%pylab inline\n",
      "import numpy as np\n",
      "import matplotlib.pyplot as plt\n",
      "from scipy.interpolate import interp1d \n",
      "\n",
      "x,y = np.meshgrid(np.arange(-5,5.01,0.5),np.arange(-5,5.01,0.5))\n",
      "Vdipole = dipolePotential(x,y,1e-9,2.)\n",
      "plt.contour(x,y,Vdipole,cmap=cm.coolwarm)\n",
      "plt.show()"
     ],
     "language": "python",
     "metadata": {},
     "outputs": [
      {
       "output_type": "stream",
       "stream": "stdout",
       "text": [
        "Populating the interactive namespace from numpy and matplotlib\n"
       ]
      },
      {
       "metadata": {},
       "output_type": "display_data",
       "png": "[encoded data removed]",
       "text": [
        "<matplotlib.figure.Figure at 0x10277c650>"
       ]
      }
     ],
     "prompt_number": 10
    },
    {
     "cell_type": "markdown",
     "metadata": {},
     "source": [
      "(a) Use a boolean mask to locate the positions where x=0."
     ]
    },
    {
     "cell_type": "code",
     "collapsed": false,
     "input": [
      "ii = (x==0)\n",
      "plt.plot(x[ii],y);"
     ],
     "language": "python",
     "metadata": {},
     "outputs": [
      {
       "metadata": {},
       "output_type": "display_data",
       "png": "[encoded data removed]",
       "text": [
        "<matplotlib.figure.Figure at 0x10732e9d0>"
       ]
      }
     ],
     "prompt_number": 22
    },
    {
     "cell_type": "markdown",
     "metadata": {},
     "source": [
      "(b) Check that Vdipole for these locations is zero. i.e. print the value of Vdipole for these locations using your mask from part (a)."
     ]
    },
    {
     "cell_type": "code",
     "collapsed": false,
     "input": [
      "plt.plot(Vdipole[ii],y);"
     ],
     "language": "python",
     "metadata": {},
     "outputs": [
      {
       "metadata": {},
       "output_type": "display_data",
       "png": "[encoded data removed]",
       "text": [
        "<matplotlib.figure.Figure at 0x10732e990>"
       ]
      }
     ],
     "prompt_number": 26
    },
    {
     "cell_type": "markdown",
     "metadata": {},
     "source": [
      "2) Thermistors are electrical devices that measure temperature. They are made out of a material whose resistance changes very predictably with temperature. In the lab we measure the resistance of the thermistor and then compute the temperature from the engineering data that the manufacturer sends with the devices. The table below is data for a set of thermistors used in PHYS 340. The temperature values are in \u2218C and the resistances in mega-Ohms, M\u03a9.\n",
      "Temp   Res   Temp   Res   Temp   Res   Temp   Res   Temp   Res\n",
      "--------------------------------------------------------------- \n",
      " 10   3.239   16   2.610   22   2.169   28   1.857   34   1.634\n",
      " 11   3.118   17   2.526   23   2.110   29   1.815   35   1.603\n",
      " 12   3.004   18   2.446   24   2.053   30   1.774   36   1.574\n",
      " 13   2.897   19   2.371   25   2.000   31   1.736   37   1.547\n",
      " 14   2.795   20   2.300   26   1.950   32   1.700   38   1.521\n",
      " 15   2.700   21   2.233   27   1.902   33   1.666   39   1.496\n",
      "(a) Let's turn this look-up table into a continuous function. Write a reusable function Temp(Resistance) that takes any value of Resistance and returns the interpolated temperature. Be sure to include a docstring in your function.\n"
     ]
    },
    {
     "cell_type": "markdown",
     "metadata": {},
     "source": [
      "(a) Let's turn this look-up table into a continuous function. Write a reusable function Temp(Resistance) that takes any value of Resistance and returns the interpolated temperature. Be sure to include a docstring in your function."
     ]
    },
    {
     "cell_type": "code",
     "collapsed": false,
     "input": [
      "t = arange(10,40,1)\n",
      "r = np.array([3.239,3.118,3.004,2.897,2.795,\n",
      "              2.700,2.610,2.526,2.446,2.371,2.300,\n",
      "              2.233,2.169,2.110,2.053,2.000,1.950,\n",
      "              1.902,1.857,1.815,1.774,1.736,1.700,\n",
      "              1.666,1.634,1.603,1.574,1.547,1.521,\n",
      "              1.496])\n",
      "\n",
      "def Temp(Resistance):\n",
      "    \"\"\"Give me a value of resistance, \n",
      "    and I will give back a temperature \n",
      "    (probably interpolated). R in mega-Ohms,\n",
      "    Temperature in Celsius\"\"\"\n",
      "    \n",
      "    newR = Resistance\n",
      "    \n",
      "    newT = interp1d(r[::-1], t[::-1])(newR)\n",
      "    \n",
      "    return newT\n",
      "    \n",
      "    \n",
      "    "
     ],
     "language": "python",
     "metadata": {},
     "outputs": [],
     "prompt_number": 61
    },
    {
     "cell_type": "markdown",
     "metadata": {},
     "source": [
      "\n",
      "(b) Show that the function returns expected values, including some from the table for a few specific input resistances.\n",
      " "
     ]
    },
    {
     "cell_type": "code",
     "collapsed": false,
     "input": [
      "print Temp(3.239)"
     ],
     "language": "python",
     "metadata": {},
     "outputs": [
      {
       "output_type": "stream",
       "stream": "stdout",
       "text": [
        "10.0\n"
       ]
      }
     ],
     "prompt_number": 62
    },
    {
     "cell_type": "code",
     "collapsed": false,
     "input": [
      "print Temp(2.345)"
     ],
     "language": "python",
     "metadata": {},
     "outputs": [
      {
       "output_type": "stream",
       "stream": "stdout",
       "text": [
        "19.3661971831\n"
       ]
      }
     ],
     "prompt_number": 63
    },
    {
     "cell_type": "code",
     "collapsed": false,
     "input": [
      "print Temp(2.6)"
     ],
     "language": "python",
     "metadata": {},
     "outputs": [
      {
       "output_type": "stream",
       "stream": "stdout",
       "text": [
        "16.119047619\n"
       ]
      }
     ],
     "prompt_number": 64
    },
    {
     "cell_type": "markdown",
     "metadata": {},
     "source": [
      "c) Plot Temp(Resistance) vs. Resistance for a reasonable range of Resistance with reasonably fine sampling. Include as an annotation on the plot the value of the temperature for a resistance of 1.75 M\u03a9. (It's up to you to decide what \"reasonable\" means in both cases.)"
     ]
    },
    {
     "cell_type": "code",
     "collapsed": false,
     "input": [
      "markerx = 1.75\n",
      "markery = Temp(markerx)\n",
      "newr = arange(3.239,1.496,-.01)\n",
      "newt = Temp(newr)\n",
      "plt.plot(newr,newt, markerx, markery, 'r+',markersize=20,markeredgewidth=3)\n",
      "\n",
      "plt.annotate(r'$R = 1.75, T = %s$'%Temp(1.75),\n",
      "            xy=(markerx, markery), xycoords='data',\n",
      "            xytext=(+10, +30), textcoords='offset points', fontsize=16,\n",
      "            arrowprops=dict(arrowstyle=\"->\", connectionstyle=\"arc3,rad=.2\"))\n",
      "\n",
      "\n",
      "plt.ylabel('Temperature',fontsize=20)\n",
      "plt.xlabel('Resistance',fontsize=20)\n",
      "\n",
      "plt.show()"
     ],
     "language": "python",
     "metadata": {},
     "outputs": [
      {
       "metadata": {},
       "output_type": "display_data",
       "png": "[encoded data removed]",
       "text": [
        "<matplotlib.figure.Figure at 0x107af15d0>"
       ]
      }
     ],
     "prompt_number": 87
    },
    {
     "cell_type": "code",
     "collapsed": false,
     "input": [],
     "language": "python",
     "metadata": {},
     "outputs": [],
     "prompt_number": 77
    },
    {
     "cell_type": "code",
     "collapsed": false,
     "input": [],
     "language": "python",
     "metadata": {},
     "outputs": []
    }
   ],
   "metadata": {}
  }
 ]
}