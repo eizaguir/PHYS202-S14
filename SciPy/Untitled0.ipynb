{
 "metadata": {
  "name": "",
  "signature": "sha256:2f48cde4ed82b3dbfb6d3188b3dbeaa3bd61a2208e4bc69ba0755a5dc167fd96"
 },
 "nbformat": 3,
 "nbformat_minor": 0,
 "worksheets": [
  {
   "cells": [
    {
     "cell_type": "code",
     "collapsed": false,
     "input": [
      "from IPython.html.widgets import interact\n",
      "from IPython.display import display\n",
      "\n",
      "%matplotlib inline\n",
      "import numpy as np\n",
      "import matplotlib.pyplot as plt\n",
      "\n",
      "from sympy import *\n",
      "init_printing(use_latex='mathjax')\n",
      "\n",
      "x = Symbol(\"x\")\n",
      "expr = (x + pi)**2\n",
      "    \n",
      "f = lambdify([x], expr, modules='numpy')\n",
      "lim = ([1,2,3,4,5,6],1,10)\n",
      "x,xmin,xmax = lim\n",
      "Sxmin = sympify(xmin)\n",
      "Sxmax = sympify(xmax)\n",
      "n=100\n",
      "\n",
      "s = np.linspace(xmin, xmax, 100)\n",
      "print s\n",
      "\n",
      "expr.evalf(Sxmin)"
     ],
     "language": "python",
     "metadata": {},
     "outputs": [
      {
       "output_type": "stream",
       "stream": "stdout",
       "text": [
        "[  1.           1.09090909   1.18181818   1.27272727   1.36363636\n",
        "   1.45454545   1.54545455   1.63636364   1.72727273   1.81818182\n",
        "   1.90909091   2.           2.09090909   2.18181818   2.27272727\n",
        "   2.36363636   2.45454545   2.54545455   2.63636364   2.72727273\n",
        "   2.81818182   2.90909091   3.           3.09090909   3.18181818\n",
        "   3.27272727   3.36363636   3.45454545   3.54545455   3.63636364\n",
        "   3.72727273   3.81818182   3.90909091   4.           4.09090909\n",
        "   4.18181818   4.27272727   4.36363636   4.45454545   4.54545455\n",
        "   4.63636364   4.72727273   4.81818182   4.90909091   5.           5.09090909\n",
        "   5.18181818   5.27272727   5.36363636   5.45454545   5.54545455\n",
        "   5.63636364   5.72727273   5.81818182   5.90909091   6.           6.09090909\n",
        "   6.18181818   6.27272727   6.36363636   6.45454545   6.54545455\n",
        "   6.63636364   6.72727273   6.81818182   6.90909091   7.           7.09090909\n",
        "   7.18181818   7.27272727   7.36363636   7.45454545   7.54545455\n",
        "   7.63636364   7.72727273   7.81818182   7.90909091   8.           8.09090909\n",
        "   8.18181818   8.27272727   8.36363636   8.45454545   8.54545455\n",
        "   8.63636364   8.72727273   8.81818182   8.90909091   9.           9.09090909\n",
        "   9.18181818   9.27272727   9.36363636   9.45454545   9.54545455\n",
        "   9.63636364   9.72727273   9.81818182   9.90909091  10.        ]\n"
       ]
      },
      {
       "latex": [
        "$$\\left(x + 3.0\\right)^{2}$$"
       ],
       "metadata": {},
       "output_type": "pyout",
       "prompt_number": 26,
       "text": [
        "         2\n",
        "(x + 3.0) "
       ]
      }
     ],
     "prompt_number": 26
    },
    {
     "cell_type": "code",
     "collapsed": false,
     "input": [
      "float(expr.evalf(Sxmax))"
     ],
     "language": "python",
     "metadata": {},
     "outputs": [
      {
       "ename": "TypeError",
       "evalue": "can't convert expression to float",
       "output_type": "pyerr",
       "traceback": [
        "\u001b[1;31m---------------------------------------------------------------------------\u001b[0m\n\u001b[1;31mTypeError\u001b[0m                                 Traceback (most recent call last)",
        "\u001b[1;32m<ipython-input-22-b7d191316251>\u001b[0m in \u001b[0;36m<module>\u001b[1;34m()\u001b[0m\n\u001b[1;32m----> 1\u001b[1;33m \u001b[0mfloat\u001b[0m\u001b[1;33m(\u001b[0m\u001b[0mexpr\u001b[0m\u001b[1;33m.\u001b[0m\u001b[0mevalf\u001b[0m\u001b[1;33m(\u001b[0m\u001b[0mSxmax\u001b[0m\u001b[1;33m)\u001b[0m\u001b[1;33m)\u001b[0m\u001b[1;33m\u001b[0m\u001b[0m\n\u001b[0m",
        "\u001b[1;32mC:\\Users\\Ed\\Anaconda\\lib\\site-packages\\sympy\\core\\expr.pyc\u001b[0m in \u001b[0;36m__float__\u001b[1;34m(self)\u001b[0m\n\u001b[0;32m    205\u001b[0m         \u001b[1;32mif\u001b[0m \u001b[0mresult\u001b[0m\u001b[1;33m.\u001b[0m\u001b[0mis_number\u001b[0m \u001b[1;32mand\u001b[0m \u001b[0mresult\u001b[0m\u001b[1;33m.\u001b[0m\u001b[0mas_real_imag\u001b[0m\u001b[1;33m(\u001b[0m\u001b[1;33m)\u001b[0m\u001b[1;33m[\u001b[0m\u001b[1;36m1\u001b[0m\u001b[1;33m]\u001b[0m\u001b[1;33m:\u001b[0m\u001b[1;33m\u001b[0m\u001b[0m\n\u001b[0;32m    206\u001b[0m             \u001b[1;32mraise\u001b[0m \u001b[0mTypeError\u001b[0m\u001b[1;33m(\u001b[0m\u001b[1;34m\"can't convert complex to float\"\u001b[0m\u001b[1;33m)\u001b[0m\u001b[1;33m\u001b[0m\u001b[0m\n\u001b[1;32m--> 207\u001b[1;33m         \u001b[1;32mraise\u001b[0m \u001b[0mTypeError\u001b[0m\u001b[1;33m(\u001b[0m\u001b[1;34m\"can't convert expression to float\"\u001b[0m\u001b[1;33m)\u001b[0m\u001b[1;33m\u001b[0m\u001b[0m\n\u001b[0m\u001b[0;32m    208\u001b[0m \u001b[1;33m\u001b[0m\u001b[0m\n\u001b[0;32m    209\u001b[0m     \u001b[1;32mdef\u001b[0m \u001b[0m__complex__\u001b[0m\u001b[1;33m(\u001b[0m\u001b[0mself\u001b[0m\u001b[1;33m)\u001b[0m\u001b[1;33m:\u001b[0m\u001b[1;33m\u001b[0m\u001b[0m\n",
        "\u001b[1;31mTypeError\u001b[0m: can't convert expression to float"
       ]
      }
     ],
     "prompt_number": 22
    },
    {
     "cell_type": "code",
     "collapsed": false,
     "input": [],
     "language": "python",
     "metadata": {},
     "outputs": []
    }
   ],
   "metadata": {}
  }
 ]
}