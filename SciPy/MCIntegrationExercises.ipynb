{
 "metadata": {
  "name": "",
  "signature": "sha256:d27fa04bbef300d78db45c865dd0921e5e139f10609abce1bbe263aef26d5dcc"
 },
 "nbformat": 3,
 "nbformat_minor": 0,
 "worksheets": [
  {
   "cells": [
    {
     "cell_type": "heading",
     "level": 1,
     "metadata": {},
     "source": [
      "Monte Carlo Integration Exercises"
     ]
    },
    {
     "cell_type": "code",
     "collapsed": false,
     "input": [
      "from Electrostatics import *"
     ],
     "language": "python",
     "metadata": {},
     "outputs": [],
     "prompt_number": 3
    },
    {
     "cell_type": "code",
     "collapsed": false,
     "input": [
      "help(pointPotential)"
     ],
     "language": "python",
     "metadata": {},
     "outputs": [
      {
       "output_type": "stream",
       "stream": "stdout",
       "text": [
        "Help on function pointPotential in module Electrostatics:\n",
        "\n",
        "pointPotential(x, y, q, Xc, Yc)\n",
        "    Return the electric potential for a \n",
        "    point charge q at (Xc,Yc)\n",
        "    \n",
        "    Units returned are [Volts] if input \n",
        "    units are [meters] and [Coulombs]\n",
        "\n"
       ]
      }
     ],
     "prompt_number": 4
    },
    {
     "cell_type": "heading",
     "level": 1,
     "metadata": {},
     "source": [
      "Question 1"
     ]
    },
    {
     "cell_type": "code",
     "collapsed": false,
     "input": [
      "#Driver: Joseph Izaguirre\n",
      "#Navigator: Ed Izaguirre"
     ],
     "language": "python",
     "metadata": {},
     "outputs": []
    },
    {
     "cell_type": "markdown",
     "metadata": {},
     "source": [
      "(a) Use the sample mean method to compute the potential at point P(2,3) due to the disk of charge for different numbers of samples N=(101,102,103,104,105,106). Report the value and its statistical uncertainty for each sample size. How does the result depend on N?"
     ]
    },
    {
     "cell_type": "code",
     "collapsed": false,
     "input": [
      "import numpy as np\n",
      "#Set up the function\n",
      "sigma = 1.*10**-6 #C/m^2\n",
      "k = 9.*10**9 #N*m^2/C^2\n",
      "print k\n",
      "fxy = lambda x,y: (sigma*k)/(np.sqrt((x-2.)**2 + (y-3.)**2))\n",
      "xa = -1.; xb = 1.\n",
      "ya = 0.; yb = 2.\n",
      "    \n",
      "i = (10,100,1000,10000,100000,1000000)\n",
      "for N in i:\n",
      "    x = xa + (xb-xa)*np.random.random_sample(N)\n",
      "    y = ya + (yb-ya)*np.random.random_sample(N)\n",
      "    \n",
      "    \n",
      "    I = (xb-xa)*(yb-ya)*fxy(x,y).mean()\n",
      "        \n",
      "    err = (xb-xa)*(yb-ya)*np.sqrt(((fxy(x,y)**2).mean() - (fxy(x,y).mean())**2)/N)\n",
      "    \n",
      "    \n",
      "    print \"I=\",I,\" +/-\",err"
     ],
     "language": "python",
     "metadata": {},
     "outputs": [
      {
       "output_type": "stream",
       "stream": "stdout",
       "text": [
        "9000000000.0\n",
        "I= 12318.4213091  +/- 712.363798276\n",
        "I= 13226.1310619  +/- 311.480346895\n",
        "I= 12958.3309209  +/- 91.9733631272\n",
        "I= 13040.4841296  +/- 29.790438471\n",
        "I= 13041.8388162  +/- 9.38292889458\n",
        "I="
       ]
      },
      {
       "output_type": "stream",
       "stream": "stdout",
       "text": [
        " 13051.6620169  +/- 2.97780080366\n"
       ]
      }
     ],
     "prompt_number": 5
    },
    {
     "cell_type": "markdown",
     "metadata": {},
     "source": [
      "(b) Now use the same method to compute the electric potential, V, at point P(2,3), from a disk centered on the origin with radius, R=1.2 m, and charge density, \u03c3 = 2 nC/m2 ."
     ]
    },
    {
     "cell_type": "code",
     "collapsed": false,
     "input": [
      "#Set up the function\n",
      "sigma = 2.*10**-9 #C/m^2\n",
      "k = 9.*10**9 #N*m^2/C^2\n",
      "frt = lambda r,t: ((sigma*k)/np.abs(r-np.sqrt(13))*r)\n",
      "\n",
      "ra = 0.; rb = 1.2\n",
      "thetaA = 0.; thetaB = 2*np.pi\n",
      "\n",
      "i = (10,100,1000,10000,100000,1000000)\n",
      "for N in i:\n",
      "    Area = np.pi * 2.4\n",
      "    r = (rb-ra)*np.random.random_sample(N)\n",
      "    t = (thetaB-thetaA)*np.random.random_sample(N)\n",
      "    \n",
      "    I = (Area)*frt(r,t).mean()\n",
      "        \n",
      "    err = (Area)*np.sqrt(((frt(r,t)**2).mean() - (frt(r,t).mean())**2)/N)\n",
      "    \n",
      "    \n",
      "    print \"I=\",I,\" +/-\",err"
     ],
     "language": "python",
     "metadata": {},
     "outputs": [
      {
       "output_type": "stream",
       "stream": "stdout",
       "text": [
        "I= 34.4325440289  +/- 6.02377085302\n",
        "I= 29.8084702064  +/- 2.08862178753\n",
        "I= 28.8164843885  +/- 0.609013968806\n",
        "I= 29.4863615229  +/- 0.193527637134\n",
        "I= 29.3054451651  +/- 0.061127258322\n",
        "I="
       ]
      },
      {
       "output_type": "stream",
       "stream": "stdout",
       "text": [
        " 29.3030311589  +/- 0.0193388766514\n"
       ]
      }
     ],
     "prompt_number": 6
    },
    {
     "cell_type": "heading",
     "level": 1,
     "metadata": {},
     "source": [
      "Question 2"
     ]
    },
    {
     "cell_type": "code",
     "collapsed": false,
     "input": [
      "#Driver: Ed Izaguirre\n",
      "#Navigator: Joseph Izaguirre"
     ],
     "language": "python",
     "metadata": {},
     "outputs": [],
     "prompt_number": 1
    },
    {
     "cell_type": "markdown",
     "metadata": {},
     "source": [
      "Use the sample mean method to compute the volume of a sphere with radius 1 using spherical coordinates:\n",
      "V=\u222b10\u222b\u03c00\u222b2\u03c00r2sin(\u03b8)drd\u03b8d\u03d5\n",
      "for N=(101,102,103,104,105,106). Report the value and statistical uncertainty for each sample size. How does the result depend on N?"
     ]
    },
    {
     "cell_type": "code",
     "collapsed": false,
     "input": [
      "frtp =  lambda r,t,p: r**2 * np.sin(t)\n",
      "ra = 0.; rb = 1.\n",
      "ta = 0.; tb = np.pi\n",
      "pa = 0.; pb = np.pi * 2\n",
      "\n",
      "i = (10,100,1000,10000,100000,1000000)\n",
      "for N in i:\n",
      "    r = (rb-ra)*np.random.random_sample(N)\n",
      "    t = (tb-ta)*np.random.random_sample(N)\n",
      "    p = (pb-pa)*np.random.random_sample(N)\n",
      "\n",
      "    I = (rb-ra)*(tb-ta)*(pb-pa)*frtp(r,t,p).mean()\n",
      "    err = (rb-ra)*(tb-ta)*(pb-pa)*np.sqrt(((frtp(r,t,p)**2).mean() - (frtp(r,t,p).mean())**2)/N)\n",
      "    exact = (4./3.) * np.pi\n",
      "    \n",
      "    print \"Exact =\",exact,\"I=\",I,\" +/-\",err,\"percentErr =\",100.*np.abs(I-exact)/exact"
     ],
     "language": "python",
     "metadata": {},
     "outputs": [
      {
       "output_type": "stream",
       "stream": "stdout",
       "text": [
        "Exact = 4.18879020479 I= 6.34679538184  +/- 2.07478776086 percentErr = 51.5185786719\n",
        "Exact = 4.18879020479 I= 4.71724329193  +/- 0.552650989095 percentErr = 12.6158881517\n",
        "Exact = 4.18879020479 I= 4.17254373711  +/- 0.1440325528 percentErr = 0.387855845743\n",
        "Exact = 4.18879020479 I= 4.19789883413  +/- 0.0465824017997 percentErr = 0.217452507696\n",
        "Exact = 4.18879020479 I= 4.18918062499  +/- 0.0146082980824 percentErr = 0.00932059591137\n",
        "Exact ="
       ]
      },
      {
       "output_type": "stream",
       "stream": "stdout",
       "text": [
        " 4.18879020479 I= 4.1937354253  +/- 0.00463269098625 percentErr = 0.118058443462\n"
       ]
      }
     ],
     "prompt_number": 13
    },
    {
     "cell_type": "markdown",
     "metadata": {},
     "source": [
      "As N increases, the statistical uncertainty seems to get smaller, and the percent error also gets smaller."
     ]
    },
    {
     "cell_type": "heading",
     "level": 1,
     "metadata": {},
     "source": [
      "Question 3"
     ]
    },
    {
     "cell_type": "code",
     "collapsed": false,
     "input": [
      "#Driver: Joseph Izaguirre\n",
      "#Navigator: Ed Izaguirre"
     ],
     "language": "python",
     "metadata": {},
     "outputs": []
    },
    {
     "cell_type": "markdown",
     "metadata": {},
     "source": [
      "a) Use the hit or miss Monte Carlo method to estimate the integral of f(x)=41\u2212x2\u203e\u203e\u203e\u203e\u203e\u203e\u203e\u221a in the interval 0\u2264x\u22641 as a function of N, the number of samples. Let N range from 101 to 106 and use at least 100 different values for N.\n",
      "(np.logspace might be useful here to get evenly spaced values for N.)\n",
      " "
     ]
    },
    {
     "cell_type": "code",
     "collapsed": false,
     "input": [
      "%pylab inline\n",
      "import numpy as np\n",
      "import matplotlib.pyplot as plt\n",
      "\n",
      "\n",
      "f = lambda x: 4 * sqrt(1-x**2)\n",
      "xmin = 0.\n",
      "xmax = 1.\n",
      "x = np.arange(0,1,.1)\n",
      "\n",
      "subx = x[logical_and((x > xmin),(x < xmax))]\n",
      "ymax = f(subx).max()*1.05\n",
      "ymin = 0.\n",
      "\n",
      "N = np.logspace(1,6,100)\n",
      "\n",
      "for i in N:\n",
      "    samples_x = xmin + (xmax-xmin)*np.random.random_sample(i);\n",
      "    samples_y = ymin + (ymax-ymin)*np.random.random_sample(i);\n",
      "\n",
      "    newmask = (samples_y < f(samples_x))\n",
      "    newmask.sum()\n",
      "\n",
      "\n",
      "    I = (xmax-xmin)*(ymax-ymin)*newmask.sum()/newmask.size\n",
      "    \n",
      "    print \"N = \", i, \"I = \",I"
     ],
     "language": "python",
     "metadata": {},
     "outputs": [
      {
       "output_type": "stream",
       "stream": "stdout",
       "text": [
        "Populating the interactive namespace from numpy and matplotlib\n",
        "N =  10.0 I =  2.92526306509\n",
        "N =  11.2332403298 I =  3.41913864751\n",
        "N =  12.6185688307 I =  3.48245602987\n",
        "N =  14.1747416293 I =  3.58195477358\n",
        "N =  15.9228279334 I =  2.50736834151\n",
        "N =  17.8864952906 I =  3.1956655333\n",
        "N =  20.0923300257 I =  3.34315778868\n",
        "N =  22.5701971963 I =  2.84928220626\n",
        "N =  25.3536449397 I =  3.34315778868\n",
        "N =  28.4803586844 I =  3.13421042689\n",
        "N =  31.992671378 I =  2.69609499087\n",
        "N =  35.938136638 I =  2.98496231132\n",
        "N =  40.370172586 I =  3.76105251226\n",
        "N =  45.3487850813 I =  3.43602328281\n",
        "N =  50.9413801482 I =  3.25957884396\n",
        "N =  57.2236765935 I =  2.71264996011\n",
        "N =  64.2807311728 I =  3.26480252801\n",
        "N =  72.2080901839 I =  3.19225136072\n",
        "N =  81.113083079 I =  3.095516471\n",
        "N =  91.1162756115 I =  3.3523422881\n",
        "N =  102.35310219 I =  3.15469546236\n",
        "N =  114.97569954 I =  3.26251143851\n",
        "N =  129.154966501 I =  3.33667880072\n",
        "N =  145.08287785 I =  3.28551713715\n",
        "N =  162.975083462 I =  2.99233258863\n",
        "N =  183.07382803 I =  3.44820236401\n",
        "N =  205.651230835 I =  3.03738116166\n",
        "N =  231.012970008 I =  3.05732503402\n",
        "N =  259.50242114 I =  3.29152600816\n",
        "N =  291.505306283 I =  3.14498090945\n",
        "N =  327.454916288 I =  3.15657482341\n",
        "N =  367.837977183 I =  3.30216539072\n",
        "N =  413.201240012 I =  3.19745115382\n",
        "N =  464.158883361 I =  3.17924218589\n",
        "N =  521.4008288 I =  3.22444681154\n",
        "N =  585.702081806 I =  3.03598730809\n",
        "N =  657.933224658 I =  3.2312103437\n",
        "N =  739.072203353 I =  3.0875577683\n",
        "N =  830.217568132 I =  3.21728588398\n",
        "N =  932.603346883 I =  3.25079049999\n",
        "N =  1047.61575279 I =  3.1132558204\n",
        "N =  1176.81195243 I =  3.05247931598\n",
        "N =  1321.94114847 I =  3.10336656954\n",
        "N =  1484.96826225 I =  3.22150649448\n",
        "N =  1668.1005372 I =  3.11667287853\n",
        "N =  1873.81742286 I =  3.24186349903\n",
        "N =  2104.90414451 I =  3.13818281019\n",
        "N =  2364.48941265 I =  3.16072658955\n",
        "N =  2656.08778295 I =  3.1184764388\n",
        "N =  2983.64724028 I =  3.13105835472\n",
        "N =  3351.60265094 I =  3.10521594069\n",
        "N =  3764.93580679 I =  3.10312367805\n",
        "N =  4229.24287439 I =  3.17793670146\n",
        "N =  4750.8101621 I =  3.12849186751\n",
        "N =  5336.69923121 I =  3.19764647001\n",
        "N =  5994.84250319 I =  3.13595339787\n",
        "N =  6734.15065775 I =  3.16741115114\n",
        "N =  7564.63327555 I =  3.13144803448\n",
        "N =  8497.53435909 I =  3.15203870008\n",
        "N =  9545.48456662 I =  3.15183249354\n",
        "N =  10722.6722201 I =  3.14726720103\n",
        "N =  12045.0354026 I =  3.12978688373\n",
        "N =  13530.4777458 I =  3.12602549697\n",
        "N =  15199.1108295 I =  3.13799097327\n",
        "N =  17073.5264747 I =  3.14724439516\n",
        "N =  19179.1026167 I =  3.14439686952\n",
        "N =  21544.3469003 I =  3.14332714245\n",
        "N =  24201.2826479 I =  3.14185136797\n",
        "N =  27185.8824273 I =  3.13855308863\n",
        "N =  30538.5550883 I =  3.14796326588\n",
        "N =  34304.6928631 I =  3.15248357536\n",
        "N =  38535.2859371 I =  3.14416030126\n",
        "N =  43287.6128108 I =  3.13843407236\n",
        "N =  48626.0158007 I =  3.13347993185\n",
        "N =  54622.7721768 I =  3.15414041398\n",
        "N =  61359.0727341 I =  3.14713363681\n",
        "N =  68926.1210435 I =  3.1372722154\n",
        "N =  77426.3682681 I =  3.13488509483\n",
        "N =  86974.9002618 I =  3.1282764698\n",
        "N =  97700.9957299 I =  3.15427108455\n",
        "N = "
       ]
      },
      {
       "output_type": "stream",
       "stream": "stdout",
       "text": [
        " 109749.876549 I =  3.13844652817\n",
        "N =  123284.673944 I =  3.13353248859\n",
        "N =  138488.637139 I =  3.14287080076\n",
        "N =  155567.614393 I =  3.14492192232\n",
        "N =  174752.840001 I =  3.14650201084\n",
        "N =  196304.065004 I =  3.14470548041\n",
        "N = "
       ]
      },
      {
       "output_type": "stream",
       "stream": "stdout",
       "text": [
        " 220513.07399 I =  3.14461927702\n",
        "N =  247707.635599 I =  3.14402485504\n",
        "N =  278255.940221 I =  3.14761811101\n",
        "N = "
       ]
      },
      {
       "output_type": "stream",
       "stream": "stdout",
       "text": [
        " 312571.584969 I =  3.14029024957\n",
        "N =  351119.173422 I =  3.14032497535\n",
        "N =  394420.605944 I =  3.14117145405\n",
        "N = "
       ]
      },
      {
       "output_type": "stream",
       "stream": "stdout",
       "text": [
        " 443062.145758 I =  3.13811997821\n",
        "N =  497702.356433 I =  3.13955478941\n",
        "N = "
       ]
      },
      {
       "output_type": "stream",
       "stream": "stdout",
       "text": [
        " 559081.018251 I =  3.13853265611\n",
        "N =  628029.144183 I =  3.143860488\n",
        "N = "
       ]
      },
      {
       "output_type": "stream",
       "stream": "stdout",
       "text": [
        " 705480.231072 I =  3.14569619358\n",
        "N = "
       ]
      },
      {
       "output_type": "stream",
       "stream": "stdout",
       "text": [
        " 792482.898354 I =  3.13861094509\n",
        "N = "
       ]
      },
      {
       "output_type": "stream",
       "stream": "stdout",
       "text": [
        " 890215.085445 I =  3.13913358692\n",
        "N = "
       ]
      },
      {
       "output_type": "stream",
       "stream": "stdout",
       "text": [
        " 1000000.0 I =  3.14332888975\n"
       ]
      },
      {
       "output_type": "stream",
       "stream": "stderr",
       "text": [
        "WARNING: pylab import has clobbered these variables: ['f']\n",
        "`%matplotlib` prevents importing * from pylab and numpy\n"
       ]
      }
     ],
     "prompt_number": 24
    },
    {
     "cell_type": "markdown",
     "metadata": {},
     "source": [
      "(b) Calculate the percent error for the N values from part (a) using the exact result \u03c0. Make a log-log plot of the error as a function of N.\n",
      "What is the approximate functional dependence of the error on N for large N, for example N\u2265104?"
     ]
    },
    {
     "cell_type": "code",
     "collapsed": false,
     "input": [
      "exact = np.pi\n",
      "y = []\n",
      "for i in N:\n",
      "    samples_x = xmin + (xmax-xmin)*np.random.random_sample(i);\n",
      "    samples_y = ymin + (ymax-ymin)*np.random.random_sample(i);\n",
      "\n",
      "    newmask = (samples_y < f(samples_x))\n",
      "    newmask.sum()\n",
      "\n",
      "\n",
      "    I = (xmax-xmin)*(ymax-ymin)*newmask.sum()/newmask.size\n",
      "    error = np.abs((exact - I)/exact)\n",
      "    \n",
      "    print \"Error = \",error\n",
      "    y.append(error)\n",
      "\n",
      "print y"
     ],
     "language": "python",
     "metadata": {},
     "outputs": [
      {
       "output_type": "stream",
       "stream": "stdout",
       "text": [
        "Error =  0.0688598466925\n",
        "Error =  0.209272926373\n",
        "Error =  0.334899890495\n",
        "Error =  0.140171616295\n",
        "Error =  0.0245198393921\n",
        "Error =  0.330200219011\n",
        "Error =  0.130670186159\n",
        "Error =  0.0883456337361\n",
        "Error =  0.0422558423122\n",
        "Error =  0.0498569864209\n",
        "Error =  0.0988966258314\n",
        "Error =  0.0261544546655\n",
        "Error =  0.0309051697334\n",
        "Error =  0.0346001703417\n",
        "Error =  0.0954638510727\n",
        "Error =  0.0734949135876\n",
        "Error =  0.143140813212\n",
        "Error =  0.0346001703417\n",
        "Error =  0.0639331792146\n",
        "Error =  0.0378485225249\n",
        "Error =  0.0349527822863\n",
        "Error =  0.00348437574498\n",
        "Error =  0.0311629604735\n",
        "Error =  0.0274649967532\n",
        "Error =  0.0263890578787\n",
        "Error =  0.0259736101233\n",
        "Error =  0.0591266743582\n",
        "Error =  0.0365196511772\n",
        "Error =  0.0220457281203\n",
        "Error =  0.00349261943522\n",
        "Error =  0.0196383706985\n",
        "Error =  0.0141295379539\n",
        "Error =  0.00489701775149\n",
        "Error =  0.0119842183423\n",
        "Error =  0.00426471129711\n",
        "Error =  0.0300524772853\n",
        "Error =  0.0224522231361\n",
        "Error =  0.000999835519643\n",
        "Error =  0.0321071578831\n",
        "Error =  0.0209041306423\n",
        "Error =  0.00749644095086\n",
        "Error =  0.00234983574191\n",
        "Error =  0.0019297637515\n",
        "Error =  0.00661377759374\n",
        "Error =  0.00163757498654\n",
        "Error =  4.16933437372e-05\n",
        "Error =  0.00867208012885\n",
        "Error =  0.00215168784188\n",
        "Error =  0.000154306236645\n",
        "Error =  0.00511944138461\n",
        "Error =  0.00443385578065\n",
        "Error =  0.000229431567083\n",
        "Error =  0.00779415978022\n",
        "Error =  0.00361002542308\n",
        "Error =  0.0135677911121\n",
        "Error =  0.00379232847191\n",
        "Error =  7.81840462467e-05\n",
        "Error =  0.0035808512804\n",
        "Error =  0.00481548873114\n",
        "Error =  0.0045136907941\n",
        "Error =  0.00155813916005\n",
        "Error =  0.00287440618943\n",
        "Error =  0.00298888241032\n",
        "Error =  9.6223291126e-05\n",
        "Error =  0.00717496814575\n",
        "Error =  0.000337752687445\n",
        "Error =  0.00135476939829\n",
        "Error =  0.00810719461496\n",
        "Error =  0.00116324919378\n",
        "Error =  0.00376549842833\n",
        "Error =  0.00134163828114\n",
        "Error =  0.00105894255385\n",
        "Error =  0.00300284368088\n",
        "Error =  0.000235281699301\n",
        "Error =  0.00243549513274\n",
        "Error =  0.00207342881233\n",
        "Error =  0.000699774535324\n",
        "Error =  4.72776920502e-06\n",
        "Error =  0.00226571748583\n",
        "Error = "
       ]
      },
      {
       "output_type": "stream",
       "stream": "stdout",
       "text": [
        " 0.00113564282581\n",
        "Error =  0.00188623098581\n",
        "Error =  0.000504793096876\n",
        "Error =  0.000954341337253\n",
        "Error =  0.000409889139878\n",
        "Error =  0.00238028346712\n",
        "Error = "
       ]
      },
      {
       "output_type": "stream",
       "stream": "stdout",
       "text": [
        " 0.000950186196805\n",
        "Error =  0.00238702658356\n",
        "Error =  0.00011904705385\n",
        "Error =  0.000759121746206\n",
        "Error = "
       ]
      },
      {
       "output_type": "stream",
       "stream": "stdout",
       "text": [
        " 0.000704674136466\n",
        "Error =  0.000263254410036\n",
        "Error =  0.000368437612689\n",
        "Error = "
       ]
      },
      {
       "output_type": "stream",
       "stream": "stdout",
       "text": [
        " 0.000189688725067\n",
        "Error =  0.00158836427077\n",
        "Error = "
       ]
      },
      {
       "output_type": "stream",
       "stream": "stdout",
       "text": [
        " 0.000581449206189\n",
        "Error =  0.000274964420832\n",
        "Error = "
       ]
      },
      {
       "output_type": "stream",
       "stream": "stdout",
       "text": [
        " 0.000877240670406\n",
        "Error =  0.000120112625714\n",
        "Error = "
       ]
      },
      {
       "output_type": "stream",
       "stream": "stdout",
       "text": [
        " 3.0124603429e-05\n",
        "Error = "
       ]
      },
      {
       "output_type": "stream",
       "stream": "stdout",
       "text": [
        " 0.00172863223964\n",
        "[0.068859846692453042, 0.20927292637343753, 0.33489989049460933, 0.14017161629495536, 0.024519839392093654, 0.33020021901078128, 0.13067018615916398, 0.088345633736093637, 0.042255842312237606, 0.049856986420870449, 0.098896625831406237, 0.026154454665459931, 0.030905169733355473, 0.034600170341718674, 0.095463851072668762, 0.073494913587648078, 0.14314081321239019, 0.034600170341718813, 0.063933179214635441, 0.037848522524895283, 0.034952782286295843, 0.0034843757449752313, 0.031162960473473882, 0.027464996753155193, 0.026389057878689247, 0.025973610123252937, 0.059126674358227792, 0.036519651177232215, 0.022045728120252753, 0.0034926194352223223, 0.019638370698476137, 0.014129537953862391, 0.0048970177514861858, 0.011984218342253867, 0.0042647112971118742, 0.030052477285271668, 0.022452223136140995, 0.00099983551964321444, 0.032107157883064015, 0.020904130642279053, 0.0074964409508591822, 0.0023498357419140317, 0.0019297637514968436, 0.006613777593737975, 0.0016375749865355145, 4.1693343737200178e-05, 0.0086720801288474089, 0.0021516878418788555, 0.0001543062366454957, 0.0051194413846132776, 0.0044338557806507407, 0.00022943156708291461, 0.0077941597802183016, 0.0036100254230821238, 0.013567791112132407, 0.0037923284719056111, 7.8184046246736389e-05, 0.0035808512803957512, 0.0048154887311361669, 0.0045136907941027635, 0.0015581391600482197, 0.0028744061894276085, 0.0029888824103227562, 9.6223291126003909e-05, 0.0071749681457488491, 0.00033775268744450792, 0.0013547693982942446, 0.008107194614963717, 0.0011632491937805481, 0.0037654984283325668, 0.0013416382811432324, 0.0010589425538512611, 0.0030028436808791042, 0.000235281699300924, 0.0024354951327449723, 0.0020734288123293813, 0.00069977453532397169, 4.7277692050157631e-06, 0.0022657174858310533, 0.0011356428258112213, 0.0018862309858145344, 0.0005047930968762051, 0.00095434133725321509, 0.00040988913987780018, 0.0023802834671248839, 0.00095018619680482244, 0.0023870265835644355, 0.00011904705384951477, 0.00075912174620568369, 0.0007046741364656017, 0.00026325441003633278, 0.00036843761268945852, 0.00018968872506698375, 0.0015883642707689742, 0.00058144920618897285, 0.00027496442083180641, 0.00087724067040616076, 0.00012011262571368325, 3.0124603428955161e-05, 0.0017286322396359343]\n"
       ]
      }
     ],
     "prompt_number": 26
    },
    {
     "cell_type": "code",
     "collapsed": false,
     "input": [
      "plt.loglog(N,y)\n",
      "plt.xlabel(\"N\")\n",
      "plt.ylabel(\"Error\")"
     ],
     "language": "python",
     "metadata": {},
     "outputs": [
      {
       "metadata": {},
       "output_type": "pyout",
       "prompt_number": 28,
       "text": [
        "<matplotlib.text.Text at 0xa29b588>"
       ]
      },
      {
       "metadata": {},
       "output_type": "display_data",
       "png": "[encoded data removed]",
       "text": [
        "<matplotlib.figure.Figure at 0xab735f8>"
       ]
      }
     ],
     "prompt_number": 28
    },
    {
     "cell_type": "markdown",
     "metadata": {},
     "source": [
      "The approximate functional dependence on N is that the larger the N, the smaller the error."
     ]
    },
    {
     "cell_type": "markdown",
     "metadata": {},
     "source": [
      "(c) Estimate the same integral using the sample mean method and compute the statistical uncertainty and error as a function of the number of samples N for N\u2265104. Use at least 100 different values for N.\n",
      "Make a log-log plot of both the statistical uncertainty and the error as a function of N.\n",
      "How many samples are needed to determine the result to two decimal places? What is the approximate functional dependence of the error on N for large N?"
     ]
    },
    {
     "cell_type": "code",
     "collapsed": false,
     "input": [
      "f = lambda x: ((1-x**(2))**(1./2))*4\n",
      "x = np.arange(0.,1.,0.001)\n",
      "\n",
      "xmin = 0.\n",
      "xmax = 1.\n",
      "i=np.logspace(1,6,100)\n",
      "Error2=[]\n",
      "Error3=[]\n",
      "for N in i:\n",
      "#N=10000\n",
      "    Iexact = np.pi\n",
      "\n",
      "    ##########################################################\n",
      "    #Here's the integration part:\n",
      "    samples_x = xmin + (xmax-xmin)*np.random.random_sample(N);\n",
      "\n",
      "    approx = f(samples_x)\n",
      "    I = approx.mean()*(xmax-xmin)\n",
      "\n",
      "    #Numerical uncertainty\n",
      "    Iunc = (xmax-xmin)*np.sqrt( ((approx**2).mean()-(approx.mean())**2)/N )\n",
      "\n",
      "        #Comparison with exact result\n",
      "    Ierr = 100*np.abs(Iexact-I)/Iexact\n",
      "        ##########################################################\n",
      "\n",
      "        #find the maximum value of f within the boundary to set ymax\n",
      "    ymax = approx.max()\n",
      "    ymin = 0.\n",
      "\n",
      "        #Print our results\n",
      "    print \"N =\",N\n",
      "    print \"I_samplemean =\", I, \" +/- \",Iunc\n",
      "    print \"Error on I =\", Ierr, \"%\"\n",
      "    print\"\"\n",
      "    Error2.append(abs(I-np.pi)/np.pi)\n",
      "    Error3.append(Iunc)"
     ],
     "language": "python",
     "metadata": {},
     "outputs": [
      {
       "output_type": "stream",
       "stream": "stdout",
       "text": [
        "N = 10.0\n",
        "I_samplemean = 3.19160260288  +/-  0.298835851674\n",
        "Error on I = 1.59186612677 %\n",
        "\n",
        "N = 11.2332403298\n",
        "I_samplemean = 3.30033578739  +/-  0.198014412465\n",
        "Error on I = 5.05295088533 %\n",
        "\n",
        "N = 12.6185688307\n",
        "I_samplemean = 2.82031356145  +/-  0.339624603604\n",
        "Error on I = 10.2266311253 %\n",
        "\n",
        "N = 14.1747416293\n",
        "I_samplemean = 2.83711964666  +/-  0.338506361398\n",
        "Error on I = 9.69167681806 %\n",
        "\n",
        "N = 15.9228279334\n",
        "I_samplemean = 2.60595892661  +/-  0.251001233041\n",
        "Error on I = 17.049751067 %\n",
        "\n",
        "N = 17.8864952906\n",
        "I_samplemean = 3.32335268881  +/-  0.201127313148\n",
        "Error on I = 5.78560161249 %\n",
        "\n",
        "N = 20.0923300257\n",
        "I_samplemean = 3.33657246465  +/-  0.176142388345\n",
        "Error on I = 6.20640014656 %\n",
        "\n",
        "N = 22.5701971963\n",
        "I_samplemean = 3.51591108478  +/-  0.117555974697\n",
        "Error on I = 11.9149257229 %\n",
        "\n",
        "N = 25.3536449397\n",
        "I_samplemean = 3.29509795355  +/-  0.11926550865\n",
        "Error on I = 4.88622545598 %\n",
        "\n",
        "N = 28.4803586844\n",
        "I_samplemean = 3.1167605  +/-  0.155887398734\n",
        "Error on I = 0.790431998261 %\n",
        "\n",
        "N = 31.992671378\n",
        "I_samplemean = 3.08773070771  +/-  0.175956090847\n",
        "Error on I = 1.71447898626 %\n",
        "\n",
        "N = 35.938136638\n",
        "I_samplemean = 3.21229421857  +/-  0.123310728228\n",
        "Error on I = 2.25050071028 %\n",
        "\n",
        "N = 40.370172586\n",
        "I_samplemean = 3.34669916644  +/-  0.101520337721\n",
        "Error on I = 6.52874307607 %\n",
        "\n",
        "N = 45.3487850813\n",
        "I_samplemean = 3.06250830343  +/-  0.150927850368\n",
        "Error on I = 2.51733304977 %\n",
        "\n",
        "N = 50.9413801482\n",
        "I_samplemean = 3.0290431319  +/-  0.136411218533\n",
        "Error on I = 3.58256254405 %\n",
        "\n",
        "N = 57.2236765935\n",
        "I_samplemean = 3.39164682875  +/-  0.101686947619\n",
        "Error on I = 7.95947160337 %\n",
        "\n",
        "N = 64.2807311728\n",
        "I_samplemean = 3.22509726994  +/-  0.106201802039\n",
        "Error on I = 2.65803449254 %\n",
        "\n",
        "N = 72.2080901839\n",
        "I_samplemean = 3.14703469432  +/-  0.105874324152\n",
        "Error on I = 0.173225536627 %\n",
        "\n",
        "N = 81.113083079\n",
        "I_samplemean = 3.11010296611  +/-  0.0974783228824\n",
        "Error on I = 1.00234788388 %\n",
        "\n",
        "N = 91.1162756115\n",
        "I_samplemean = 2.95893031573  +/-  0.111569636553\n",
        "Error on I = 5.81432279743 %\n",
        "\n",
        "N = 102.35310219\n",
        "I_samplemean = 3.21924734546  +/-  0.08179220442\n",
        "Error on I = 2.47182561315 %\n",
        "\n",
        "N = 114.97569954\n",
        "I_samplemean = 3.15068867827  +/-  0.0799045190168\n",
        "Error on I = 0.289535458216 %\n",
        "\n",
        "N = 129.154966501\n",
        "I_samplemean = 3.07827061239  +/-  0.0818637811935\n",
        "Error on I = 2.01560317287 %\n",
        "\n",
        "N = 145.08287785\n",
        "I_samplemean = 3.18048324738  +/-  0.0745656418503\n",
        "Error on I = 1.23792604845 %\n",
        "\n",
        "N = 162.975083462\n",
        "I_samplemean = 3.19075417039  +/-  0.0694182803309\n",
        "Error on I = 1.56485968188 %\n",
        "\n",
        "N = 183.07382803\n",
        "I_samplemean = 3.20611290059  +/-  0.0619929415011\n",
        "Error on I = 2.05374324785 %\n",
        "\n",
        "N = 205.651230835\n",
        "I_samplemean = 3.13874950453  +/-  0.0647512196889\n",
        "Error on I = 0.0905002454066 %\n",
        "\n",
        "N = 231.012970008\n",
        "I_samplemean = 3.12054641585  +/-  0.0619600448997\n",
        "Error on I = 0.669922554103 %\n",
        "\n",
        "N = 259.50242114\n",
        "I_samplemean = 3.07106246269  +/-  0.0579016657031\n",
        "Error on I = 2.24504570393 %\n",
        "\n",
        "N = 291.505306283\n",
        "I_samplemean = 3.12577820933  +/-  0.0535832021478\n",
        "Error on I = 0.503389395177 %\n",
        "\n",
        "N = 327.454916288\n",
        "I_samplemean = 3.12627569444  +/-  0.0507268331596\n",
        "Error on I = 0.487553952449 %\n",
        "\n",
        "N = 367.837977183\n",
        "I_samplemean = 3.14751599605  +/-  0.0488229000718\n",
        "Error on I = 0.188545846558 %\n",
        "\n",
        "N = 413.201240012\n",
        "I_samplemean = 3.08058809639  +/-  0.0464525366566\n",
        "Error on I = 1.94183536594 %\n",
        "\n",
        "N = 464.158883361\n",
        "I_samplemean = 3.15582237889  +/-  0.0407522239885\n",
        "Error on I = 0.452946223993 %\n",
        "\n",
        "N = 521.4008288\n",
        "I_samplemean = 3.12844733023  +/-  0.0386532987299\n",
        "Error on I = 0.418428638094 %\n",
        "\n",
        "N = 585.702081806\n",
        "I_samplemean = 3.15285909274  +/-  0.0372880121989\n",
        "Error on I = 0.358621896298 %\n",
        "\n",
        "N = 657.933224658\n",
        "I_samplemean = 3.14024359319  +/-  0.0342252165857\n",
        "Error on I = 0.0429419263605 %\n",
        "\n",
        "N = 739.072203353\n",
        "I_samplemean = 3.18120941735  +/-  0.031331767158\n",
        "Error on I = 1.26104075625 %\n",
        "\n",
        "N = 830.217568132\n",
        "I_samplemean = 3.12659554351  +/-  0.0320909855819\n",
        "Error on I = 0.477372840227 %\n",
        "\n",
        "N = 932.603346883\n",
        "I_samplemean = 3.16145719582  +/-  0.0297280278953\n",
        "Error on I = 0.632308017638 %\n",
        "\n",
        "N = 1047.61575279\n",
        "I_samplemean = 3.13709809601  +/-  0.0276386022434\n",
        "Error on I = 0.143066211145 %\n",
        "\n",
        "N = 1176.81195243\n",
        "I_samplemean = 3.1673661496  +/-  0.026004341551\n",
        "Error on I = 0.82039585816 %\n",
        "\n",
        "N = 1321.94114847\n",
        "I_samplemean = 3.13304471742  +/-  0.0249509960388\n",
        "Error on I = 0.272089258934 %\n",
        "\n",
        "N = 1484.96826225\n",
        "I_samplemean = 3.16379821678  +/-  0.0229588233932\n",
        "Error on I = 0.706825029203 %\n",
        "\n",
        "N = 1668.1005372\n",
        "I_samplemean = 3.14030157176  +/-  0.0222585901369\n",
        "Error on I = 0.0410964110622 %\n",
        "\n",
        "N = 1873.81742286\n",
        "I_samplemean = 3.11416151324  +/-  0.0210460518823\n",
        "Error on I = 0.873160316124 %\n",
        "\n",
        "N = 2104.90414451\n",
        "I_samplemean = 3.13050373005  +/-  0.0198237729731\n",
        "Error on I = 0.352971399059 %\n",
        "\n",
        "N = 2364.48941265\n",
        "I_samplemean = 3.16048451394  +/-  0.0181927451867\n",
        "Error on I = 0.601346591857 %\n",
        "\n",
        "N = 2656.08778295\n",
        "I_samplemean = 3.12924840008  +/-  0.0174258926817\n",
        "Error on I = 0.392929793011 %\n",
        "\n",
        "N = 2983.64724028\n",
        "I_samplemean = 3.14134672866  +/-  0.0163911338026\n",
        "Error on I = 0.0078280337027 %\n",
        "\n",
        "N = 3351.60265094\n",
        "I_samplemean = 3.14684394997  +/-  0.0152231757435\n",
        "Error on I = 0.167153955287 %\n",
        "\n",
        "N = 3764.93580679\n",
        "I_samplemean = 3.1452357007  +/-  0.0145782563472\n",
        "Error on I = 0.115961791024 %\n",
        "\n",
        "N = 4229.24287439\n",
        "I_samplemean = 3.13442037114  +/-  0.0138072007244\n",
        "Error on I = 0.228300841046 %\n",
        "\n",
        "N = 4750.8101621\n",
        "I_samplemean = 3.13603525974  +/-  0.0128138628738\n",
        "Error on I = 0.176897340403 %\n",
        "\n",
        "N = 5336.69923121\n",
        "I_samplemean = 3.13644705079  +/-  0.012291953863\n",
        "Error on I = 0.163789624157 %\n",
        "\n",
        "N = 5994.84250319\n",
        "I_samplemean = 3.16227246476  +/-  0.0114552323568\n",
        "Error on I = 0.658258833849 %\n",
        "\n",
        "N = 6734.15065775\n",
        "I_samplemean = 3.14173031523  +/-  0.0107851845023\n",
        "Error on I = 0.00438190601149 %\n",
        "\n",
        "N = 7564.63327555\n",
        "I_samplemean = 3.16859792312  +/-  0.0100790835265\n",
        "Error on I = 0.85960442718 %\n",
        "\n",
        "N = 8497.53435909\n",
        "I_samplemean = 3.15279900611  +/-  0.0095659820431\n",
        "Error on I = 0.356709279438 %\n",
        "\n",
        "N = 9545.48456662\n",
        "I_samplemean = 3.14419351101  +/-  0.00919882478431\n",
        "Error on I = 0.0827878630411 %\n",
        "\n",
        "N = 10722.6722201\n",
        "I_samplemean = 3.12974866582  +/-  0.00871286673811\n",
        "Error on I = 0.377005840051 %\n",
        "\n",
        "N = 12045.0354026\n",
        "I_samplemean = 3.13690934744  +/-  0.00819765286683\n",
        "Error on I = 0.149074264699 %\n",
        "\n",
        "N = 13530.4777458\n",
        "I_samplemean = 3.1369758002  +/-  0.00770066782784\n",
        "Error on I = 0.146959007583 %\n",
        "\n",
        "N = 15199.1108295\n",
        "I_samplemean = 3.13027429661  +/-  0.00725482918698\n",
        "Error on I = 0.360274492191 %\n",
        "\n",
        "N = 17073.5264747\n",
        "I_samplemean = 3.13486298487  +/-  0.00687714106884\n",
        "Error on I = 0.214212008278 %\n",
        "\n",
        "N = 19179.1026167\n",
        "I_samplemean = 3.13726227863  +/-  0.00649071926086\n",
        "Error on I = 0.137840115956 %\n",
        "\n",
        "N = 21544.3469003\n",
        "I_samplemean = 3.13357457241  +/-  0.00611188069748\n",
        "Error on I = 0.255223450818 %\n",
        "\n",
        "N = 24201.2826479\n",
        "I_samplemean = 3.14257371581  +/-  0.00569787161055\n",
        "Error on I = 0.0312281802719 %\n",
        "\n",
        "N = 27185.8824273\n",
        "I_samplemean = 3.1405502906  +/-  0.0054250159734\n",
        "Error on I = 0.0331794445237 %\n",
        "\n",
        "N = 30538.5550883\n",
        "I_samplemean = 3.1435659226  +/-  0.00510616853589\n",
        "Error on I = 0.0628111033406 %\n",
        "\n",
        "N = 34304.6928631\n",
        "I_samplemean = 3.14063286702  +/-  0.00481808485856\n",
        "Error on I = 0.030550955454 %\n",
        "\n",
        "N = 38535.2859371\n",
        "I_samplemean = 3.13927450132  +/-  0.00456908857183\n",
        "Error on I = 0.0737890785541 %\n",
        "\n",
        "N = 43287.6128108\n",
        "I_samplemean = 3.14283084949  +/-  0.00428590776196\n",
        "Error on I = 0.0394129996323 %\n",
        "\n",
        "N = 48626.0158007\n",
        "I_samplemean = 3.14230806834  +/-  0.00407967746566\n",
        "Error on I = 0.0227723587313 %\n",
        "\n",
        "N = 54622.7721768\n",
        "I_samplemean = 3.14899579559  +/-  0.00379990687068\n",
        "Error on I = 0.235649328665 %\n",
        "\n",
        "N = 61359.0727341\n",
        "I_samplemean = 3.14033482623  +/-  0.00361326814995\n",
        "Error on I = 0.0400378883986 %\n",
        "\n",
        "N = 68926.1210435\n",
        "I_samplemean = 3.14300643407  +/-  0.00340562070645\n",
        "Error on I = 0.0450020302504 %\n",
        "\n",
        "N = 77426.3682681\n",
        "I_samplemean = 3.14617292894  +/-  0.00319569803357\n",
        "Error on I = 0.14579469269 %\n",
        "\n",
        "N = 86974.9002618\n",
        "I_samplemean = 3.14058386696  +/-  0.00302854093381\n",
        "Error on I = 0.0321106757971 %\n",
        "\n",
        "N = 97700.9957299\n",
        "I_samplemean = 3.14110522513  +/-  0.00285818296025\n",
        "Error on I = 0.0155153297524 %\n",
        "\n",
        "N = 109749.876549\n",
        "I_samplemean = 3.14194376661  +/-  0.00269093866442\n",
        "Error on I = 0.0111762746902 %\n",
        "\n",
        "N ="
       ]
      },
      {
       "output_type": "stream",
       "stream": "stdout",
       "text": [
        " 123284.673944\n",
        "I_samplemean = 3.14170293626  +/-  0.00254125973126\n",
        "Error on I = 0.003510406393 %\n",
        "\n",
        "N = 138488.637139\n",
        "I_samplemean = 3.14177320377  +/-  0.00239437339755\n",
        "Error on I = 0.00574709069299 %\n",
        "\n",
        "N = 155567.614393\n",
        "I_samplemean = 3.14303438307  +/-  0.00226156240541\n",
        "Error on I = 0.0458916745594 %\n",
        "\n",
        "N = 174752.840001\n",
        "I_samplemean = 3.14021013442  +/-  0.00213845605797\n",
        "Error on I = 0.0440069519407 %\n",
        "\n",
        "N = 196304.065004\n",
        "I_samplemean = 3.1447190356  +/-  0.00201068590396\n",
        "Error on I = 0.0995158303372 %\n",
        "\n",
        "N = 220513.07399\n",
        "I_samplemean = 3.13982444947  +/-  0.00190413915819\n",
        "Error on I = 0.0562836852349 %\n",
        "\n",
        "N ="
       ]
      },
      {
       "output_type": "stream",
       "stream": "stdout",
       "text": [
        " 247707.635599\n",
        "I_samplemean = 3.1417770372  +/-  0.00179394925912\n",
        "Error on I = 0.00586911263388 %\n",
        "\n",
        "N = 278255.940221\n",
        "I_samplemean = 3.14371740273  +/-  0.00169122723633\n",
        "Error on I = 0.0676328656776 %\n",
        "\n",
        "N = 312571.584969\n",
        "I_samplemean = 3.14015188436  +/-  0.00159857759481\n",
        "Error on I = 0.0458611089997 %\n",
        "\n",
        "N = 351119.173422\n",
        "I_samplemean = 3.1404957794  +/-  0.00150856862792\n",
        "Error on I = 0.0349145897264 %\n",
        "\n",
        "N ="
       ]
      },
      {
       "output_type": "stream",
       "stream": "stdout",
       "text": [
        " 394420.605944\n",
        "I_samplemean = 3.1415198287  +/-  0.00142031295982\n",
        "Error on I = 0.00231808827663 %\n",
        "\n",
        "N = 443062.145758\n",
        "I_samplemean = 3.14224715301  +/-  0.00134245782391\n",
        "Error on I = 0.0208333636966 %\n",
        "\n",
        "N = 497702.356433\n",
        "I_samplemean = 3.13977848584  +/-  0.0012639543941\n",
        "Error on I = 0.057746752902 %\n",
        "\n",
        "N ="
       ]
      },
      {
       "output_type": "stream",
       "stream": "stdout",
       "text": [
        " 559081.018251\n",
        "I_samplemean = 3.14063080529  +/-  0.0011945270105\n",
        "Error on I = 0.0306165824158 %\n",
        "\n",
        "N = 628029.144183\n",
        "I_samplemean = 3.14021060577  +/-  0.0011270902838\n",
        "Error on I = 0.0439919484736 %\n",
        "\n",
        "N ="
       ]
      },
      {
       "output_type": "stream",
       "stream": "stdout",
       "text": [
        " 705480.231072\n",
        "I_samplemean = 3.14201057252  +/-  0.00106340904905\n",
        "Error on I = 0.0133027725964 %\n",
        "\n",
        "N = 792482.898354\n",
        "I_samplemean = 3.14056528827  +/-  0.00100407227336\n",
        "Error on I = 0.0327020539002 %\n",
        "\n",
        "N ="
       ]
      },
      {
       "output_type": "stream",
       "stream": "stdout",
       "text": [
        " 890215.085445\n",
        "I_samplemean = 3.14273333898  +/-  0.000945703952212\n",
        "Error on I = 0.0363091436335 %\n",
        "\n",
        "N = 1000000.0\n",
        "I_samplemean = 3.14108059977  +/-  0.000892664933989\n",
        "Error on I = 0.0162991793629 %\n",
        "\n"
       ]
      }
     ],
     "prompt_number": 43
    },
    {
     "cell_type": "code",
     "collapsed": false,
     "input": [
      "plt.loglog(i,Error2,label=\"Error\",color=\"Red\")\n",
      "plt.loglog(i,Error3,label=\"Uncertainty\",color=\"Purple\")\n",
      "plt.legend(loc=\"best\")\n",
      "plt.xlabel(\"Number of N\")\n",
      "plt.ylabel(\"Error/Uncertainty\")\n"
     ],
     "language": "python",
     "metadata": {},
     "outputs": [
      {
       "metadata": {},
       "output_type": "pyout",
       "prompt_number": 52,
       "text": [
        "<matplotlib.text.Text at 0x137c8860>"
       ]
      },
      {
       "metadata": {},
       "output_type": "display_data",
       "png": "[encoded data removed]",
       "text": [
        "<matplotlib.figure.Figure at 0x13e7df98>"
       ]
      }
     ],
     "prompt_number": 52
    },
    {
     "cell_type": "markdown",
     "metadata": {},
     "source": [
      "Roughly 10^3 samples are needed to reach to decimal places. As N increases, the error and uncertainty decrease."
     ]
    },
    {
     "cell_type": "code",
     "collapsed": false,
     "input": [],
     "language": "python",
     "metadata": {},
     "outputs": []
    }
   ],
   "metadata": {}
  }
 ]
}