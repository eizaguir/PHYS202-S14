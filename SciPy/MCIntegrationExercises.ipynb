{
 "metadata": {
  "name": "",
  "signature": "sha256:32db4f0a77056413728a0f82cd3e6f7b01464c405ad45ba865a9e4a0b6bb392b"
 },
 "nbformat": 3,
 "nbformat_minor": 0,
 "worksheets": [
  {
   "cells": [
    {
     "cell_type": "heading",
     "level": 1,
     "metadata": {},
     "source": [
      "Monte Carlo Integration Exercises"
     ]
    },
    {
     "cell_type": "code",
     "collapsed": false,
     "input": [
      "from Electrostatics import *"
     ],
     "language": "python",
     "metadata": {},
     "outputs": [],
     "prompt_number": 2
    },
    {
     "cell_type": "code",
     "collapsed": false,
     "input": [
      "help(pointPotential)"
     ],
     "language": "python",
     "metadata": {},
     "outputs": [
      {
       "output_type": "stream",
       "stream": "stdout",
       "text": [
        "Help on function pointPotential in module Electrostatics:\n",
        "\n",
        "pointPotential(x, y, q, Xc, Yc)\n",
        "    Return the electric potential for a \n",
        "    point charge q at (Xc,Yc)\n",
        "    \n",
        "    Units returned are [Volts] if input \n",
        "    units are [meters] and [Coulombs]\n",
        "\n"
       ]
      }
     ],
     "prompt_number": 3
    },
    {
     "cell_type": "markdown",
     "metadata": {},
     "source": [
      "(a) Use the sample mean method to compute the potential at point P(2,3) due to the disk of charge for different numbers of samples N=(101,102,103,104,105,106). Report the value and its statistical uncertainty for each sample size. How does the result depend on N?"
     ]
    },
    {
     "cell_type": "code",
     "collapsed": false,
     "input": [
      "import numpy as np\n",
      "#Set up the function\n",
      "sigma = 1.*10**-6 #C/m^2\n",
      "k = 9.*10**9 #N*m^2/C^2\n",
      "print k\n",
      "fxy = lambda x,y: (sigma*k)/(np.sqrt((x-2.)**2 + (y-3.)**2))\n",
      "xa = -1.; xb = 1.\n",
      "ya = 0.; yb = 2.\n",
      "    \n",
      "i = (10,100,1000,10000,100000,1000000)\n",
      "for N in i:\n",
      "    x = xa + (xb-xa)*np.random.random_sample(N)\n",
      "    y = ya + (yb-ya)*np.random.random_sample(N)\n",
      "    \n",
      "    \n",
      "    I = (xb-xa)*(yb-ya)*fxy(x,y).mean()\n",
      "        \n",
      "    err = (xb-xa)*(yb-ya)*np.sqrt(((fxy(x,y)**2).mean() - (fxy(x,y).mean())**2)/N)\n",
      "    \n",
      "    \n",
      "    print \"I=\",I,\" +/-\",err"
     ],
     "language": "python",
     "metadata": {},
     "outputs": [
      {
       "output_type": "stream",
       "stream": "stdout",
       "text": [
        "9000000000.0\n",
        "I= 14239.3071032  +/- 1214.95129325\n",
        "I= 13009.6692304  +/- 291.116557365\n",
        "I= 13155.2121302  +/- 95.0529930574\n",
        "I= 13038.3884401  +/- 29.6388768231\n",
        "I= 13052.8493223  +/- 9.41138569036\n",
        "I="
       ]
      },
      {
       "output_type": "stream",
       "stream": "stdout",
       "text": [
        " 13049.2183699  +/- 2.97741264811\n"
       ]
      }
     ],
     "prompt_number": 17
    },
    {
     "cell_type": "markdown",
     "metadata": {},
     "source": [
      "(b) Now use the same method to compute the electric potential, V, at point P(2,3), from a disk centered on the origin with radius, R=1.2 m, and charge density, \u03c3 = 2 nC/m2 ."
     ]
    },
    {
     "cell_type": "code",
     "collapsed": false,
     "input": [
      "#Set up the function\n",
      "sigma = 2.*10**-9 #C/m^2\n",
      "k = 9.*10**9 #N*m^2/C^2\n",
      "frt = lambda r,t: ((sigma*k)/np.abs(r-np.sqrt(13))*r)\n",
      "\n",
      "ra = 0.; rb = 1.2\n",
      "thetaA = 0.; thetaB = 2*np.pi\n",
      "\n",
      "i = (10,100,1000,10000,100000,1000000)\n",
      "for N in i:\n",
      "    Area = np.pi * 2.4\n",
      "    r = (rb-ra)*np.random.random_sample(N)\n",
      "    t = (thetaB-thetaA)*np.random.random_sample(N)\n",
      "    \n",
      "    I = (Area)*frt(r,t).mean()\n",
      "        \n",
      "    err = (Area)*np.sqrt(((frt(r,t)**2).mean() - (frt(r,t).mean())**2)/N)\n",
      "    \n",
      "    \n",
      "    print \"I=\",I,\" +/-\",err"
     ],
     "language": "python",
     "metadata": {},
     "outputs": [
      {
       "output_type": "stream",
       "stream": "stdout",
       "text": [
        "I= 21.1004172243  +/- 6.05681148248\n",
        "I= 30.8360845472  +/- 1.90288661701\n",
        "I= 30.3356093305  +/- 0.621625394254\n",
        "I= 29.2085784154  +/- 0.191930262578\n",
        "I= 29.3294903518  +/- 0.0611186424922\n",
        "I="
       ]
      },
      {
       "output_type": "stream",
       "stream": "stdout",
       "text": [
        " 29.3206342397  +/- 0.019333646468\n"
       ]
      }
     ],
     "prompt_number": 20
    },
    {
     "cell_type": "markdown",
     "metadata": {},
     "source": [
      "Question 2\n",
      "Use the sample mean method to compute the volume of a sphere with radius 1 using spherical coordinates:\n",
      "V=\u222b10\u222b\u03c00\u222b2\u03c00r2sin(\u03b8)drd\u03b8d\u03d5\n",
      "for N=(101,102,103,104,105,106). Report the value and statistical uncertainty for each sample size. How does the result depend on N?"
     ]
    },
    {
     "cell_type": "markdown",
     "metadata": {},
     "source": [
      "a) Use the hit or miss Monte Carlo method to estimate the integral of f(x)=41\u2212x2\u203e\u203e\u203e\u203e\u203e\u203e\u203e\u221a in the interval 0\u2264x\u22641 as a function of N, the number of samples. Let N range from 101 to 106 and use at least 100 different values for N.\n",
      "(np.logspace might be useful here to get evenly spaced values for N.)\n",
      " "
     ]
    },
    {
     "cell_type": "code",
     "collapsed": false,
     "input": [
      "f = lambda x: 4 * np.sqrt(1-x**2)\n",
      "\n",
      "N = np.logspace(0,1,)"
     ],
     "language": "python",
     "metadata": {},
     "outputs": []
    }
   ],
   "metadata": {}
  }
 ]
}