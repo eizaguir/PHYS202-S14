{
 "metadata": {
  "name": "",
  "signature": "sha256:30b2bd30987e5e6672dc207a220f8c82b1cd3121fa33df2afb716bdd5908c962"
 },
 "nbformat": 3,
 "nbformat_minor": 0,
 "worksheets": [
  {
   "cells": [
    {
     "cell_type": "heading",
     "level": 1,
     "metadata": {},
     "source": [
      "Midterm"
     ]
    },
    {
     "cell_type": "markdown",
     "metadata": {},
     "source": [
      "Question 1"
     ]
    },
    {
     "cell_type": "code",
     "collapsed": false,
     "input": [
      "prefixes = 'JKLMNOPQ' \n",
      "suffix = 'ack'\n",
      "for letter in prefixes:\n",
      "    if letter != 'O' and letter != 'Q':\n",
      "        print letter + suffix\n",
      "    else:\n",
      "        print letter + 'u' + suffix"
     ],
     "language": "python",
     "metadata": {},
     "outputs": [
      {
       "output_type": "stream",
       "stream": "stdout",
       "text": [
        "Jack\n",
        "Kack\n",
        "Lack\n",
        "Mack\n",
        "Nack\n",
        "Ouack\n",
        "Pack\n",
        "Quack\n"
       ]
      }
     ],
     "prompt_number": 4
    },
    {
     "cell_type": "markdown",
     "metadata": {},
     "source": [
      "Question 2"
     ]
    },
    {
     "cell_type": "code",
     "collapsed": false,
     "input": [
      "from ipythonblocks import BlockGrid\n",
      "\n",
      "grid = BlockGrid(8,8,fill=(80,80,80))\n",
      "grid.show()"
     ],
     "language": "python",
     "metadata": {},
     "outputs": [
      {
       "html": [
        "<style type=\"text/css\">table.blockgrid {border: none;} .blockgrid tr {border: none;} .blockgrid td {padding: 0px;} #blocks3150d19a-7d70-4d7a-8c5f-4efcb204066d td {border: 1px solid white;}</style><table id=\"blocks3150d19a-7d70-4d7a-8c5f-4efcb204066d\" class=\"blockgrid\"><tbody><tr><td title=\"Index: [0, 0]&#10;Color: (80, 80, 80)\" style=\"width: 20px; height: 20px;background-color: rgb(80, 80, 80);\"></td><td title=\"Index: [0, 1]&#10;Color: (80, 80, 80)\" style=\"width: 20px; height: 20px;background-color: rgb(80, 80, 80);\"></td><td title=\"Index: [0, 2]&#10;Color: (80, 80, 80)\" style=\"width: 20px; height: 20px;background-color: rgb(80, 80, 80);\"></td><td title=\"Index: [0, 3]&#10;Color: (80, 80, 80)\" style=\"width: 20px; height: 20px;background-color: rgb(80, 80, 80);\"></td><td title=\"Index: [0, 4]&#10;Color: (80, 80, 80)\" style=\"width: 20px; height: 20px;background-color: rgb(80, 80, 80);\"></td><td title=\"Index: [0, 5]&#10;Color: (80, 80, 80)\" style=\"width: 20px; height: 20px;background-color: rgb(80, 80, 80);\"></td><td title=\"Index: [0, 6]&#10;Color: (80, 80, 80)\" style=\"width: 20px; height: 20px;background-color: rgb(80, 80, 80);\"></td><td title=\"Index: [0, 7]&#10;Color: (80, 80, 80)\" style=\"width: 20px; height: 20px;background-color: rgb(80, 80, 80);\"></td></tr><tr><td title=\"Index: [1, 0]&#10;Color: (80, 80, 80)\" style=\"width: 20px; height: 20px;background-color: rgb(80, 80, 80);\"></td><td title=\"Index: [1, 1]&#10;Color: (80, 80, 80)\" style=\"width: 20px; height: 20px;background-color: rgb(80, 80, 80);\"></td><td title=\"Index: [1, 2]&#10;Color: (80, 80, 80)\" style=\"width: 20px; height: 20px;background-color: rgb(80, 80, 80);\"></td><td title=\"Index: [1, 3]&#10;Color: (80, 80, 80)\" style=\"width: 20px; height: 20px;background-color: rgb(80, 80, 80);\"></td><td title=\"Index: [1, 4]&#10;Color: (80, 80, 80)\" style=\"width: 20px; height: 20px;background-color: rgb(80, 80, 80);\"></td><td title=\"Index: [1, 5]&#10;Color: (80, 80, 80)\" style=\"width: 20px; height: 20px;background-color: rgb(80, 80, 80);\"></td><td title=\"Index: [1, 6]&#10;Color: (80, 80, 80)\" style=\"width: 20px; height: 20px;background-color: rgb(80, 80, 80);\"></td><td title=\"Index: [1, 7]&#10;Color: (80, 80, 80)\" style=\"width: 20px; height: 20px;background-color: rgb(80, 80, 80);\"></td></tr><tr><td title=\"Index: [2, 0]&#10;Color: (80, 80, 80)\" style=\"width: 20px; height: 20px;background-color: rgb(80, 80, 80);\"></td><td title=\"Index: [2, 1]&#10;Color: (80, 80, 80)\" style=\"width: 20px; height: 20px;background-color: rgb(80, 80, 80);\"></td><td title=\"Index: [2, 2]&#10;Color: (80, 80, 80)\" style=\"width: 20px; height: 20px;background-color: rgb(80, 80, 80);\"></td><td title=\"Index: [2, 3]&#10;Color: (80, 80, 80)\" style=\"width: 20px; height: 20px;background-color: rgb(80, 80, 80);\"></td><td title=\"Index: [2, 4]&#10;Color: (80, 80, 80)\" style=\"width: 20px; height: 20px;background-color: rgb(80, 80, 80);\"></td><td title=\"Index: [2, 5]&#10;Color: (80, 80, 80)\" style=\"width: 20px; height: 20px;background-color: rgb(80, 80, 80);\"></td><td title=\"Index: [2, 6]&#10;Color: (80, 80, 80)\" style=\"width: 20px; height: 20px;background-color: rgb(80, 80, 80);\"></td><td title=\"Index: [2, 7]&#10;Color: (80, 80, 80)\" style=\"width: 20px; height: 20px;background-color: rgb(80, 80, 80);\"></td></tr><tr><td title=\"Index: [3, 0]&#10;Color: (80, 80, 80)\" style=\"width: 20px; height: 20px;background-color: rgb(80, 80, 80);\"></td><td title=\"Index: [3, 1]&#10;Color: (80, 80, 80)\" style=\"width: 20px; height: 20px;background-color: rgb(80, 80, 80);\"></td><td title=\"Index: [3, 2]&#10;Color: (80, 80, 80)\" style=\"width: 20px; height: 20px;background-color: rgb(80, 80, 80);\"></td><td title=\"Index: [3, 3]&#10;Color: (80, 80, 80)\" style=\"width: 20px; height: 20px;background-color: rgb(80, 80, 80);\"></td><td title=\"Index: [3, 4]&#10;Color: (80, 80, 80)\" style=\"width: 20px; height: 20px;background-color: rgb(80, 80, 80);\"></td><td title=\"Index: [3, 5]&#10;Color: (80, 80, 80)\" style=\"width: 20px; height: 20px;background-color: rgb(80, 80, 80);\"></td><td title=\"Index: [3, 6]&#10;Color: (80, 80, 80)\" style=\"width: 20px; height: 20px;background-color: rgb(80, 80, 80);\"></td><td title=\"Index: [3, 7]&#10;Color: (80, 80, 80)\" style=\"width: 20px; height: 20px;background-color: rgb(80, 80, 80);\"></td></tr><tr><td title=\"Index: [4, 0]&#10;Color: (80, 80, 80)\" style=\"width: 20px; height: 20px;background-color: rgb(80, 80, 80);\"></td><td title=\"Index: [4, 1]&#10;Color: (80, 80, 80)\" style=\"width: 20px; height: 20px;background-color: rgb(80, 80, 80);\"></td><td title=\"Index: [4, 2]&#10;Color: (80, 80, 80)\" style=\"width: 20px; height: 20px;background-color: rgb(80, 80, 80);\"></td><td title=\"Index: [4, 3]&#10;Color: (80, 80, 80)\" style=\"width: 20px; height: 20px;background-color: rgb(80, 80, 80);\"></td><td title=\"Index: [4, 4]&#10;Color: (80, 80, 80)\" style=\"width: 20px; height: 20px;background-color: rgb(80, 80, 80);\"></td><td title=\"Index: [4, 5]&#10;Color: (80, 80, 80)\" style=\"width: 20px; height: 20px;background-color: rgb(80, 80, 80);\"></td><td title=\"Index: [4, 6]&#10;Color: (80, 80, 80)\" style=\"width: 20px; height: 20px;background-color: rgb(80, 80, 80);\"></td><td title=\"Index: [4, 7]&#10;Color: (80, 80, 80)\" style=\"width: 20px; height: 20px;background-color: rgb(80, 80, 80);\"></td></tr><tr><td title=\"Index: [5, 0]&#10;Color: (80, 80, 80)\" style=\"width: 20px; height: 20px;background-color: rgb(80, 80, 80);\"></td><td title=\"Index: [5, 1]&#10;Color: (80, 80, 80)\" style=\"width: 20px; height: 20px;background-color: rgb(80, 80, 80);\"></td><td title=\"Index: [5, 2]&#10;Color: (80, 80, 80)\" style=\"width: 20px; height: 20px;background-color: rgb(80, 80, 80);\"></td><td title=\"Index: [5, 3]&#10;Color: (80, 80, 80)\" style=\"width: 20px; height: 20px;background-color: rgb(80, 80, 80);\"></td><td title=\"Index: [5, 4]&#10;Color: (80, 80, 80)\" style=\"width: 20px; height: 20px;background-color: rgb(80, 80, 80);\"></td><td title=\"Index: [5, 5]&#10;Color: (80, 80, 80)\" style=\"width: 20px; height: 20px;background-color: rgb(80, 80, 80);\"></td><td title=\"Index: [5, 6]&#10;Color: (80, 80, 80)\" style=\"width: 20px; height: 20px;background-color: rgb(80, 80, 80);\"></td><td title=\"Index: [5, 7]&#10;Color: (80, 80, 80)\" style=\"width: 20px; height: 20px;background-color: rgb(80, 80, 80);\"></td></tr><tr><td title=\"Index: [6, 0]&#10;Color: (80, 80, 80)\" style=\"width: 20px; height: 20px;background-color: rgb(80, 80, 80);\"></td><td title=\"Index: [6, 1]&#10;Color: (80, 80, 80)\" style=\"width: 20px; height: 20px;background-color: rgb(80, 80, 80);\"></td><td title=\"Index: [6, 2]&#10;Color: (80, 80, 80)\" style=\"width: 20px; height: 20px;background-color: rgb(80, 80, 80);\"></td><td title=\"Index: [6, 3]&#10;Color: (80, 80, 80)\" style=\"width: 20px; height: 20px;background-color: rgb(80, 80, 80);\"></td><td title=\"Index: [6, 4]&#10;Color: (80, 80, 80)\" style=\"width: 20px; height: 20px;background-color: rgb(80, 80, 80);\"></td><td title=\"Index: [6, 5]&#10;Color: (80, 80, 80)\" style=\"width: 20px; height: 20px;background-color: rgb(80, 80, 80);\"></td><td title=\"Index: [6, 6]&#10;Color: (80, 80, 80)\" style=\"width: 20px; height: 20px;background-color: rgb(80, 80, 80);\"></td><td title=\"Index: [6, 7]&#10;Color: (80, 80, 80)\" style=\"width: 20px; height: 20px;background-color: rgb(80, 80, 80);\"></td></tr><tr><td title=\"Index: [7, 0]&#10;Color: (80, 80, 80)\" style=\"width: 20px; height: 20px;background-color: rgb(80, 80, 80);\"></td><td title=\"Index: [7, 1]&#10;Color: (80, 80, 80)\" style=\"width: 20px; height: 20px;background-color: rgb(80, 80, 80);\"></td><td title=\"Index: [7, 2]&#10;Color: (80, 80, 80)\" style=\"width: 20px; height: 20px;background-color: rgb(80, 80, 80);\"></td><td title=\"Index: [7, 3]&#10;Color: (80, 80, 80)\" style=\"width: 20px; height: 20px;background-color: rgb(80, 80, 80);\"></td><td title=\"Index: [7, 4]&#10;Color: (80, 80, 80)\" style=\"width: 20px; height: 20px;background-color: rgb(80, 80, 80);\"></td><td title=\"Index: [7, 5]&#10;Color: (80, 80, 80)\" style=\"width: 20px; height: 20px;background-color: rgb(80, 80, 80);\"></td><td title=\"Index: [7, 6]&#10;Color: (80, 80, 80)\" style=\"width: 20px; height: 20px;background-color: rgb(80, 80, 80);\"></td><td title=\"Index: [7, 7]&#10;Color: (80, 80, 80)\" style=\"width: 20px; height: 20px;background-color: rgb(80, 80, 80);\"></td></tr></tbody></table>"
       ],
       "metadata": {},
       "output_type": "display_data",
       "text": [
        "<IPython.core.display.HTML at 0x102723110>"
       ]
      }
     ],
     "prompt_number": 20
    },
    {
     "cell_type": "code",
     "collapsed": false,
     "input": [
      "for block in grid:\n",
      "    if block.col ==3 or block.col==4:\n",
      "        block.red=250\n",
      "        block.blue=100\n",
      "        block.green=10\n",
      "    if block.row ==0 or block.row==7:\n",
      "        block.red=250\n",
      "        block.blue=100\n",
      "        block.green=10\n",
      "\n",
      "grid.show()"
     ],
     "language": "python",
     "metadata": {},
     "outputs": [
      {
       "html": [
        "<style type=\"text/css\">table.blockgrid {border: none;} .blockgrid tr {border: none;} .blockgrid td {padding: 0px;} #blocks7671270a-1c4d-463d-8066-e0e838d261ef td {border: 1px solid white;}</style><table id=\"blocks7671270a-1c4d-463d-8066-e0e838d261ef\" class=\"blockgrid\"><tbody><tr><td title=\"Index: [0, 0]&#10;Color: (250, 10, 100)\" style=\"width: 20px; height: 20px;background-color: rgb(250, 10, 100);\"></td><td title=\"Index: [0, 1]&#10;Color: (250, 10, 100)\" style=\"width: 20px; height: 20px;background-color: rgb(250, 10, 100);\"></td><td title=\"Index: [0, 2]&#10;Color: (250, 10, 100)\" style=\"width: 20px; height: 20px;background-color: rgb(250, 10, 100);\"></td><td title=\"Index: [0, 3]&#10;Color: (250, 10, 100)\" style=\"width: 20px; height: 20px;background-color: rgb(250, 10, 100);\"></td><td title=\"Index: [0, 4]&#10;Color: (250, 10, 100)\" style=\"width: 20px; height: 20px;background-color: rgb(250, 10, 100);\"></td><td title=\"Index: [0, 5]&#10;Color: (250, 10, 100)\" style=\"width: 20px; height: 20px;background-color: rgb(250, 10, 100);\"></td><td title=\"Index: [0, 6]&#10;Color: (250, 10, 100)\" style=\"width: 20px; height: 20px;background-color: rgb(250, 10, 100);\"></td><td title=\"Index: [0, 7]&#10;Color: (250, 10, 100)\" style=\"width: 20px; height: 20px;background-color: rgb(250, 10, 100);\"></td></tr><tr><td title=\"Index: [1, 0]&#10;Color: (80, 80, 80)\" style=\"width: 20px; height: 20px;background-color: rgb(80, 80, 80);\"></td><td title=\"Index: [1, 1]&#10;Color: (80, 80, 80)\" style=\"width: 20px; height: 20px;background-color: rgb(80, 80, 80);\"></td><td title=\"Index: [1, 2]&#10;Color: (80, 80, 80)\" style=\"width: 20px; height: 20px;background-color: rgb(80, 80, 80);\"></td><td title=\"Index: [1, 3]&#10;Color: (250, 10, 100)\" style=\"width: 20px; height: 20px;background-color: rgb(250, 10, 100);\"></td><td title=\"Index: [1, 4]&#10;Color: (250, 10, 100)\" style=\"width: 20px; height: 20px;background-color: rgb(250, 10, 100);\"></td><td title=\"Index: [1, 5]&#10;Color: (80, 80, 80)\" style=\"width: 20px; height: 20px;background-color: rgb(80, 80, 80);\"></td><td title=\"Index: [1, 6]&#10;Color: (80, 80, 80)\" style=\"width: 20px; height: 20px;background-color: rgb(80, 80, 80);\"></td><td title=\"Index: [1, 7]&#10;Color: (80, 80, 80)\" style=\"width: 20px; height: 20px;background-color: rgb(80, 80, 80);\"></td></tr><tr><td title=\"Index: [2, 0]&#10;Color: (80, 80, 80)\" style=\"width: 20px; height: 20px;background-color: rgb(80, 80, 80);\"></td><td title=\"Index: [2, 1]&#10;Color: (80, 80, 80)\" style=\"width: 20px; height: 20px;background-color: rgb(80, 80, 80);\"></td><td title=\"Index: [2, 2]&#10;Color: (80, 80, 80)\" style=\"width: 20px; height: 20px;background-color: rgb(80, 80, 80);\"></td><td title=\"Index: [2, 3]&#10;Color: (250, 10, 100)\" style=\"width: 20px; height: 20px;background-color: rgb(250, 10, 100);\"></td><td title=\"Index: [2, 4]&#10;Color: (250, 10, 100)\" style=\"width: 20px; height: 20px;background-color: rgb(250, 10, 100);\"></td><td title=\"Index: [2, 5]&#10;Color: (80, 80, 80)\" style=\"width: 20px; height: 20px;background-color: rgb(80, 80, 80);\"></td><td title=\"Index: [2, 6]&#10;Color: (80, 80, 80)\" style=\"width: 20px; height: 20px;background-color: rgb(80, 80, 80);\"></td><td title=\"Index: [2, 7]&#10;Color: (80, 80, 80)\" style=\"width: 20px; height: 20px;background-color: rgb(80, 80, 80);\"></td></tr><tr><td title=\"Index: [3, 0]&#10;Color: (80, 80, 80)\" style=\"width: 20px; height: 20px;background-color: rgb(80, 80, 80);\"></td><td title=\"Index: [3, 1]&#10;Color: (80, 80, 80)\" style=\"width: 20px; height: 20px;background-color: rgb(80, 80, 80);\"></td><td title=\"Index: [3, 2]&#10;Color: (80, 80, 80)\" style=\"width: 20px; height: 20px;background-color: rgb(80, 80, 80);\"></td><td title=\"Index: [3, 3]&#10;Color: (250, 10, 100)\" style=\"width: 20px; height: 20px;background-color: rgb(250, 10, 100);\"></td><td title=\"Index: [3, 4]&#10;Color: (250, 10, 100)\" style=\"width: 20px; height: 20px;background-color: rgb(250, 10, 100);\"></td><td title=\"Index: [3, 5]&#10;Color: (80, 80, 80)\" style=\"width: 20px; height: 20px;background-color: rgb(80, 80, 80);\"></td><td title=\"Index: [3, 6]&#10;Color: (80, 80, 80)\" style=\"width: 20px; height: 20px;background-color: rgb(80, 80, 80);\"></td><td title=\"Index: [3, 7]&#10;Color: (80, 80, 80)\" style=\"width: 20px; height: 20px;background-color: rgb(80, 80, 80);\"></td></tr><tr><td title=\"Index: [4, 0]&#10;Color: (80, 80, 80)\" style=\"width: 20px; height: 20px;background-color: rgb(80, 80, 80);\"></td><td title=\"Index: [4, 1]&#10;Color: (80, 80, 80)\" style=\"width: 20px; height: 20px;background-color: rgb(80, 80, 80);\"></td><td title=\"Index: [4, 2]&#10;Color: (80, 80, 80)\" style=\"width: 20px; height: 20px;background-color: rgb(80, 80, 80);\"></td><td title=\"Index: [4, 3]&#10;Color: (250, 10, 100)\" style=\"width: 20px; height: 20px;background-color: rgb(250, 10, 100);\"></td><td title=\"Index: [4, 4]&#10;Color: (250, 10, 100)\" style=\"width: 20px; height: 20px;background-color: rgb(250, 10, 100);\"></td><td title=\"Index: [4, 5]&#10;Color: (80, 80, 80)\" style=\"width: 20px; height: 20px;background-color: rgb(80, 80, 80);\"></td><td title=\"Index: [4, 6]&#10;Color: (80, 80, 80)\" style=\"width: 20px; height: 20px;background-color: rgb(80, 80, 80);\"></td><td title=\"Index: [4, 7]&#10;Color: (80, 80, 80)\" style=\"width: 20px; height: 20px;background-color: rgb(80, 80, 80);\"></td></tr><tr><td title=\"Index: [5, 0]&#10;Color: (80, 80, 80)\" style=\"width: 20px; height: 20px;background-color: rgb(80, 80, 80);\"></td><td title=\"Index: [5, 1]&#10;Color: (80, 80, 80)\" style=\"width: 20px; height: 20px;background-color: rgb(80, 80, 80);\"></td><td title=\"Index: [5, 2]&#10;Color: (80, 80, 80)\" style=\"width: 20px; height: 20px;background-color: rgb(80, 80, 80);\"></td><td title=\"Index: [5, 3]&#10;Color: (250, 10, 100)\" style=\"width: 20px; height: 20px;background-color: rgb(250, 10, 100);\"></td><td title=\"Index: [5, 4]&#10;Color: (250, 10, 100)\" style=\"width: 20px; height: 20px;background-color: rgb(250, 10, 100);\"></td><td title=\"Index: [5, 5]&#10;Color: (80, 80, 80)\" style=\"width: 20px; height: 20px;background-color: rgb(80, 80, 80);\"></td><td title=\"Index: [5, 6]&#10;Color: (80, 80, 80)\" style=\"width: 20px; height: 20px;background-color: rgb(80, 80, 80);\"></td><td title=\"Index: [5, 7]&#10;Color: (80, 80, 80)\" style=\"width: 20px; height: 20px;background-color: rgb(80, 80, 80);\"></td></tr><tr><td title=\"Index: [6, 0]&#10;Color: (80, 80, 80)\" style=\"width: 20px; height: 20px;background-color: rgb(80, 80, 80);\"></td><td title=\"Index: [6, 1]&#10;Color: (80, 80, 80)\" style=\"width: 20px; height: 20px;background-color: rgb(80, 80, 80);\"></td><td title=\"Index: [6, 2]&#10;Color: (80, 80, 80)\" style=\"width: 20px; height: 20px;background-color: rgb(80, 80, 80);\"></td><td title=\"Index: [6, 3]&#10;Color: (250, 10, 100)\" style=\"width: 20px; height: 20px;background-color: rgb(250, 10, 100);\"></td><td title=\"Index: [6, 4]&#10;Color: (250, 10, 100)\" style=\"width: 20px; height: 20px;background-color: rgb(250, 10, 100);\"></td><td title=\"Index: [6, 5]&#10;Color: (80, 80, 80)\" style=\"width: 20px; height: 20px;background-color: rgb(80, 80, 80);\"></td><td title=\"Index: [6, 6]&#10;Color: (80, 80, 80)\" style=\"width: 20px; height: 20px;background-color: rgb(80, 80, 80);\"></td><td title=\"Index: [6, 7]&#10;Color: (80, 80, 80)\" style=\"width: 20px; height: 20px;background-color: rgb(80, 80, 80);\"></td></tr><tr><td title=\"Index: [7, 0]&#10;Color: (250, 10, 100)\" style=\"width: 20px; height: 20px;background-color: rgb(250, 10, 100);\"></td><td title=\"Index: [7, 1]&#10;Color: (250, 10, 100)\" style=\"width: 20px; height: 20px;background-color: rgb(250, 10, 100);\"></td><td title=\"Index: [7, 2]&#10;Color: (250, 10, 100)\" style=\"width: 20px; height: 20px;background-color: rgb(250, 10, 100);\"></td><td title=\"Index: [7, 3]&#10;Color: (250, 10, 100)\" style=\"width: 20px; height: 20px;background-color: rgb(250, 10, 100);\"></td><td title=\"Index: [7, 4]&#10;Color: (250, 10, 100)\" style=\"width: 20px; height: 20px;background-color: rgb(250, 10, 100);\"></td><td title=\"Index: [7, 5]&#10;Color: (250, 10, 100)\" style=\"width: 20px; height: 20px;background-color: rgb(250, 10, 100);\"></td><td title=\"Index: [7, 6]&#10;Color: (250, 10, 100)\" style=\"width: 20px; height: 20px;background-color: rgb(250, 10, 100);\"></td><td title=\"Index: [7, 7]&#10;Color: (250, 10, 100)\" style=\"width: 20px; height: 20px;background-color: rgb(250, 10, 100);\"></td></tr></tbody></table>"
       ],
       "metadata": {},
       "output_type": "display_data",
       "text": [
        "<IPython.core.display.HTML at 0x1027221d0>"
       ]
      }
     ],
     "prompt_number": 22
    },
    {
     "cell_type": "markdown",
     "metadata": {},
     "source": [
      "Question 3"
     ]
    },
    {
     "cell_type": "code",
     "collapsed": false,
     "input": [
      "bottles = 99\n",
      "\n",
      "for i in range(100):\n",
      "    if bottles!=1:\n",
      "        print \"%s bottles of beer on the wall, %s bottles of beer.\"%(bottles,bottles)\n",
      "    if bottles==1:\n",
      "        print \"%s bottle of beer on the wall, %s bottle of beer.\"%(bottles,bottles)\n",
      "    bottles-=1\n",
      "    if bottles!=1:\n",
      "        print \"Take one down, pass it around, %s bottles of beer on the wall.\"% bottles\n",
      "    if bottles==1:\n",
      "         print \"Take one down, pass it around, %s bottle of beer on the wall.\"% bottles\n",
      "    if bottles==0:\n",
      "        break"
     ],
     "language": "python",
     "metadata": {},
     "outputs": [
      {
       "output_type": "stream",
       "stream": "stdout",
       "text": [
        "99 bottles of beer on the wall, 99 bottles of beer.\n",
        "Take one down, pass it around, 98 bottles of beer on the wall.\n",
        "98 bottles of beer on the wall, 98 bottles of beer.\n",
        "Take one down, pass it around, 97 bottles of beer on the wall.\n",
        "97 bottles of beer on the wall, 97 bottles of beer.\n",
        "Take one down, pass it around, 96 bottles of beer on the wall.\n",
        "96 bottles of beer on the wall, 96 bottles of beer.\n",
        "Take one down, pass it around, 95 bottles of beer on the wall.\n",
        "95 bottles of beer on the wall, 95 bottles of beer.\n",
        "Take one down, pass it around, 94 bottles of beer on the wall.\n",
        "94 bottles of beer on the wall, 94 bottles of beer.\n",
        "Take one down, pass it around, 93 bottles of beer on the wall.\n",
        "93 bottles of beer on the wall, 93 bottles of beer.\n",
        "Take one down, pass it around, 92 bottles of beer on the wall.\n",
        "92 bottles of beer on the wall, 92 bottles of beer.\n",
        "Take one down, pass it around, 91 bottles of beer on the wall.\n",
        "91 bottles of beer on the wall, 91 bottles of beer.\n",
        "Take one down, pass it around, 90 bottles of beer on the wall.\n",
        "90 bottles of beer on the wall, 90 bottles of beer.\n",
        "Take one down, pass it around, 89 bottles of beer on the wall.\n",
        "89 bottles of beer on the wall, 89 bottles of beer.\n",
        "Take one down, pass it around, 88 bottles of beer on the wall.\n",
        "88 bottles of beer on the wall, 88 bottles of beer.\n",
        "Take one down, pass it around, 87 bottles of beer on the wall.\n",
        "87 bottles of beer on the wall, 87 bottles of beer.\n",
        "Take one down, pass it around, 86 bottles of beer on the wall.\n",
        "86 bottles of beer on the wall, 86 bottles of beer.\n",
        "Take one down, pass it around, 85 bottles of beer on the wall.\n",
        "85 bottles of beer on the wall, 85 bottles of beer.\n",
        "Take one down, pass it around, 84 bottles of beer on the wall.\n",
        "84 bottles of beer on the wall, 84 bottles of beer.\n",
        "Take one down, pass it around, 83 bottles of beer on the wall.\n",
        "83 bottles of beer on the wall, 83 bottles of beer.\n",
        "Take one down, pass it around, 82 bottles of beer on the wall.\n",
        "82 bottles of beer on the wall, 82 bottles of beer.\n",
        "Take one down, pass it around, 81 bottles of beer on the wall.\n",
        "81 bottles of beer on the wall, 81 bottles of beer.\n",
        "Take one down, pass it around, 80 bottles of beer on the wall.\n",
        "80 bottles of beer on the wall, 80 bottles of beer.\n",
        "Take one down, pass it around, 79 bottles of beer on the wall.\n",
        "79 bottles of beer on the wall, 79 bottles of beer.\n",
        "Take one down, pass it around, 78 bottles of beer on the wall.\n",
        "78 bottles of beer on the wall, 78 bottles of beer.\n",
        "Take one down, pass it around, 77 bottles of beer on the wall.\n",
        "77 bottles of beer on the wall, 77 bottles of beer.\n",
        "Take one down, pass it around, 76 bottles of beer on the wall.\n",
        "76 bottles of beer on the wall, 76 bottles of beer.\n",
        "Take one down, pass it around, 75 bottles of beer on the wall.\n",
        "75 bottles of beer on the wall, 75 bottles of beer.\n",
        "Take one down, pass it around, 74 bottles of beer on the wall.\n",
        "74 bottles of beer on the wall, 74 bottles of beer.\n",
        "Take one down, pass it around, 73 bottles of beer on the wall.\n",
        "73 bottles of beer on the wall, 73 bottles of beer.\n",
        "Take one down, pass it around, 72 bottles of beer on the wall.\n",
        "72 bottles of beer on the wall, 72 bottles of beer.\n",
        "Take one down, pass it around, 71 bottles of beer on the wall.\n",
        "71 bottles of beer on the wall, 71 bottles of beer.\n",
        "Take one down, pass it around, 70 bottles of beer on the wall.\n",
        "70 bottles of beer on the wall, 70 bottles of beer.\n",
        "Take one down, pass it around, 69 bottles of beer on the wall.\n",
        "69 bottles of beer on the wall, 69 bottles of beer.\n",
        "Take one down, pass it around, 68 bottles of beer on the wall.\n",
        "68 bottles of beer on the wall, 68 bottles of beer.\n",
        "Take one down, pass it around, 67 bottles of beer on the wall.\n",
        "67 bottles of beer on the wall, 67 bottles of beer.\n",
        "Take one down, pass it around, 66 bottles of beer on the wall.\n",
        "66 bottles of beer on the wall, 66 bottles of beer.\n",
        "Take one down, pass it around, 65 bottles of beer on the wall.\n",
        "65 bottles of beer on the wall, 65 bottles of beer.\n",
        "Take one down, pass it around, 64 bottles of beer on the wall.\n",
        "64 bottles of beer on the wall, 64 bottles of beer.\n",
        "Take one down, pass it around, 63 bottles of beer on the wall.\n",
        "63 bottles of beer on the wall, 63 bottles of beer.\n",
        "Take one down, pass it around, 62 bottles of beer on the wall.\n",
        "62 bottles of beer on the wall, 62 bottles of beer.\n",
        "Take one down, pass it around, 61 bottles of beer on the wall.\n",
        "61 bottles of beer on the wall, 61 bottles of beer.\n",
        "Take one down, pass it around, 60 bottles of beer on the wall.\n",
        "60 bottles of beer on the wall, 60 bottles of beer.\n",
        "Take one down, pass it around, 59 bottles of beer on the wall.\n",
        "59 bottles of beer on the wall, 59 bottles of beer.\n",
        "Take one down, pass it around, 58 bottles of beer on the wall.\n",
        "58 bottles of beer on the wall, 58 bottles of beer.\n",
        "Take one down, pass it around, 57 bottles of beer on the wall.\n",
        "57 bottles of beer on the wall, 57 bottles of beer.\n",
        "Take one down, pass it around, 56 bottles of beer on the wall.\n",
        "56 bottles of beer on the wall, 56 bottles of beer.\n",
        "Take one down, pass it around, 55 bottles of beer on the wall.\n",
        "55 bottles of beer on the wall, 55 bottles of beer.\n",
        "Take one down, pass it around, 54 bottles of beer on the wall.\n",
        "54 bottles of beer on the wall, 54 bottles of beer.\n",
        "Take one down, pass it around, 53 bottles of beer on the wall.\n",
        "53 bottles of beer on the wall, 53 bottles of beer.\n",
        "Take one down, pass it around, 52 bottles of beer on the wall.\n",
        "52 bottles of beer on the wall, 52 bottles of beer.\n",
        "Take one down, pass it around, 51 bottles of beer on the wall.\n",
        "51 bottles of beer on the wall, 51 bottles of beer.\n",
        "Take one down, pass it around, 50 bottles of beer on the wall.\n",
        "50 bottles of beer on the wall, 50 bottles of beer.\n",
        "Take one down, pass it around, 49 bottles of beer on the wall.\n",
        "49 bottles of beer on the wall, 49 bottles of beer.\n",
        "Take one down, pass it around, 48 bottles of beer on the wall.\n",
        "48 bottles of beer on the wall, 48 bottles of beer.\n",
        "Take one down, pass it around, 47 bottles of beer on the wall.\n",
        "47 bottles of beer on the wall, 47 bottles of beer.\n",
        "Take one down, pass it around, 46 bottles of beer on the wall.\n",
        "46 bottles of beer on the wall, 46 bottles of beer.\n",
        "Take one down, pass it around, 45 bottles of beer on the wall.\n",
        "45 bottles of beer on the wall, 45 bottles of beer.\n",
        "Take one down, pass it around, 44 bottles of beer on the wall.\n",
        "44 bottles of beer on the wall, 44 bottles of beer.\n",
        "Take one down, pass it around, 43 bottles of beer on the wall.\n",
        "43 bottles of beer on the wall, 43 bottles of beer.\n",
        "Take one down, pass it around, 42 bottles of beer on the wall.\n",
        "42 bottles of beer on the wall, 42 bottles of beer.\n",
        "Take one down, pass it around, 41 bottles of beer on the wall.\n",
        "41 bottles of beer on the wall, 41 bottles of beer.\n",
        "Take one down, pass it around, 40 bottles of beer on the wall.\n",
        "40 bottles of beer on the wall, 40 bottles of beer.\n",
        "Take one down, pass it around, 39 bottles of beer on the wall.\n",
        "39 bottles of beer on the wall, 39 bottles of beer.\n",
        "Take one down, pass it around, 38 bottles of beer on the wall.\n",
        "38 bottles of beer on the wall, 38 bottles of beer.\n",
        "Take one down, pass it around, 37 bottles of beer on the wall.\n",
        "37 bottles of beer on the wall, 37 bottles of beer.\n",
        "Take one down, pass it around, 36 bottles of beer on the wall.\n",
        "36 bottles of beer on the wall, 36 bottles of beer.\n",
        "Take one down, pass it around, 35 bottles of beer on the wall.\n",
        "35 bottles of beer on the wall, 35 bottles of beer.\n",
        "Take one down, pass it around, 34 bottles of beer on the wall.\n",
        "34 bottles of beer on the wall, 34 bottles of beer.\n",
        "Take one down, pass it around, 33 bottles of beer on the wall.\n",
        "33 bottles of beer on the wall, 33 bottles of beer.\n",
        "Take one down, pass it around, 32 bottles of beer on the wall.\n",
        "32 bottles of beer on the wall, 32 bottles of beer.\n",
        "Take one down, pass it around, 31 bottles of beer on the wall.\n",
        "31 bottles of beer on the wall, 31 bottles of beer.\n",
        "Take one down, pass it around, 30 bottles of beer on the wall.\n",
        "30 bottles of beer on the wall, 30 bottles of beer.\n",
        "Take one down, pass it around, 29 bottles of beer on the wall.\n",
        "29 bottles of beer on the wall, 29 bottles of beer.\n",
        "Take one down, pass it around, 28 bottles of beer on the wall.\n",
        "28 bottles of beer on the wall, 28 bottles of beer.\n",
        "Take one down, pass it around, 27 bottles of beer on the wall.\n",
        "27 bottles of beer on the wall, 27 bottles of beer.\n",
        "Take one down, pass it around, 26 bottles of beer on the wall.\n",
        "26 bottles of beer on the wall, 26 bottles of beer.\n",
        "Take one down, pass it around, 25 bottles of beer on the wall.\n",
        "25 bottles of beer on the wall, 25 bottles of beer.\n",
        "Take one down, pass it around, 24 bottles of beer on the wall.\n",
        "24 bottles of beer on the wall, 24 bottles of beer.\n",
        "Take one down, pass it around, 23 bottles of beer on the wall.\n",
        "23 bottles of beer on the wall, 23 bottles of beer.\n",
        "Take one down, pass it around, 22 bottles of beer on the wall.\n",
        "22 bottles of beer on the wall, 22 bottles of beer.\n",
        "Take one down, pass it around, 21 bottles of beer on the wall.\n",
        "21 bottles of beer on the wall, 21 bottles of beer.\n",
        "Take one down, pass it around, 20 bottles of beer on the wall.\n",
        "20 bottles of beer on the wall, 20 bottles of beer.\n",
        "Take one down, pass it around, 19 bottles of beer on the wall.\n",
        "19 bottles of beer on the wall, 19 bottles of beer.\n",
        "Take one down, pass it around, 18 bottles of beer on the wall.\n",
        "18 bottles of beer on the wall, 18 bottles of beer.\n",
        "Take one down, pass it around, 17 bottles of beer on the wall.\n",
        "17 bottles of beer on the wall, 17 bottles of beer.\n",
        "Take one down, pass it around, 16 bottles of beer on the wall.\n",
        "16 bottles of beer on the wall, 16 bottles of beer.\n",
        "Take one down, pass it around, 15 bottles of beer on the wall.\n",
        "15 bottles of beer on the wall, 15 bottles of beer.\n",
        "Take one down, pass it around, 14 bottles of beer on the wall.\n",
        "14 bottles of beer on the wall, 14 bottles of beer.\n",
        "Take one down, pass it around, 13 bottles of beer on the wall.\n",
        "13 bottles of beer on the wall, 13 bottles of beer.\n",
        "Take one down, pass it around, 12 bottles of beer on the wall.\n",
        "12 bottles of beer on the wall, 12 bottles of beer.\n",
        "Take one down, pass it around, 11 bottles of beer on the wall.\n",
        "11 bottles of beer on the wall, 11 bottles of beer.\n",
        "Take one down, pass it around, 10 bottles of beer on the wall.\n",
        "10 bottles of beer on the wall, 10 bottles of beer.\n",
        "Take one down, pass it around, 9 bottles of beer on the wall.\n",
        "9 bottles of beer on the wall, 9 bottles of beer.\n",
        "Take one down, pass it around, 8 bottles of beer on the wall.\n",
        "8 bottles of beer on the wall, 8 bottles of beer.\n",
        "Take one down, pass it around, 7 bottles of beer on the wall.\n",
        "7 bottles of beer on the wall, 7 bottles of beer.\n",
        "Take one down, pass it around, 6 bottles of beer on the wall.\n",
        "6 bottles of beer on the wall, 6 bottles of beer.\n",
        "Take one down, pass it around, 5 bottles of beer on the wall.\n",
        "5 bottles of beer on the wall, 5 bottles of beer.\n",
        "Take one down, pass it around, 4 bottles of beer on the wall.\n",
        "4 bottles of beer on the wall, 4 bottles of beer.\n",
        "Take one down, pass it around, 3 bottles of beer on the wall.\n",
        "3 bottles of beer on the wall, 3 bottles of beer.\n",
        "Take one down, pass it around, 2 bottles of beer on the wall.\n",
        "2 bottles of beer on the wall, 2 bottles of beer.\n",
        "Take one down, pass it around, 1 bottle of beer on the wall.\n",
        "1 bottle of beer on the wall, 1 bottle of beer.\n",
        "Take one down, pass it around, 0 bottles of beer on the wall.\n"
       ]
      }
     ],
     "prompt_number": 38
    },
    {
     "cell_type": "markdown",
     "metadata": {},
     "source": [
      "Question 4"
     ]
    },
    {
     "cell_type": "code",
     "collapsed": false,
     "input": [
      "%pylab inline\n",
      "from IPython.html.widgets import interact, interactive"
     ],
     "language": "python",
     "metadata": {},
     "outputs": [
      {
       "output_type": "stream",
       "stream": "stdout",
       "text": [
        "Populating the interactive namespace from numpy and matplotlib\n"
       ]
      }
     ],
     "prompt_number": 42
    },
    {
     "cell_type": "code",
     "collapsed": false,
     "input": [
      "x = np.linspace(0, 2*np.pi, 30)\n",
      "y = np.sin(x)\n",
      "s = np.sin(x)\n",
      "plt.xlim(x.min() * 1.1, 3)\n",
      "plt.ylim(s.min() * 1.1, s.max() * 1.1)\n",
      "\n",
      "plt.plot(x, s, color=\"red\",  linewidth=10, linestyle=\"-\", label=\"sine\")\n",
      "plt.legend(loc='upper left')\n",
      "plt.plot(x, y, color=\"red\", linewidth=2)\n",
      "\n",
      "plt.xlabel('X Axis', fontsize=18)\n",
      "plt.ylabel('Y Axis', fontsize=18)\n",
      "\n",
      "\n",
      "\n",
      "plt.plot(x, y, 'D', markersize=7, color='green');\n",
      "plt.grid()"
     ],
     "language": "python",
     "metadata": {},
     "outputs": [
      {
       "metadata": {},
       "output_type": "display_data",
       "png": "[encoded data removed]",
       "text": [
        "<matplotlib.figure.Figure at 0x107b33bd0>"
       ]
      }
     ],
     "prompt_number": 185
    },
    {
     "cell_type": "markdown",
     "metadata": {},
     "source": [
      "Question 5"
     ]
    },
    {
     "cell_type": "code",
     "collapsed": false,
     "input": [
      "import numpy as np"
     ],
     "language": "python",
     "metadata": {},
     "outputs": [],
     "prompt_number": 93
    },
    {
     "cell_type": "code",
     "collapsed": false,
     "input": [
      "import random\n",
      "\n",
      "arr = np.zeros((100,5))\n",
      "\n",
      "for i in range(100):\n",
      "    for j in range(5):\n",
      "        k = random.uniform(10.7,36.2)\n",
      "        arr[i,j] = k\n",
      "print arr\n"
     ],
     "language": "python",
     "metadata": {},
     "outputs": [
      {
       "output_type": "stream",
       "stream": "stdout",
       "text": [
        "[[ 11.57879568  29.59473136  14.97168442  14.01638327  21.58681658]\n",
        " [ 35.5763482   17.83194206  16.15100086  35.18008438  34.83417453]\n",
        " [ 28.51123251  36.13962205  25.34234839  13.06249011  12.0578378 ]\n",
        " [ 34.00099307  26.47072229  20.68147     24.63099706  14.7831161 ]\n",
        " [ 13.12383847  12.03711883  21.21177959  35.3250807   24.24219443]\n",
        " [ 12.87250034  30.60673736  12.94695609  15.93290197  13.15550246]\n",
        " [ 33.26220174  34.59190375  34.63763081  14.59367801  32.10191484]\n",
        " [ 14.98305693  24.22795968  27.48892933  32.85060095  34.71940521]\n",
        " [ 13.48645966  26.9178641   28.10365199  19.09258897  33.27384468]\n",
        " [ 29.74160188  35.19730972  30.46352693  28.93990145  14.31977549]\n",
        " [ 14.7673109   16.92192112  22.68575653  33.78037886  24.2272757 ]\n",
        " [ 14.30490008  12.08095     35.26125224  35.97149891  15.39984343]\n",
        " [ 15.1616663   17.2977003   26.28308025  20.49185852  13.85873858]\n",
        " [ 27.96233962  33.42790076  18.78116356  23.7389448   24.08136657]\n",
        " [ 24.83325341  31.24963673  23.20608001  14.99775829  26.78121767]\n",
        " [ 26.72299531  31.75687628  12.41418485  24.28952874  35.34147235]\n",
        " [ 27.30692673  13.06522043  25.84621361  12.001243    25.7359725 ]\n",
        " [ 35.94613136  17.29078987  12.26629706  27.06523148  17.49288239]\n",
        " [ 22.33721606  34.39848374  24.91471701  31.39788738  30.99381236]\n",
        " [ 19.58137596  21.11825167  23.55091473  19.4239217   16.15285471]\n",
        " [ 28.97045917  22.44039037  32.61016495  21.25344193  27.20640323]\n",
        " [ 31.64638765  30.62294516  13.52959931  34.17833249  22.98948709]\n",
        " [ 18.7106927   26.44726001  26.8195976   23.83345562  11.56242725]\n",
        " [ 16.48347223  35.36281529  22.63490944  22.25395763  27.27668973]\n",
        " [ 17.30112475  24.09739379  14.09065422  11.47933902  31.19490307]\n",
        " [ 21.04450937  34.7699339   33.32524752  33.93485175  13.34993226]\n",
        " [ 26.16766522  17.85778044  32.80332285  33.40190912  24.40679536]\n",
        " [ 12.01213191  11.08766764  17.53395633  12.97046435  23.31190953]\n",
        " [ 27.44571329  21.47373885  14.19535293  22.63855238  25.91784539]\n",
        " [ 21.11918289  20.36732888  14.24581684  31.86478818  35.9272282 ]\n",
        " [ 14.34715208  26.44835798  26.5469966   20.74826435  28.95735845]\n",
        " [ 15.98692315  26.03741761  11.9521079   33.35414662  25.47588187]\n",
        " [ 33.91829986  26.03690912  24.35204537  29.11616703  31.69904621]\n",
        " [ 34.37905236  19.36587579  31.49506733  34.58801072  17.20367733]\n",
        " [ 15.49954144  28.41649291  31.53922819  21.59080341  22.56580704]\n",
        " [ 19.21516854  21.97401657  20.23954445  26.76858012  34.11049261]\n",
        " [ 17.80595303  18.23778036  27.32217426  16.99739479  10.9308764 ]\n",
        " [ 29.48451061  23.75128311  33.32397331  18.19252707  24.52698874]\n",
        " [ 12.7211608   23.82093258  23.10445813  10.79408497  19.20667531]\n",
        " [ 25.43193945  12.1551984   12.68548289  33.0527681   17.44782886]\n",
        " [ 22.43397245  15.18370887  25.24344932  30.41959553  14.21095351]\n",
        " [ 24.39452979  30.21767128  15.22769461  31.27744374  35.56262014]\n",
        " [ 23.31426412  22.18960232  33.4969062   23.87382022  36.00477209]\n",
        " [ 23.53128367  23.28345887  33.73181627  25.51284077  16.6108586 ]\n",
        " [ 28.59680572  17.0175151   13.0779114   24.24147174  14.85967849]\n",
        " [ 25.65658153  18.5120669   11.1910814   33.39440037  34.84582265]\n",
        " [ 16.30244158  21.88321561  17.35226358  12.39439659  28.58621054]\n",
        " [ 13.33522289  11.268388    20.51914017  17.34371961  14.15750281]\n",
        " [ 16.84615364  31.78968864  16.63721899  13.74421479  20.17517812]\n",
        " [ 27.61550599  17.13039716  11.45880818  19.32169304  32.34632067]\n",
        " [ 32.01746059  23.22095778  12.5467269   17.07840343  21.41197425]\n",
        " [ 27.31292461  12.31862486  35.30058405  10.70186463  30.94943804]\n",
        " [ 25.66363199  34.03376799  14.98630142  28.09636478  22.88957041]\n",
        " [ 14.7823303   28.30027196  24.03698038  14.2773431   35.49513729]\n",
        " [ 20.72411325  29.55795131  26.56773236  34.66594092  32.08384213]\n",
        " [ 12.25261744  15.88097946  14.67891613  18.02669955  28.480821  ]\n",
        " [ 11.36467543  16.31113433  32.20037188  21.73850676  30.90116165]\n",
        " [ 33.07991966  18.05099997  30.71530712  32.84870674  27.38075908]\n",
        " [ 21.84514909  30.28208867  23.66040078  15.2298244   25.26999273]\n",
        " [ 15.79086559  31.88887277  28.57976553  24.60771793  25.34283577]\n",
        " [ 20.60221377  30.88138672  28.87112048  28.05905668  33.200952  ]\n",
        " [ 25.2184131   12.28429726  18.51089345  29.91752696  22.01034191]\n",
        " [ 22.62454997  11.93029474  19.94219388  14.35250412  28.00997131]\n",
        " [ 28.42196361  35.03099076  23.56014677  29.61955242  28.77462008]\n",
        " [ 20.97928134  22.96329543  27.57952858  11.28173216  28.79281216]\n",
        " [ 33.74561698  27.32310402  15.99383115  18.55047254  27.67769876]\n",
        " [ 17.55076328  32.30344833  15.90128874  10.77336203  17.36707192]\n",
        " [ 26.66592105  18.23966065  14.63444774  33.95448385  16.35762068]\n",
        " [ 23.89618249  16.09659469  14.70355733  33.58092795  14.71893515]\n",
        " [ 29.24113891  17.80285009  20.63844395  13.25193725  34.82753139]\n",
        " [ 12.47508791  35.48835483  11.02121045  11.76385385  24.68035314]\n",
        " [ 29.92104256  20.49422439  13.54570058  24.40617146  23.92646134]\n",
        " [ 26.55708656  22.34582483  13.40155091  12.13998051  34.33909678]\n",
        " [ 30.66666104  16.73132849  15.51641324  31.25978991  28.46696032]\n",
        " [ 11.41268467  17.28062732  14.58732152  19.6075576   19.14475877]\n",
        " [ 26.73636609  14.46504557  33.84817466  30.37209343  31.79760695]\n",
        " [ 12.13544366  24.22519264  26.83697662  26.10917815  15.45736185]\n",
        " [ 27.44376074  12.36368154  19.05916049  29.00224212  12.29939138]\n",
        " [ 18.52292278  25.52739185  16.09944723  19.72512373  12.2850563 ]\n",
        " [ 28.07407456  15.61352282  29.2539906   26.67022142  15.62232837]\n",
        " [ 24.00979318  12.84271079  34.09110864  33.13847728  34.89539199]\n",
        " [ 31.93035059  34.21985765  23.95140045  11.63817103  30.85566355]\n",
        " [ 24.32110811  33.30090997  14.60527964  18.81327152  28.85042236]\n",
        " [ 16.51213841  29.0299499   18.21740355  17.43948151  13.29179412]\n",
        " [ 11.356367    26.96959976  12.79296998  35.65526665  30.15925107]\n",
        " [ 19.15277788  35.57320748  34.67615008  28.40876949  33.9168634 ]\n",
        " [ 16.69856091  12.34178183  20.10212125  17.08029251  15.99948355]\n",
        " [ 22.34119285  28.686347    20.57136995  10.94270071  12.4792693 ]\n",
        " [ 19.5572119   16.48913538  16.70297133  10.89328451  31.67980402]\n",
        " [ 26.44847643  23.67883255  27.05705826  19.07847584  35.00589508]\n",
        " [ 17.00109096  23.4065062   14.73807415  12.21178223  20.74485797]\n",
        " [ 32.39928146  35.89859619  26.66843819  22.10070205  30.80955011]\n",
        " [ 29.78692664  24.01284416  15.50331719  19.77433693  18.36924537]\n",
        " [ 32.04409354  20.64321783  15.58926566  34.99633877  22.68767348]\n",
        " [ 22.58061814  26.65857832  28.28341035  13.69152877  14.57425592]\n",
        " [ 31.5961014   17.67916541  11.20183559  26.33351315  25.86563708]\n",
        " [ 16.2144414   12.31618407  32.93916244  28.72512658  18.99719617]\n",
        " [ 12.23772053  24.49218323  17.85365335  30.51146845  25.70470937]\n",
        " [ 33.25308811  13.86276248  13.99128387  11.63573466  16.44201125]\n",
        " [ 23.29202749  10.98097451  11.55781942  31.33809978  10.93257127]]\n"
       ]
      }
     ],
     "prompt_number": 107
    },
    {
     "cell_type": "code",
     "collapsed": false,
     "input": [
      "date = !date\n",
      "np.savetxt(\"numbers.txt\", arr, delimiter='  ', fmt=\"%5.3f\", header=\"My dataset \\n %s \\n Total of 500 numbers.\"%date)"
     ],
     "language": "python",
     "metadata": {},
     "outputs": [],
     "prompt_number": 123
    },
    {
     "cell_type": "code",
     "collapsed": false,
     "input": [
      "!head -10 numbers.txt"
     ],
     "language": "python",
     "metadata": {},
     "outputs": [
      {
       "output_type": "stream",
       "stream": "stdout",
       "text": [
        "# My dataset \r\n",
        "#  ['Tue Apr 29 15:24:29 PDT 2014'] \r\n",
        "#  Total of 500 numbers.\r\n",
        "11.579  29.595  14.972  14.016  21.587\r\n",
        "35.576  17.832  16.151  35.180  34.834\r\n",
        "28.511  36.140  25.342  13.062  12.058\r\n",
        "34.001  26.471  20.681  24.631  14.783\r\n",
        "13.124  12.037  21.212  35.325  24.242\r\n",
        "12.873  30.607  12.947  15.933  13.156\r\n",
        "33.262  34.592  34.638  14.594  32.102\r\n"
       ]
      }
     ],
     "prompt_number": 125
    },
    {
     "cell_type": "code",
     "collapsed": false,
     "input": [
      "!date"
     ],
     "language": "python",
     "metadata": {},
     "outputs": [
      {
       "output_type": "stream",
       "stream": "stdout",
       "text": [
        "Tue Apr 29 15:23:06 PDT 2014\r\n"
       ]
      }
     ],
     "prompt_number": 117
    },
    {
     "cell_type": "code",
     "collapsed": false,
     "input": [
      "arr2 = np.loadtxt(\"numbers.txt\")"
     ],
     "language": "python",
     "metadata": {},
     "outputs": [],
     "prompt_number": 172
    },
    {
     "cell_type": "code",
     "collapsed": false,
     "input": [
      "print arr2[:10,:]"
     ],
     "language": "python",
     "metadata": {},
     "outputs": [
      {
       "output_type": "stream",
       "stream": "stdout",
       "text": [
        "[[ 11.579  29.595  14.972  14.016  21.587]\n",
        " [ 35.576  17.832  16.151  35.18   34.834]\n",
        " [ 28.511  36.14   25.342  13.062  12.058]\n",
        " [ 34.001  26.471  20.681  24.631  14.783]\n",
        " [ 13.124  12.037  21.212  35.325  24.242]\n",
        " [ 12.873  30.607  12.947  15.933  13.156]\n",
        " [ 33.262  34.592  34.638  14.594  32.102]\n",
        " [ 14.983  24.228  27.489  32.851  34.719]\n",
        " [ 13.486  26.918  28.104  19.093  33.274]\n",
        " [ 29.742  35.197  30.464  28.94   14.32 ]]\n"
       ]
      }
     ],
     "prompt_number": 173
    },
    {
     "cell_type": "code",
     "collapsed": false,
     "input": [],
     "language": "python",
     "metadata": {},
     "outputs": []
    }
   ],
   "metadata": {}
  }
 ]
}