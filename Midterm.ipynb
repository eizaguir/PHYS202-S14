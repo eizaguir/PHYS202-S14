{
 "metadata": {
  "name": "",
  "signature": "sha256:92a0c3b513d21c70f83f97e2301d70867169aba097ecdcbb4c4b11eabc09c76b"
 },
 "nbformat": 3,
 "nbformat_minor": 0,
 "worksheets": [
  {
   "cells": [
    {
     "cell_type": "heading",
     "level": 1,
     "metadata": {},
     "source": [
      "Midterm"
     ]
    },
    {
     "cell_type": "markdown",
     "metadata": {},
     "source": [
      "Question 1"
     ]
    },
    {
     "cell_type": "code",
     "collapsed": false,
     "input": [
      "prefixes = 'JKLMNOPQ' \n",
      "suffix = 'ack'\n",
      "for letter in prefixes:\n",
      "    if letter != 'O' and letter != 'Q':\n",
      "        print letter + suffix\n",
      "    else:\n",
      "        print letter + 'u' + suffix"
     ],
     "language": "python",
     "metadata": {},
     "outputs": [
      {
       "output_type": "stream",
       "stream": "stdout",
       "text": [
        "Jack\n",
        "Kack\n",
        "Lack\n",
        "Mack\n",
        "Nack\n",
        "Ouack\n",
        "Pack\n",
        "Quack\n"
       ]
      }
     ],
     "prompt_number": 1
    },
    {
     "cell_type": "markdown",
     "metadata": {},
     "source": [
      "Question 2"
     ]
    },
    {
     "cell_type": "code",
     "collapsed": false,
     "input": [
      "from ipythonblocks import BlockGrid\n",
      "\n",
      "grid = BlockGrid(8,8,fill=(80,80,80))\n",
      "grid.show()"
     ],
     "language": "python",
     "metadata": {},
     "outputs": [
      {
       "html": [
        "<style type=\"text/css\">table.blockgrid {border: none;} .blockgrid tr {border: none;} .blockgrid td {padding: 0px;} #blocks5fcaf5ee-dd21-4676-adcf-884d1d906442 td {border: 1px solid white;}</style><table id=\"blocks5fcaf5ee-dd21-4676-adcf-884d1d906442\" class=\"blockgrid\"><tbody><tr><td title=\"Index: [0, 0]&#10;Color: (80, 80, 80)\" style=\"width: 20px; height: 20px;background-color: rgb(80, 80, 80);\"></td><td title=\"Index: [0, 1]&#10;Color: (80, 80, 80)\" style=\"width: 20px; height: 20px;background-color: rgb(80, 80, 80);\"></td><td title=\"Index: [0, 2]&#10;Color: (80, 80, 80)\" style=\"width: 20px; height: 20px;background-color: rgb(80, 80, 80);\"></td><td title=\"Index: [0, 3]&#10;Color: (80, 80, 80)\" style=\"width: 20px; height: 20px;background-color: rgb(80, 80, 80);\"></td><td title=\"Index: [0, 4]&#10;Color: (80, 80, 80)\" style=\"width: 20px; height: 20px;background-color: rgb(80, 80, 80);\"></td><td title=\"Index: [0, 5]&#10;Color: (80, 80, 80)\" style=\"width: 20px; height: 20px;background-color: rgb(80, 80, 80);\"></td><td title=\"Index: [0, 6]&#10;Color: (80, 80, 80)\" style=\"width: 20px; height: 20px;background-color: rgb(80, 80, 80);\"></td><td title=\"Index: [0, 7]&#10;Color: (80, 80, 80)\" style=\"width: 20px; height: 20px;background-color: rgb(80, 80, 80);\"></td></tr><tr><td title=\"Index: [1, 0]&#10;Color: (80, 80, 80)\" style=\"width: 20px; height: 20px;background-color: rgb(80, 80, 80);\"></td><td title=\"Index: [1, 1]&#10;Color: (80, 80, 80)\" style=\"width: 20px; height: 20px;background-color: rgb(80, 80, 80);\"></td><td title=\"Index: [1, 2]&#10;Color: (80, 80, 80)\" style=\"width: 20px; height: 20px;background-color: rgb(80, 80, 80);\"></td><td title=\"Index: [1, 3]&#10;Color: (80, 80, 80)\" style=\"width: 20px; height: 20px;background-color: rgb(80, 80, 80);\"></td><td title=\"Index: [1, 4]&#10;Color: (80, 80, 80)\" style=\"width: 20px; height: 20px;background-color: rgb(80, 80, 80);\"></td><td title=\"Index: [1, 5]&#10;Color: (80, 80, 80)\" style=\"width: 20px; height: 20px;background-color: rgb(80, 80, 80);\"></td><td title=\"Index: [1, 6]&#10;Color: (80, 80, 80)\" style=\"width: 20px; height: 20px;background-color: rgb(80, 80, 80);\"></td><td title=\"Index: [1, 7]&#10;Color: (80, 80, 80)\" style=\"width: 20px; height: 20px;background-color: rgb(80, 80, 80);\"></td></tr><tr><td title=\"Index: [2, 0]&#10;Color: (80, 80, 80)\" style=\"width: 20px; height: 20px;background-color: rgb(80, 80, 80);\"></td><td title=\"Index: [2, 1]&#10;Color: (80, 80, 80)\" style=\"width: 20px; height: 20px;background-color: rgb(80, 80, 80);\"></td><td title=\"Index: [2, 2]&#10;Color: (80, 80, 80)\" style=\"width: 20px; height: 20px;background-color: rgb(80, 80, 80);\"></td><td title=\"Index: [2, 3]&#10;Color: (80, 80, 80)\" style=\"width: 20px; height: 20px;background-color: rgb(80, 80, 80);\"></td><td title=\"Index: [2, 4]&#10;Color: (80, 80, 80)\" style=\"width: 20px; height: 20px;background-color: rgb(80, 80, 80);\"></td><td title=\"Index: [2, 5]&#10;Color: (80, 80, 80)\" style=\"width: 20px; height: 20px;background-color: rgb(80, 80, 80);\"></td><td title=\"Index: [2, 6]&#10;Color: (80, 80, 80)\" style=\"width: 20px; height: 20px;background-color: rgb(80, 80, 80);\"></td><td title=\"Index: [2, 7]&#10;Color: (80, 80, 80)\" style=\"width: 20px; height: 20px;background-color: rgb(80, 80, 80);\"></td></tr><tr><td title=\"Index: [3, 0]&#10;Color: (80, 80, 80)\" style=\"width: 20px; height: 20px;background-color: rgb(80, 80, 80);\"></td><td title=\"Index: [3, 1]&#10;Color: (80, 80, 80)\" style=\"width: 20px; height: 20px;background-color: rgb(80, 80, 80);\"></td><td title=\"Index: [3, 2]&#10;Color: (80, 80, 80)\" style=\"width: 20px; height: 20px;background-color: rgb(80, 80, 80);\"></td><td title=\"Index: [3, 3]&#10;Color: (80, 80, 80)\" style=\"width: 20px; height: 20px;background-color: rgb(80, 80, 80);\"></td><td title=\"Index: [3, 4]&#10;Color: (80, 80, 80)\" style=\"width: 20px; height: 20px;background-color: rgb(80, 80, 80);\"></td><td title=\"Index: [3, 5]&#10;Color: (80, 80, 80)\" style=\"width: 20px; height: 20px;background-color: rgb(80, 80, 80);\"></td><td title=\"Index: [3, 6]&#10;Color: (80, 80, 80)\" style=\"width: 20px; height: 20px;background-color: rgb(80, 80, 80);\"></td><td title=\"Index: [3, 7]&#10;Color: (80, 80, 80)\" style=\"width: 20px; height: 20px;background-color: rgb(80, 80, 80);\"></td></tr><tr><td title=\"Index: [4, 0]&#10;Color: (80, 80, 80)\" style=\"width: 20px; height: 20px;background-color: rgb(80, 80, 80);\"></td><td title=\"Index: [4, 1]&#10;Color: (80, 80, 80)\" style=\"width: 20px; height: 20px;background-color: rgb(80, 80, 80);\"></td><td title=\"Index: [4, 2]&#10;Color: (80, 80, 80)\" style=\"width: 20px; height: 20px;background-color: rgb(80, 80, 80);\"></td><td title=\"Index: [4, 3]&#10;Color: (80, 80, 80)\" style=\"width: 20px; height: 20px;background-color: rgb(80, 80, 80);\"></td><td title=\"Index: [4, 4]&#10;Color: (80, 80, 80)\" style=\"width: 20px; height: 20px;background-color: rgb(80, 80, 80);\"></td><td title=\"Index: [4, 5]&#10;Color: (80, 80, 80)\" style=\"width: 20px; height: 20px;background-color: rgb(80, 80, 80);\"></td><td title=\"Index: [4, 6]&#10;Color: (80, 80, 80)\" style=\"width: 20px; height: 20px;background-color: rgb(80, 80, 80);\"></td><td title=\"Index: [4, 7]&#10;Color: (80, 80, 80)\" style=\"width: 20px; height: 20px;background-color: rgb(80, 80, 80);\"></td></tr><tr><td title=\"Index: [5, 0]&#10;Color: (80, 80, 80)\" style=\"width: 20px; height: 20px;background-color: rgb(80, 80, 80);\"></td><td title=\"Index: [5, 1]&#10;Color: (80, 80, 80)\" style=\"width: 20px; height: 20px;background-color: rgb(80, 80, 80);\"></td><td title=\"Index: [5, 2]&#10;Color: (80, 80, 80)\" style=\"width: 20px; height: 20px;background-color: rgb(80, 80, 80);\"></td><td title=\"Index: [5, 3]&#10;Color: (80, 80, 80)\" style=\"width: 20px; height: 20px;background-color: rgb(80, 80, 80);\"></td><td title=\"Index: [5, 4]&#10;Color: (80, 80, 80)\" style=\"width: 20px; height: 20px;background-color: rgb(80, 80, 80);\"></td><td title=\"Index: [5, 5]&#10;Color: (80, 80, 80)\" style=\"width: 20px; height: 20px;background-color: rgb(80, 80, 80);\"></td><td title=\"Index: [5, 6]&#10;Color: (80, 80, 80)\" style=\"width: 20px; height: 20px;background-color: rgb(80, 80, 80);\"></td><td title=\"Index: [5, 7]&#10;Color: (80, 80, 80)\" style=\"width: 20px; height: 20px;background-color: rgb(80, 80, 80);\"></td></tr><tr><td title=\"Index: [6, 0]&#10;Color: (80, 80, 80)\" style=\"width: 20px; height: 20px;background-color: rgb(80, 80, 80);\"></td><td title=\"Index: [6, 1]&#10;Color: (80, 80, 80)\" style=\"width: 20px; height: 20px;background-color: rgb(80, 80, 80);\"></td><td title=\"Index: [6, 2]&#10;Color: (80, 80, 80)\" style=\"width: 20px; height: 20px;background-color: rgb(80, 80, 80);\"></td><td title=\"Index: [6, 3]&#10;Color: (80, 80, 80)\" style=\"width: 20px; height: 20px;background-color: rgb(80, 80, 80);\"></td><td title=\"Index: [6, 4]&#10;Color: (80, 80, 80)\" style=\"width: 20px; height: 20px;background-color: rgb(80, 80, 80);\"></td><td title=\"Index: [6, 5]&#10;Color: (80, 80, 80)\" style=\"width: 20px; height: 20px;background-color: rgb(80, 80, 80);\"></td><td title=\"Index: [6, 6]&#10;Color: (80, 80, 80)\" style=\"width: 20px; height: 20px;background-color: rgb(80, 80, 80);\"></td><td title=\"Index: [6, 7]&#10;Color: (80, 80, 80)\" style=\"width: 20px; height: 20px;background-color: rgb(80, 80, 80);\"></td></tr><tr><td title=\"Index: [7, 0]&#10;Color: (80, 80, 80)\" style=\"width: 20px; height: 20px;background-color: rgb(80, 80, 80);\"></td><td title=\"Index: [7, 1]&#10;Color: (80, 80, 80)\" style=\"width: 20px; height: 20px;background-color: rgb(80, 80, 80);\"></td><td title=\"Index: [7, 2]&#10;Color: (80, 80, 80)\" style=\"width: 20px; height: 20px;background-color: rgb(80, 80, 80);\"></td><td title=\"Index: [7, 3]&#10;Color: (80, 80, 80)\" style=\"width: 20px; height: 20px;background-color: rgb(80, 80, 80);\"></td><td title=\"Index: [7, 4]&#10;Color: (80, 80, 80)\" style=\"width: 20px; height: 20px;background-color: rgb(80, 80, 80);\"></td><td title=\"Index: [7, 5]&#10;Color: (80, 80, 80)\" style=\"width: 20px; height: 20px;background-color: rgb(80, 80, 80);\"></td><td title=\"Index: [7, 6]&#10;Color: (80, 80, 80)\" style=\"width: 20px; height: 20px;background-color: rgb(80, 80, 80);\"></td><td title=\"Index: [7, 7]&#10;Color: (80, 80, 80)\" style=\"width: 20px; height: 20px;background-color: rgb(80, 80, 80);\"></td></tr></tbody></table>"
       ],
       "metadata": {},
       "output_type": "display_data",
       "text": [
        "<IPython.core.display.HTML at 0x3eef1d0>"
       ]
      }
     ],
     "prompt_number": 2
    },
    {
     "cell_type": "code",
     "collapsed": false,
     "input": [
      "for block in grid:\n",
      "    if block.col ==3 or block.col==4:\n",
      "        block.red=250\n",
      "        block.blue=100\n",
      "        block.green=10\n",
      "    if block.row ==0 or block.row==7:\n",
      "        block.red=250\n",
      "        block.blue=100\n",
      "        block.green=10\n",
      "\n",
      "grid.show()"
     ],
     "language": "python",
     "metadata": {},
     "outputs": [
      {
       "html": [
        "<style type=\"text/css\">table.blockgrid {border: none;} .blockgrid tr {border: none;} .blockgrid td {padding: 0px;} #blocks48ec7de8-0ce3-48ed-9870-c3b4bb881f7b td {border: 1px solid white;}</style><table id=\"blocks48ec7de8-0ce3-48ed-9870-c3b4bb881f7b\" class=\"blockgrid\"><tbody><tr><td title=\"Index: [0, 0]&#10;Color: (250, 10, 100)\" style=\"width: 20px; height: 20px;background-color: rgb(250, 10, 100);\"></td><td title=\"Index: [0, 1]&#10;Color: (250, 10, 100)\" style=\"width: 20px; height: 20px;background-color: rgb(250, 10, 100);\"></td><td title=\"Index: [0, 2]&#10;Color: (250, 10, 100)\" style=\"width: 20px; height: 20px;background-color: rgb(250, 10, 100);\"></td><td title=\"Index: [0, 3]&#10;Color: (250, 10, 100)\" style=\"width: 20px; height: 20px;background-color: rgb(250, 10, 100);\"></td><td title=\"Index: [0, 4]&#10;Color: (250, 10, 100)\" style=\"width: 20px; height: 20px;background-color: rgb(250, 10, 100);\"></td><td title=\"Index: [0, 5]&#10;Color: (250, 10, 100)\" style=\"width: 20px; height: 20px;background-color: rgb(250, 10, 100);\"></td><td title=\"Index: [0, 6]&#10;Color: (250, 10, 100)\" style=\"width: 20px; height: 20px;background-color: rgb(250, 10, 100);\"></td><td title=\"Index: [0, 7]&#10;Color: (250, 10, 100)\" style=\"width: 20px; height: 20px;background-color: rgb(250, 10, 100);\"></td></tr><tr><td title=\"Index: [1, 0]&#10;Color: (80, 80, 80)\" style=\"width: 20px; height: 20px;background-color: rgb(80, 80, 80);\"></td><td title=\"Index: [1, 1]&#10;Color: (80, 80, 80)\" style=\"width: 20px; height: 20px;background-color: rgb(80, 80, 80);\"></td><td title=\"Index: [1, 2]&#10;Color: (80, 80, 80)\" style=\"width: 20px; height: 20px;background-color: rgb(80, 80, 80);\"></td><td title=\"Index: [1, 3]&#10;Color: (250, 10, 100)\" style=\"width: 20px; height: 20px;background-color: rgb(250, 10, 100);\"></td><td title=\"Index: [1, 4]&#10;Color: (250, 10, 100)\" style=\"width: 20px; height: 20px;background-color: rgb(250, 10, 100);\"></td><td title=\"Index: [1, 5]&#10;Color: (80, 80, 80)\" style=\"width: 20px; height: 20px;background-color: rgb(80, 80, 80);\"></td><td title=\"Index: [1, 6]&#10;Color: (80, 80, 80)\" style=\"width: 20px; height: 20px;background-color: rgb(80, 80, 80);\"></td><td title=\"Index: [1, 7]&#10;Color: (80, 80, 80)\" style=\"width: 20px; height: 20px;background-color: rgb(80, 80, 80);\"></td></tr><tr><td title=\"Index: [2, 0]&#10;Color: (80, 80, 80)\" style=\"width: 20px; height: 20px;background-color: rgb(80, 80, 80);\"></td><td title=\"Index: [2, 1]&#10;Color: (80, 80, 80)\" style=\"width: 20px; height: 20px;background-color: rgb(80, 80, 80);\"></td><td title=\"Index: [2, 2]&#10;Color: (80, 80, 80)\" style=\"width: 20px; height: 20px;background-color: rgb(80, 80, 80);\"></td><td title=\"Index: [2, 3]&#10;Color: (250, 10, 100)\" style=\"width: 20px; height: 20px;background-color: rgb(250, 10, 100);\"></td><td title=\"Index: [2, 4]&#10;Color: (250, 10, 100)\" style=\"width: 20px; height: 20px;background-color: rgb(250, 10, 100);\"></td><td title=\"Index: [2, 5]&#10;Color: (80, 80, 80)\" style=\"width: 20px; height: 20px;background-color: rgb(80, 80, 80);\"></td><td title=\"Index: [2, 6]&#10;Color: (80, 80, 80)\" style=\"width: 20px; height: 20px;background-color: rgb(80, 80, 80);\"></td><td title=\"Index: [2, 7]&#10;Color: (80, 80, 80)\" style=\"width: 20px; height: 20px;background-color: rgb(80, 80, 80);\"></td></tr><tr><td title=\"Index: [3, 0]&#10;Color: (80, 80, 80)\" style=\"width: 20px; height: 20px;background-color: rgb(80, 80, 80);\"></td><td title=\"Index: [3, 1]&#10;Color: (80, 80, 80)\" style=\"width: 20px; height: 20px;background-color: rgb(80, 80, 80);\"></td><td title=\"Index: [3, 2]&#10;Color: (80, 80, 80)\" style=\"width: 20px; height: 20px;background-color: rgb(80, 80, 80);\"></td><td title=\"Index: [3, 3]&#10;Color: (250, 10, 100)\" style=\"width: 20px; height: 20px;background-color: rgb(250, 10, 100);\"></td><td title=\"Index: [3, 4]&#10;Color: (250, 10, 100)\" style=\"width: 20px; height: 20px;background-color: rgb(250, 10, 100);\"></td><td title=\"Index: [3, 5]&#10;Color: (80, 80, 80)\" style=\"width: 20px; height: 20px;background-color: rgb(80, 80, 80);\"></td><td title=\"Index: [3, 6]&#10;Color: (80, 80, 80)\" style=\"width: 20px; height: 20px;background-color: rgb(80, 80, 80);\"></td><td title=\"Index: [3, 7]&#10;Color: (80, 80, 80)\" style=\"width: 20px; height: 20px;background-color: rgb(80, 80, 80);\"></td></tr><tr><td title=\"Index: [4, 0]&#10;Color: (80, 80, 80)\" style=\"width: 20px; height: 20px;background-color: rgb(80, 80, 80);\"></td><td title=\"Index: [4, 1]&#10;Color: (80, 80, 80)\" style=\"width: 20px; height: 20px;background-color: rgb(80, 80, 80);\"></td><td title=\"Index: [4, 2]&#10;Color: (80, 80, 80)\" style=\"width: 20px; height: 20px;background-color: rgb(80, 80, 80);\"></td><td title=\"Index: [4, 3]&#10;Color: (250, 10, 100)\" style=\"width: 20px; height: 20px;background-color: rgb(250, 10, 100);\"></td><td title=\"Index: [4, 4]&#10;Color: (250, 10, 100)\" style=\"width: 20px; height: 20px;background-color: rgb(250, 10, 100);\"></td><td title=\"Index: [4, 5]&#10;Color: (80, 80, 80)\" style=\"width: 20px; height: 20px;background-color: rgb(80, 80, 80);\"></td><td title=\"Index: [4, 6]&#10;Color: (80, 80, 80)\" style=\"width: 20px; height: 20px;background-color: rgb(80, 80, 80);\"></td><td title=\"Index: [4, 7]&#10;Color: (80, 80, 80)\" style=\"width: 20px; height: 20px;background-color: rgb(80, 80, 80);\"></td></tr><tr><td title=\"Index: [5, 0]&#10;Color: (80, 80, 80)\" style=\"width: 20px; height: 20px;background-color: rgb(80, 80, 80);\"></td><td title=\"Index: [5, 1]&#10;Color: (80, 80, 80)\" style=\"width: 20px; height: 20px;background-color: rgb(80, 80, 80);\"></td><td title=\"Index: [5, 2]&#10;Color: (80, 80, 80)\" style=\"width: 20px; height: 20px;background-color: rgb(80, 80, 80);\"></td><td title=\"Index: [5, 3]&#10;Color: (250, 10, 100)\" style=\"width: 20px; height: 20px;background-color: rgb(250, 10, 100);\"></td><td title=\"Index: [5, 4]&#10;Color: (250, 10, 100)\" style=\"width: 20px; height: 20px;background-color: rgb(250, 10, 100);\"></td><td title=\"Index: [5, 5]&#10;Color: (80, 80, 80)\" style=\"width: 20px; height: 20px;background-color: rgb(80, 80, 80);\"></td><td title=\"Index: [5, 6]&#10;Color: (80, 80, 80)\" style=\"width: 20px; height: 20px;background-color: rgb(80, 80, 80);\"></td><td title=\"Index: [5, 7]&#10;Color: (80, 80, 80)\" style=\"width: 20px; height: 20px;background-color: rgb(80, 80, 80);\"></td></tr><tr><td title=\"Index: [6, 0]&#10;Color: (80, 80, 80)\" style=\"width: 20px; height: 20px;background-color: rgb(80, 80, 80);\"></td><td title=\"Index: [6, 1]&#10;Color: (80, 80, 80)\" style=\"width: 20px; height: 20px;background-color: rgb(80, 80, 80);\"></td><td title=\"Index: [6, 2]&#10;Color: (80, 80, 80)\" style=\"width: 20px; height: 20px;background-color: rgb(80, 80, 80);\"></td><td title=\"Index: [6, 3]&#10;Color: (250, 10, 100)\" style=\"width: 20px; height: 20px;background-color: rgb(250, 10, 100);\"></td><td title=\"Index: [6, 4]&#10;Color: (250, 10, 100)\" style=\"width: 20px; height: 20px;background-color: rgb(250, 10, 100);\"></td><td title=\"Index: [6, 5]&#10;Color: (80, 80, 80)\" style=\"width: 20px; height: 20px;background-color: rgb(80, 80, 80);\"></td><td title=\"Index: [6, 6]&#10;Color: (80, 80, 80)\" style=\"width: 20px; height: 20px;background-color: rgb(80, 80, 80);\"></td><td title=\"Index: [6, 7]&#10;Color: (80, 80, 80)\" style=\"width: 20px; height: 20px;background-color: rgb(80, 80, 80);\"></td></tr><tr><td title=\"Index: [7, 0]&#10;Color: (250, 10, 100)\" style=\"width: 20px; height: 20px;background-color: rgb(250, 10, 100);\"></td><td title=\"Index: [7, 1]&#10;Color: (250, 10, 100)\" style=\"width: 20px; height: 20px;background-color: rgb(250, 10, 100);\"></td><td title=\"Index: [7, 2]&#10;Color: (250, 10, 100)\" style=\"width: 20px; height: 20px;background-color: rgb(250, 10, 100);\"></td><td title=\"Index: [7, 3]&#10;Color: (250, 10, 100)\" style=\"width: 20px; height: 20px;background-color: rgb(250, 10, 100);\"></td><td title=\"Index: [7, 4]&#10;Color: (250, 10, 100)\" style=\"width: 20px; height: 20px;background-color: rgb(250, 10, 100);\"></td><td title=\"Index: [7, 5]&#10;Color: (250, 10, 100)\" style=\"width: 20px; height: 20px;background-color: rgb(250, 10, 100);\"></td><td title=\"Index: [7, 6]&#10;Color: (250, 10, 100)\" style=\"width: 20px; height: 20px;background-color: rgb(250, 10, 100);\"></td><td title=\"Index: [7, 7]&#10;Color: (250, 10, 100)\" style=\"width: 20px; height: 20px;background-color: rgb(250, 10, 100);\"></td></tr></tbody></table>"
       ],
       "metadata": {},
       "output_type": "display_data",
       "text": [
        "<IPython.core.display.HTML at 0x3eda828>"
       ]
      }
     ],
     "prompt_number": 3
    },
    {
     "cell_type": "markdown",
     "metadata": {},
     "source": [
      "Question 3"
     ]
    },
    {
     "cell_type": "code",
     "collapsed": false,
     "input": [
      "bottles = 99\n",
      "\n",
      "for i in range(100):\n",
      "    if bottles!=1:\n",
      "        print \"%s bottles of beer on the wall, %s bottles of beer.\"%(bottles,bottles)\n",
      "    if bottles==1:\n",
      "        print \"%s bottle of beer on the wall, %s bottle of beer.\"%(bottles,bottles)\n",
      "    bottles-=1\n",
      "    if bottles!=1:\n",
      "        print \"Take one down, pass it around, %s bottles of beer on the wall.\"% bottles\n",
      "    if bottles==1:\n",
      "         print \"Take one down, pass it around, %s bottle of beer on the wall.\"% bottles\n",
      "    if bottles==0:\n",
      "        break"
     ],
     "language": "python",
     "metadata": {},
     "outputs": [
      {
       "output_type": "stream",
       "stream": "stdout",
       "text": [
        "99 bottles of beer on the wall, 99 bottles of beer.\n",
        "Take one down, pass it around, 98 bottles of beer on the wall.\n",
        "98 bottles of beer on the wall, 98 bottles of beer.\n",
        "Take one down, pass it around, 97 bottles of beer on the wall.\n",
        "97 bottles of beer on the wall, 97 bottles of beer.\n",
        "Take one down, pass it around, 96 bottles of beer on the wall.\n",
        "96 bottles of beer on the wall, 96 bottles of beer.\n",
        "Take one down, pass it around, 95 bottles of beer on the wall.\n",
        "95 bottles of beer on the wall, 95 bottles of beer.\n",
        "Take one down, pass it around, 94 bottles of beer on the wall.\n",
        "94 bottles of beer on the wall, 94 bottles of beer.\n",
        "Take one down, pass it around, 93 bottles of beer on the wall.\n",
        "93 bottles of beer on the wall, 93 bottles of beer.\n",
        "Take one down, pass it around, 92 bottles of beer on the wall.\n",
        "92 bottles of beer on the wall, 92 bottles of beer.\n",
        "Take one down, pass it around, 91 bottles of beer on the wall.\n",
        "91 bottles of beer on the wall, 91 bottles of beer.\n",
        "Take one down, pass it around, 90 bottles of beer on the wall.\n",
        "90 bottles of beer on the wall, 90 bottles of beer.\n",
        "Take one down, pass it around, 89 bottles of beer on the wall.\n",
        "89 bottles of beer on the wall, 89 bottles of beer.\n",
        "Take one down, pass it around, 88 bottles of beer on the wall.\n",
        "88 bottles of beer on the wall, 88 bottles of beer.\n",
        "Take one down, pass it around, 87 bottles of beer on the wall.\n",
        "87 bottles of beer on the wall, 87 bottles of beer.\n",
        "Take one down, pass it around, 86 bottles of beer on the wall.\n",
        "86 bottles of beer on the wall, 86 bottles of beer.\n",
        "Take one down, pass it around, 85 bottles of beer on the wall.\n",
        "85 bottles of beer on the wall, 85 bottles of beer.\n",
        "Take one down, pass it around, 84 bottles of beer on the wall.\n",
        "84 bottles of beer on the wall, 84 bottles of beer.\n",
        "Take one down, pass it around, 83 bottles of beer on the wall.\n",
        "83 bottles of beer on the wall, 83 bottles of beer.\n",
        "Take one down, pass it around, 82 bottles of beer on the wall.\n",
        "82 bottles of beer on the wall, 82 bottles of beer.\n",
        "Take one down, pass it around, 81 bottles of beer on the wall.\n",
        "81 bottles of beer on the wall, 81 bottles of beer.\n",
        "Take one down, pass it around, 80 bottles of beer on the wall.\n",
        "80 bottles of beer on the wall, 80 bottles of beer.\n",
        "Take one down, pass it around, 79 bottles of beer on the wall.\n",
        "79 bottles of beer on the wall, 79 bottles of beer.\n",
        "Take one down, pass it around, 78 bottles of beer on the wall.\n",
        "78 bottles of beer on the wall, 78 bottles of beer.\n",
        "Take one down, pass it around, 77 bottles of beer on the wall.\n",
        "77 bottles of beer on the wall, 77 bottles of beer.\n",
        "Take one down, pass it around, 76 bottles of beer on the wall.\n",
        "76 bottles of beer on the wall, 76 bottles of beer.\n",
        "Take one down, pass it around, 75 bottles of beer on the wall.\n",
        "75 bottles of beer on the wall, 75 bottles of beer.\n",
        "Take one down, pass it around, 74 bottles of beer on the wall.\n",
        "74 bottles of beer on the wall, 74 bottles of beer.\n",
        "Take one down, pass it around, 73 bottles of beer on the wall.\n",
        "73 bottles of beer on the wall, 73 bottles of beer.\n",
        "Take one down, pass it around, 72 bottles of beer on the wall.\n",
        "72 bottles of beer on the wall, 72 bottles of beer.\n",
        "Take one down, pass it around, 71 bottles of beer on the wall.\n",
        "71 bottles of beer on the wall, 71 bottles of beer.\n",
        "Take one down, pass it around, 70 bottles of beer on the wall.\n",
        "70 bottles of beer on the wall, 70 bottles of beer.\n",
        "Take one down, pass it around, 69 bottles of beer on the wall.\n",
        "69 bottles of beer on the wall, 69 bottles of beer.\n",
        "Take one down, pass it around, 68 bottles of beer on the wall.\n",
        "68 bottles of beer on the wall, 68 bottles of beer.\n",
        "Take one down, pass it around, 67 bottles of beer on the wall.\n",
        "67 bottles of beer on the wall, 67 bottles of beer.\n",
        "Take one down, pass it around, 66 bottles of beer on the wall.\n",
        "66 bottles of beer on the wall, 66 bottles of beer.\n",
        "Take one down, pass it around, 65 bottles of beer on the wall.\n",
        "65 bottles of beer on the wall, 65 bottles of beer.\n",
        "Take one down, pass it around, 64 bottles of beer on the wall.\n",
        "64 bottles of beer on the wall, 64 bottles of beer.\n",
        "Take one down, pass it around, 63 bottles of beer on the wall.\n",
        "63 bottles of beer on the wall, 63 bottles of beer.\n",
        "Take one down, pass it around, 62 bottles of beer on the wall.\n",
        "62 bottles of beer on the wall, 62 bottles of beer.\n",
        "Take one down, pass it around, 61 bottles of beer on the wall.\n",
        "61 bottles of beer on the wall, 61 bottles of beer.\n",
        "Take one down, pass it around, 60 bottles of beer on the wall.\n",
        "60 bottles of beer on the wall, 60 bottles of beer.\n",
        "Take one down, pass it around, 59 bottles of beer on the wall.\n",
        "59 bottles of beer on the wall, 59 bottles of beer.\n",
        "Take one down, pass it around, 58 bottles of beer on the wall.\n",
        "58 bottles of beer on the wall, 58 bottles of beer.\n",
        "Take one down, pass it around, 57 bottles of beer on the wall.\n",
        "57 bottles of beer on the wall, 57 bottles of beer.\n",
        "Take one down, pass it around, 56 bottles of beer on the wall.\n",
        "56 bottles of beer on the wall, 56 bottles of beer.\n",
        "Take one down, pass it around, 55 bottles of beer on the wall.\n",
        "55 bottles of beer on the wall, 55 bottles of beer.\n",
        "Take one down, pass it around, 54 bottles of beer on the wall.\n",
        "54 bottles of beer on the wall, 54 bottles of beer.\n",
        "Take one down, pass it around, 53 bottles of beer on the wall.\n",
        "53 bottles of beer on the wall, 53 bottles of beer.\n",
        "Take one down, pass it around, 52 bottles of beer on the wall.\n",
        "52 bottles of beer on the wall, 52 bottles of beer.\n",
        "Take one down, pass it around, 51 bottles of beer on the wall.\n",
        "51 bottles of beer on the wall, 51 bottles of beer.\n",
        "Take one down, pass it around, 50 bottles of beer on the wall.\n",
        "50 bottles of beer on the wall, 50 bottles of beer.\n",
        "Take one down, pass it around, 49 bottles of beer on the wall.\n",
        "49 bottles of beer on the wall, 49 bottles of beer.\n",
        "Take one down, pass it around, 48 bottles of beer on the wall.\n",
        "48 bottles of beer on the wall, 48 bottles of beer.\n",
        "Take one down, pass it around, 47 bottles of beer on the wall.\n",
        "47 bottles of beer on the wall, 47 bottles of beer.\n",
        "Take one down, pass it around, 46 bottles of beer on the wall.\n",
        "46 bottles of beer on the wall, 46 bottles of beer.\n",
        "Take one down, pass it around, 45 bottles of beer on the wall.\n",
        "45 bottles of beer on the wall, 45 bottles of beer.\n",
        "Take one down, pass it around, 44 bottles of beer on the wall.\n",
        "44 bottles of beer on the wall, 44 bottles of beer.\n",
        "Take one down, pass it around, 43 bottles of beer on the wall.\n",
        "43 bottles of beer on the wall, 43 bottles of beer.\n",
        "Take one down, pass it around, 42 bottles of beer on the wall.\n",
        "42 bottles of beer on the wall, 42 bottles of beer.\n",
        "Take one down, pass it around, 41 bottles of beer on the wall.\n",
        "41 bottles of beer on the wall, 41 bottles of beer.\n",
        "Take one down, pass it around, 40 bottles of beer on the wall.\n",
        "40 bottles of beer on the wall, 40 bottles of beer.\n",
        "Take one down, pass it around, 39 bottles of beer on the wall.\n",
        "39 bottles of beer on the wall, 39 bottles of beer.\n",
        "Take one down, pass it around, 38 bottles of beer on the wall.\n",
        "38 bottles of beer on the wall, 38 bottles of beer.\n",
        "Take one down, pass it around, 37 bottles of beer on the wall.\n",
        "37 bottles of beer on the wall, 37 bottles of beer.\n",
        "Take one down, pass it around, 36 bottles of beer on the wall.\n",
        "36 bottles of beer on the wall, 36 bottles of beer.\n",
        "Take one down, pass it around, 35 bottles of beer on the wall.\n",
        "35 bottles of beer on the wall, 35 bottles of beer.\n",
        "Take one down, pass it around, 34 bottles of beer on the wall.\n",
        "34 bottles of beer on the wall, 34 bottles of beer.\n",
        "Take one down, pass it around, 33 bottles of beer on the wall.\n",
        "33 bottles of beer on the wall, 33 bottles of beer.\n",
        "Take one down, pass it around, 32 bottles of beer on the wall.\n",
        "32 bottles of beer on the wall, 32 bottles of beer.\n",
        "Take one down, pass it around, 31 bottles of beer on the wall.\n",
        "31 bottles of beer on the wall, 31 bottles of beer.\n",
        "Take one down, pass it around, 30 bottles of beer on the wall.\n",
        "30 bottles of beer on the wall, 30 bottles of beer.\n",
        "Take one down, pass it around, 29 bottles of beer on the wall.\n",
        "29 bottles of beer on the wall, 29 bottles of beer.\n",
        "Take one down, pass it around, 28 bottles of beer on the wall.\n",
        "28 bottles of beer on the wall, 28 bottles of beer.\n",
        "Take one down, pass it around, 27 bottles of beer on the wall.\n",
        "27 bottles of beer on the wall, 27 bottles of beer.\n",
        "Take one down, pass it around, 26 bottles of beer on the wall.\n",
        "26 bottles of beer on the wall, 26 bottles of beer.\n",
        "Take one down, pass it around, 25 bottles of beer on the wall.\n",
        "25 bottles of beer on the wall, 25 bottles of beer.\n",
        "Take one down, pass it around, 24 bottles of beer on the wall.\n",
        "24 bottles of beer on the wall, 24 bottles of beer.\n",
        "Take one down, pass it around, 23 bottles of beer on the wall.\n",
        "23 bottles of beer on the wall, 23 bottles of beer.\n",
        "Take one down, pass it around, 22 bottles of beer on the wall.\n",
        "22 bottles of beer on the wall, 22 bottles of beer.\n",
        "Take one down, pass it around, 21 bottles of beer on the wall.\n",
        "21 bottles of beer on the wall, 21 bottles of beer.\n",
        "Take one down, pass it around, 20 bottles of beer on the wall.\n",
        "20 bottles of beer on the wall, 20 bottles of beer.\n",
        "Take one down, pass it around, 19 bottles of beer on the wall.\n",
        "19 bottles of beer on the wall, 19 bottles of beer.\n",
        "Take one down, pass it around, 18 bottles of beer on the wall.\n",
        "18 bottles of beer on the wall, 18 bottles of beer.\n",
        "Take one down, pass it around, 17 bottles of beer on the wall.\n",
        "17 bottles of beer on the wall, 17 bottles of beer.\n",
        "Take one down, pass it around, 16 bottles of beer on the wall.\n",
        "16 bottles of beer on the wall, 16 bottles of beer.\n",
        "Take one down, pass it around, 15 bottles of beer on the wall.\n",
        "15 bottles of beer on the wall, 15 bottles of beer.\n",
        "Take one down, pass it around, 14 bottles of beer on the wall.\n",
        "14 bottles of beer on the wall, 14 bottles of beer.\n",
        "Take one down, pass it around, 13 bottles of beer on the wall.\n",
        "13 bottles of beer on the wall, 13 bottles of beer.\n",
        "Take one down, pass it around, 12 bottles of beer on the wall.\n",
        "12 bottles of beer on the wall, 12 bottles of beer.\n",
        "Take one down, pass it around, 11 bottles of beer on the wall.\n",
        "11 bottles of beer on the wall, 11 bottles of beer.\n",
        "Take one down, pass it around, 10 bottles of beer on the wall.\n",
        "10 bottles of beer on the wall, 10 bottles of beer.\n",
        "Take one down, pass it around, 9 bottles of beer on the wall.\n",
        "9 bottles of beer on the wall, 9 bottles of beer.\n",
        "Take one down, pass it around, 8 bottles of beer on the wall.\n",
        "8 bottles of beer on the wall, 8 bottles of beer.\n",
        "Take one down, pass it around, 7 bottles of beer on the wall.\n",
        "7 bottles of beer on the wall, 7 bottles of beer.\n",
        "Take one down, pass it around, 6 bottles of beer on the wall.\n",
        "6 bottles of beer on the wall, 6 bottles of beer.\n",
        "Take one down, pass it around, 5 bottles of beer on the wall.\n",
        "5 bottles of beer on the wall, 5 bottles of beer.\n",
        "Take one down, pass it around, 4 bottles of beer on the wall.\n",
        "4 bottles of beer on the wall, 4 bottles of beer.\n",
        "Take one down, pass it around, 3 bottles of beer on the wall.\n",
        "3 bottles of beer on the wall, 3 bottles of beer.\n",
        "Take one down, pass it around, 2 bottles of beer on the wall.\n",
        "2 bottles of beer on the wall, 2 bottles of beer.\n",
        "Take one down, pass it around, 1 bottle of beer on the wall.\n",
        "1 bottle of beer on the wall, 1 bottle of beer.\n",
        "Take one down, pass it around, 0 bottles of beer on the wall.\n"
       ]
      }
     ],
     "prompt_number": 4
    },
    {
     "cell_type": "markdown",
     "metadata": {},
     "source": [
      "Question 4"
     ]
    },
    {
     "cell_type": "code",
     "collapsed": false,
     "input": [
      "%pylab inline\n",
      "from IPython.html.widgets import interact, interactive"
     ],
     "language": "python",
     "metadata": {},
     "outputs": [
      {
       "output_type": "stream",
       "stream": "stdout",
       "text": [
        "Populating the interactive namespace from numpy and matplotlib\n"
       ]
      },
      {
       "output_type": "stream",
       "stream": "stderr",
       "text": [
        "WARNING: pylab import has clobbered these variables: ['grid']\n",
        "`%matplotlib` prevents importing * from pylab and numpy\n"
       ]
      }
     ],
     "prompt_number": 5
    },
    {
     "cell_type": "code",
     "collapsed": false,
     "input": [
      "x = np.linspace(0, 2*np.pi, 30)\n",
      "y = np.sin(x)\n",
      "s = np.sin(x)\n",
      "plt.xlim(x.min() * 1.1, 3)\n",
      "plt.ylim(s.min() * 1.1, s.max() * 1.1)\n",
      "\n",
      "plt.plot(x, s, color=\"red\",  linewidth=10, linestyle=\"-\", label=\"sine\")\n",
      "plt.legend(loc='upper left')\n",
      "plt.plot(x, y, color=\"red\", linewidth=2)\n",
      "\n",
      "plt.xlabel('X Axis', fontsize=18)\n",
      "plt.ylabel('Y Axis', fontsize=18)\n",
      "\n",
      "\n",
      "\n",
      "plt.plot(x, y, 'D', markersize=7, color='green');\n",
      "plt.grid()"
     ],
     "language": "python",
     "metadata": {},
     "outputs": [
      {
       "metadata": {},
       "output_type": "display_data",
       "png": "[encoded data removed]",
       "text": [
        "<matplotlib.figure.Figure at 0xa1d2780>"
       ]
      }
     ],
     "prompt_number": 6
    },
    {
     "cell_type": "markdown",
     "metadata": {},
     "source": [
      "Question 5"
     ]
    },
    {
     "cell_type": "code",
     "collapsed": false,
     "input": [
      "import numpy as np"
     ],
     "language": "python",
     "metadata": {},
     "outputs": [],
     "prompt_number": 7
    },
    {
     "cell_type": "code",
     "collapsed": false,
     "input": [
      "import random\n",
      "\n",
      "arr = np.zeros((100,5))\n",
      "\n",
      "for i in range(100):\n",
      "    for j in range(5):\n",
      "        k = random.uniform(10.7,36.2)\n",
      "        arr[i,j] = k\n",
      "print arr\n"
     ],
     "language": "python",
     "metadata": {},
     "outputs": [
      {
       "output_type": "stream",
       "stream": "stdout",
       "text": [
        "[[ 31.62005359  15.25807832  11.80913136  12.70410038  22.28175749]\n",
        " [ 17.76537768  12.07269495  33.1786784   27.70389081  19.73456173]\n",
        " [ 12.11977101  17.3089818   20.9041655   35.90422921  17.63676223]\n",
        " [ 22.63046895  35.68301445  17.30647503  17.51140134  11.35814981]\n",
        " [ 34.60514483  14.35566586  19.06481055  28.08218398  35.15171212]\n",
        " [ 25.21143461  34.58712232  30.03508042  19.14619269  18.07323714]\n",
        " [ 26.80302085  20.28251697  29.31386962  34.88291207  27.78910639]\n",
        " [ 34.41123663  16.91569906  20.47326958  18.03662918  14.09792997]\n",
        " [ 16.19279671  32.1898988   19.07498847  27.63498266  28.69889443]\n",
        " [ 25.62946743  19.70777886  14.07583875  32.8100636   11.72266429]\n",
        " [ 20.39490475  27.78031637  26.71725907  15.74985879  28.16469174]\n",
        " [ 18.42673591  24.11086466  11.36904801  24.98194779  31.71928634]\n",
        " [ 17.29670556  13.56767378  30.38429731  20.11559233  26.17585456]\n",
        " [ 13.38345521  20.93364014  11.41852309  34.4988823   27.84797452]\n",
        " [ 19.00834463  20.95162357  35.0560869   35.43919586  28.40222643]\n",
        " [ 24.21921083  17.45223731  13.74515512  31.8314343   13.56011164]\n",
        " [ 26.85800118  25.45310838  20.91275742  31.26088865  32.5690038 ]\n",
        " [ 35.53336256  34.88681673  22.31858123  35.69663431  11.97140919]\n",
        " [ 35.47141639  11.91724112  21.69411467  28.45517008  35.75566828]\n",
        " [ 30.53277509  31.35950927  21.76899943  33.67670548  34.55566506]\n",
        " [ 16.24538745  28.19596769  23.58944779  14.04090168  13.456748  ]\n",
        " [ 33.32381567  30.12501153  16.4560374   13.42708824  22.12928235]\n",
        " [ 15.968502    25.38417834  25.09036077  29.60583878  22.71902726]\n",
        " [ 21.11246702  26.51731054  14.71107344  28.06595843  25.61369572]\n",
        " [ 29.12627898  23.02460488  19.90901343  30.14748531  16.7032397 ]\n",
        " [ 22.28498746  16.58308383  13.70034564  11.26989822  21.57275846]\n",
        " [ 19.72884788  17.27846053  35.75597878  11.41217354  24.29251465]\n",
        " [ 22.40159495  15.62824633  13.96252923  30.18640011  12.20950186]\n",
        " [ 11.97404125  26.96520391  22.44691273  16.52470391  35.61233997]\n",
        " [ 11.45216072  34.99559243  14.18919716  29.59952732  28.59482774]\n",
        " [ 23.58257904  30.27183865  32.9086541   23.92101962  33.62823853]\n",
        " [ 28.65320936  16.14309901  23.11794209  17.94631015  12.48726281]\n",
        " [ 28.06770771  31.17125379  18.88647046  24.70066322  14.55106838]\n",
        " [ 21.28207223  34.97562372  27.17489226  34.78131202  14.31251362]\n",
        " [ 32.05723887  17.72201092  29.56643187  12.1630323   15.40370253]\n",
        " [ 20.07543217  20.80331709  35.83778471  25.05035667  11.41861711]\n",
        " [ 30.62625753  15.47158116  20.60429019  34.86945677  13.9219497 ]\n",
        " [ 19.67831699  23.50577481  22.17667496  20.37298537  19.22810463]\n",
        " [ 13.84102975  31.04882255  30.62842431  35.19567939  11.59424816]\n",
        " [ 31.04671851  13.42668838  19.11498022  22.85317469  16.18435057]\n",
        " [ 28.1828727   15.82129535  20.89604476  15.87491442  33.33185705]\n",
        " [ 22.92554724  10.98014999  11.36577639  12.787215    30.79688547]\n",
        " [ 33.93433055  33.34517731  29.18182465  25.78778772  32.70945583]\n",
        " [ 28.24491505  29.02363312  18.5959638   27.46564477  20.80541249]\n",
        " [ 22.862738    30.73882053  13.27065236  29.82030668  11.61519461]\n",
        " [ 26.8355629   15.98631667  24.37344581  26.55870235  32.09698693]\n",
        " [ 12.75631532  33.08763157  12.10916491  34.76472108  33.99919253]\n",
        " [ 27.1290087   27.01719688  27.38009408  15.31097762  32.54238716]\n",
        " [ 23.24870517  26.58054904  28.01863377  28.96069348  36.14819097]\n",
        " [ 33.96659432  30.87810889  26.0274359   22.97308625  34.91252762]\n",
        " [ 25.88675944  16.79070874  13.2353888   24.1729679   12.84736448]\n",
        " [ 22.48303133  17.56244256  29.22311805  29.42007681  26.03488101]\n",
        " [ 20.44206042  25.48620983  12.22230864  32.44153646  33.79709833]\n",
        " [ 20.27576102  35.36427598  24.90680605  27.12109271  11.99726258]\n",
        " [ 29.56937925  33.44752775  12.04393315  21.96390187  35.32785057]\n",
        " [ 11.07857224  17.01545588  11.03590178  13.73555486  22.86111973]\n",
        " [ 33.32640529  29.3258512   12.86981256  31.86114346  33.63190074]\n",
        " [ 16.08545075  17.38448101  33.25998559  23.77923654  15.4646155 ]\n",
        " [ 34.16177369  32.2443254   22.29489801  33.65464796  29.38980572]\n",
        " [ 34.73083546  12.83013642  29.28292445  16.17307872  25.7052495 ]\n",
        " [ 26.96162514  18.07481961  22.51405015  30.13049643  18.45425504]\n",
        " [ 27.45773114  14.30131317  19.7243184   20.09565171  35.85485748]\n",
        " [ 31.438116    21.8976443   16.87156321  19.30332237  14.7528483 ]\n",
        " [ 35.27503424  15.11450557  34.2190072   21.7823834   28.46998446]\n",
        " [ 29.07292949  26.2838844   29.23638156  13.43880875  15.85963875]\n",
        " [ 11.98970582  10.89202641  14.26883942  34.46185865  19.28747461]\n",
        " [ 23.3732086   27.78063824  32.19589226  28.15278881  12.58186068]\n",
        " [ 33.58152422  12.30619319  22.34926877  23.72048896  23.36781632]\n",
        " [ 22.80720246  17.03514257  29.03663588  31.56188301  24.28897995]\n",
        " [ 13.86151035  21.85959853  34.89266366  29.22878277  33.09934519]\n",
        " [ 25.34214567  28.5119029   21.71139544  19.31692948  18.15272098]\n",
        " [ 17.98911179  15.69281215  20.54178306  36.10111156  22.39849658]\n",
        " [ 14.22753174  15.32882034  16.42327953  30.3258385   20.7984578 ]\n",
        " [ 26.80807719  16.15415267  23.376091    18.96248088  15.05081738]\n",
        " [ 35.41419905  13.98325012  30.51599477  33.47760434  20.85541976]\n",
        " [ 16.04334523  23.93426637  32.09496777  17.93070645  34.79328055]\n",
        " [ 27.35285999  15.7132678   28.62771236  17.72128275  21.74615589]\n",
        " [ 17.86399335  12.47548356  26.09461983  35.17577706  34.04812292]\n",
        " [ 23.92831405  11.58549084  34.88138868  11.59619491  16.68061222]\n",
        " [ 11.58341435  32.45760745  24.90056047  30.95558579  15.50007489]\n",
        " [ 22.99305079  17.76199633  17.58270385  24.58015058  14.68343668]\n",
        " [ 15.09417308  28.37748544  21.28528708  16.10307149  34.06418124]\n",
        " [ 23.62068972  24.28760281  32.18599494  19.6574387   13.57802264]\n",
        " [ 32.84624782  33.51451085  26.40753105  30.57056338  13.81242791]\n",
        " [ 34.63540522  21.9387358   17.57324569  33.32544498  28.02999305]\n",
        " [ 33.84490461  22.93098013  18.30265304  15.39222063  22.67442346]\n",
        " [ 26.89166078  20.55793333  28.24942145  15.40959415  27.41638261]\n",
        " [ 22.49479378  18.33566906  16.93672027  21.59142345  17.11099575]\n",
        " [ 16.20582247  26.84524458  35.1007659   18.25685217  23.8040111 ]\n",
        " [ 16.12814136  26.33858762  18.53776439  12.2037516   29.08153105]\n",
        " [ 24.48856421  20.53166537  28.11191297  11.75011761  26.03740392]\n",
        " [ 29.46451658  25.89182112  24.59934537  34.42014073  31.96542792]\n",
        " [ 33.12154518  28.15272131  30.6098289   19.99032626  11.97753783]\n",
        " [ 17.71962978  21.339896    33.85327562  16.87876489  34.3493308 ]\n",
        " [ 35.44815602  20.15149924  20.63041907  35.81486112  11.41360747]\n",
        " [ 22.24231912  27.2039302   28.10484472  35.09315923  18.46413574]\n",
        " [ 18.15271685  30.81120437  30.38534814  15.04236409  25.54894533]\n",
        " [ 11.60150315  14.73686215  11.07582611  33.98808469  20.52043121]\n",
        " [ 16.87985263  26.91797247  18.63278729  13.34426746  10.86006167]\n",
        " [ 25.66059772  23.78481362  25.53924545  29.94527371  32.17483399]]\n"
       ]
      }
     ],
     "prompt_number": 8
    },
    {
     "cell_type": "code",
     "collapsed": false,
     "input": [
      "date = !date\n",
      "np.savetxt(\"numbers.txt\", arr, delimiter='  ', fmt=\"%5.3f\", header=\"My dataset \\n %s \\n Total of 500 numbers.\"%date)"
     ],
     "language": "python",
     "metadata": {},
     "outputs": [],
     "prompt_number": 9
    },
    {
     "cell_type": "code",
     "collapsed": false,
     "input": [
      "!head -10 numbers.txt"
     ],
     "language": "python",
     "metadata": {},
     "outputs": [
      {
       "output_type": "stream",
       "stream": "stderr",
       "text": [
        "'head' is not recognized as an internal or external command,\n",
        "operable program or batch file.\n"
       ]
      }
     ]
    },
    {
     "cell_type": "code",
     "collapsed": false,
     "input": [
      "!date"
     ],
     "language": "python",
     "metadata": {},
     "outputs": []
    },
    {
     "cell_type": "code",
     "collapsed": false,
     "input": [
      "arr2 = np.loadtxt(\"numbers.txt\")"
     ],
     "language": "python",
     "metadata": {},
     "outputs": []
    },
    {
     "cell_type": "code",
     "collapsed": false,
     "input": [
      "print arr2[:10,:]"
     ],
     "language": "python",
     "metadata": {},
     "outputs": []
    },
    {
     "cell_type": "code",
     "collapsed": false,
     "input": [],
     "language": "python",
     "metadata": {},
     "outputs": []
    }
   ],
   "metadata": {}
  }
 ]
}