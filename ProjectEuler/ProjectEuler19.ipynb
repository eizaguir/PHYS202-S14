{
 "metadata": {
  "name": "",
  "signature": "sha256:c4cbc19537e500d1930769294dee78d0e8b7ebf49336d842ee71b0e2c2fdeff9"
 },
 "nbformat": 3,
 "nbformat_minor": 0,
 "worksheets": [
  {
   "cells": [
    {
     "cell_type": "heading",
     "level": 1,
     "metadata": {},
     "source": [
      "Project Euler 19"
     ]
    },
    {
     "cell_type": "markdown",
     "metadata": {},
     "source": [
      "You are given the following information, but you may prefer to do some research for yourself.\n",
      "\n",
      "1 Jan 1900 was a Monday.\n",
      "Thirty days has September,\n",
      "April, June and November.\n",
      "All the rest have thirty-one,\n",
      "Saving February alone,\n",
      "Which has twenty-eight, rain or shine.\n",
      "And on leap years, twenty-nine.\n",
      "A leap year occurs on any year evenly divisible by 4, but not on a century unless it is divisible by 400.\n",
      "How many Sundays fell on the first of the month during the twentieth century (1 Jan 1901 to 31 Dec 2000)?"
     ]
    },
    {
     "cell_type": "code",
     "collapsed": false,
     "input": [
      "import numpy as np\n",
      "\n",
      "monthday=0 #stars on January\n",
      "weekday=1 #Jan 1 1901 is a Tuesday\n",
      "totalSunday=0\n",
      "\n",
      "daysinMonth = np.array([31,28,31,30,31,30,31,31,30,31,30,31])\n",
      "\n",
      "for month in range(12):\n",
      "    print month\n",
      "    "
     ],
     "language": "python",
     "metadata": {},
     "outputs": [
      {
       "output_type": "stream",
       "stream": "stdout",
       "text": [
        "0\n",
        "1\n",
        "2\n",
        "3\n",
        "4\n",
        "5\n",
        "6\n",
        "7\n",
        "8\n",
        "9\n",
        "10\n",
        "11\n"
       ]
      }
     ],
     "prompt_number": 62
    },
    {
     "cell_type": "code",
     "collapsed": false,
     "input": [
      "totalSunday=0\n",
      "weekday=1\n",
      "year = 1901\n",
      "while year <= 2000:\n",
      "    if year % 4==0 and (year%100 != 0 or year%400 == 0):\n",
      "        daysinMonth[1] = 29\n",
      "    for month in range(12):\n",
      "        for days in range(daysinMonth[month]):\n",
      "            if weekday == 6:\n",
      "                if days==0:\n",
      "                    totalSunday+=1\n",
      "                weekday=0\n",
      "                continue\n",
      "            if weekday<6:\n",
      "                weekday+=1\n",
      "    daysinMonth[1]=28\n",
      "    year+=1\n",
      "        \n",
      "print totalSunday"
     ],
     "language": "python",
     "metadata": {},
     "outputs": [
      {
       "output_type": "stream",
       "stream": "stdout",
       "text": [
        "171\n"
       ]
      }
     ],
     "prompt_number": 75
    }
   ],
   "metadata": {}
  }
 ]
}