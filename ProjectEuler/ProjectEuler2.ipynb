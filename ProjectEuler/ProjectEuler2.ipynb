{
 "metadata": {
  "name": "",
  "signature": "sha256:9d04aecce49cfdbaca95a22071bf1c8300706a4228d4b50f11c08d3ebcfc98e9"
 },
 "nbformat": 3,
 "nbformat_minor": 0,
 "worksheets": [
  {
   "cells": [
    {
     "cell_type": "heading",
     "level": 1,
     "metadata": {},
     "source": [
      "Even Fibonacci numbers"
     ]
    },
    {
     "cell_type": "code",
     "collapsed": false,
     "input": [
      "import numpy as np\n",
      "sum = 0\n",
      "fib_list = np.zeros(100000)\n",
      "fib_list[0] = 1\n",
      "fib_list[1] = 2\n",
      "for num in range(100000):\n",
      "    if num==0 or num==1:\n",
      "        continue\n",
      "    if fib_list[num-1] >=4000000:\n",
      "        break\n",
      "    fib_list[num] = (fib_list[num-1]+ fib_list[num-2])\n",
      "    \n",
      "for i in fib_list:\n",
      "    if i%2 == 0:\n",
      "        sum+=i\n",
      "        \n",
      "print sum\n"
     ],
     "language": "python",
     "metadata": {},
     "outputs": [
      {
       "output_type": "stream",
       "stream": "stdout",
       "text": [
        "4613732.0\n"
       ]
      }
     ],
     "prompt_number": 20
    },
    {
     "cell_type": "code",
     "collapsed": false,
     "input": [],
     "language": "python",
     "metadata": {},
     "outputs": [],
     "prompt_number": 14
    },
    {
     "cell_type": "code",
     "collapsed": false,
     "input": [],
     "language": "python",
     "metadata": {},
     "outputs": [],
     "prompt_number": 6
    },
    {
     "cell_type": "code",
     "collapsed": false,
     "input": [],
     "language": "python",
     "metadata": {},
     "outputs": []
    }
   ],
   "metadata": {}
  }
 ]
}