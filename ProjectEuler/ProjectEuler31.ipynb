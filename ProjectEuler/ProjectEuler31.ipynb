{
 "metadata": {
  "name": "",
  "signature": "sha256:2bb73674a6f5842350159c964b01ede0690322c8a76a443f183000680c5b2039"
 },
 "nbformat": 3,
 "nbformat_minor": 0,
 "worksheets": [
  {
   "cells": [
    {
     "cell_type": "heading",
     "level": 1,
     "metadata": {},
     "source": [
      "ProjectEuler31: Coin Sums"
     ]
    },
    {
     "cell_type": "code",
     "collapsed": false,
     "input": [
      "DNations = [200, 100, 50, 10 , 5, 2, 1]"
     ],
     "language": "python",
     "metadata": {},
     "outputs": [],
     "prompt_number": 3
    },
    {
     "cell_type": "code",
     "collapsed": false,
     "input": [
      "def coinsum(denominations, total, numcomb=0):\n",
      "    print \"DNations are : \" + str(denominations) + \"\\nNumcomb is : \" + str(numcomb)\n",
      "    print \"Total is: \" + str(total)+\"\\n\"\n",
      "    if(len(denominations)==1):\n",
      "        return numcomb+1\n",
      "    else:\n",
      "        if (total - denominations[0]) == 0:\n",
      "            numcomb+=1\n",
      "            return numcomb + coinsum(denominations[1:], total-denominations[1], numcomb)\n",
      "        else:\n",
      "            return numcomb + coinsum(denominations, abs(total-denominations[1]),numcomb)\n",
      "        \n",
      "# Recursive code, which takes one coin out of each currency, always asking how to build the next total - current column denomination. ***\n",
      "\n",
      "\n",
      "        "
     ],
     "language": "python",
     "metadata": {},
     "outputs": [],
     "prompt_number": 11
    },
    {
     "cell_type": "code",
     "collapsed": false,
     "input": [
      "print coinsum(DNations, 200)"
     ],
     "language": "python",
     "metadata": {},
     "outputs": [
      {
       "output_type": "stream",
       "stream": "stdout",
       "text": [
        "DNations are : [200, 100, 50, 10, 5, 2, 1]\n",
        "Numcomb is : 0\n",
        "Total is: 200\n",
        "\n",
        "DNations are : [100, 50, 10, 5, 2, 1]\n",
        "Numcomb is : 1\n",
        "Total is: 100\n",
        "\n",
        "DNations are : [50, 10, 5, 2, 1]\n",
        "Numcomb is : 2\n",
        "Total is: 50\n",
        "\n",
        "DNations are : [10, 5, 2, 1]\n",
        "Numcomb is : 3\n",
        "Total is: 40\n",
        "\n",
        "DNations are : [10, 5, 2, 1]\n",
        "Numcomb is : 3\n",
        "Total is: 35\n",
        "\n",
        "DNations are : [10, 5, 2, 1]\n",
        "Numcomb is : 3\n",
        "Total is: 30\n",
        "\n",
        "DNations are : [10, 5, 2, 1]\n",
        "Numcomb is : 3\n",
        "Total is: 25\n",
        "\n",
        "DNations are : [10, 5, 2, 1]\n",
        "Numcomb is : 3\n",
        "Total is: 20\n",
        "\n",
        "DNations are : [10, 5, 2, 1]\n",
        "Numcomb is : 3\n",
        "Total is: 15\n",
        "\n",
        "DNations are : [10, 5, 2, 1]\n",
        "Numcomb is : 3\n",
        "Total is: 10\n",
        "\n",
        "DNations are : [5, 2, 1]\n",
        "Numcomb is : 4\n",
        "Total is: 5\n",
        "\n",
        "DNations are : [2, 1]\n",
        "Numcomb is : 5\n",
        "Total is: 3\n",
        "\n",
        "DNations are : [2, 1]\n",
        "Numcomb is : 5\n",
        "Total is: 2\n",
        "\n",
        "DNations are : [1]\n",
        "Numcomb is : 6\n",
        "Total is: 1\n",
        "\n",
        "51\n"
       ]
      }
     ],
     "prompt_number": 12
    },
    {
     "cell_type": "code",
     "collapsed": false,
     "input": [],
     "language": "python",
     "metadata": {},
     "outputs": [],
     "prompt_number": 7
    },
    {
     "cell_type": "code",
     "collapsed": false,
     "input": [],
     "language": "python",
     "metadata": {},
     "outputs": []
    }
   ],
   "metadata": {}
  }
 ]
}