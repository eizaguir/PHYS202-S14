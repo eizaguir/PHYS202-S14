{
 "metadata": {
  "name": "",
  "signature": "sha256:a51fb74d3125436d8e9e0dea8bad640d0c24051bd097609b0425b651605437bd"
 },
 "nbformat": 3,
 "nbformat_minor": 0,
 "worksheets": [
  {
   "cells": [
    {
     "cell_type": "heading",
     "level": 1,
     "metadata": {},
     "source": [
      "ProjectEuler31: Coin Sums"
     ]
    },
    {
     "cell_type": "code",
     "collapsed": false,
     "input": [],
     "language": "python",
     "metadata": {},
     "outputs": []
    }
   ],
   "metadata": {}
  }
 ]
}